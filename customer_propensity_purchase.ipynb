{
 "cells": [
  {
   "cell_type": "markdown",
   "id": "b5f498e3",
   "metadata": {},
   "source": [
    "# Assumptions & Considerations"
   ]
  },
  {
   "cell_type": "markdown",
   "id": "ba499b42",
   "metadata": {},
   "source": [
    "## Columns\n",
    "\n",
    "- Quantity, Rate and Total Price columns has informations only when the user purchases.\n",
    "- Rate is the price per unity of product.\n",
    "- Total price is the quantity multiplied by the rate. "
   ]
  },
  {
   "cell_type": "markdown",
   "id": "779a1b0a",
   "metadata": {},
   "source": [
    "## Propensity Models\n",
    "\n",
    "- They are predictive models to determine the behavior of users based on past behavior. \n",
    "- This helps us to create customized campaigns to the users."
   ]
  },
  {
   "cell_type": "markdown",
   "id": "a8ff1de5",
   "metadata": {},
   "source": [
    "1. Data time range - 1 year (2019).\n",
    "2. Trigger based modelling approach - what is the propensity of buying after a user does the intended action (here it is added to cart). \n",
    "3. Only users who added the products to cart are considered in this analysis (ignoring users who made a direct buy because there is no trigger).\n",
    "4. RFM features are used to improve the performance of the model for the existing users."
   ]
  },
  {
   "cell_type": "markdown",
   "id": "a86a167a",
   "metadata": {},
   "source": [
    "# Libraries"
   ]
  },
  {
   "cell_type": "code",
   "execution_count": 1,
   "id": "7ae80e04",
   "metadata": {
    "ExecuteTime": {
     "end_time": "2023-01-28T12:27:13.922780Z",
     "start_time": "2023-01-28T12:27:11.530730Z"
    }
   },
   "outputs": [],
   "source": [
    "import inflection \n",
    "import pandas as pd\n",
    "import numpy as np\n",
    "\n",
    "import matplotlib.pyplot as plt\n",
    "import seaborn as sns\n",
    "sns.set()\n",
    "\n",
    "import warnings \n",
    "warnings.filterwarnings('ignore')\n",
    "\n",
    "from datetime import datetime"
   ]
  },
  {
   "cell_type": "markdown",
   "id": "f16b733d",
   "metadata": {},
   "source": [
    "# Loading Data"
   ]
  },
  {
   "cell_type": "code",
   "execution_count": 2,
   "id": "7582e8d7",
   "metadata": {
    "ExecuteTime": {
     "end_time": "2023-01-28T12:27:14.450257Z",
     "start_time": "2023-01-28T12:27:13.925598Z"
    }
   },
   "outputs": [
    {
     "data": {
      "text/html": [
       "<div>\n",
       "<style scoped>\n",
       "    .dataframe tbody tr th:only-of-type {\n",
       "        vertical-align: middle;\n",
       "    }\n",
       "\n",
       "    .dataframe tbody tr th {\n",
       "        vertical-align: top;\n",
       "    }\n",
       "\n",
       "    .dataframe thead th {\n",
       "        text-align: right;\n",
       "    }\n",
       "</style>\n",
       "<table border=\"1\" class=\"dataframe\">\n",
       "  <thead>\n",
       "    <tr style=\"text-align: right;\">\n",
       "      <th></th>\n",
       "      <th>User_id</th>\n",
       "      <th>Session_id</th>\n",
       "      <th>DateTime</th>\n",
       "      <th>Category</th>\n",
       "      <th>SubCategory</th>\n",
       "      <th>Action</th>\n",
       "      <th>Quantity</th>\n",
       "      <th>Rate</th>\n",
       "      <th>Total Price</th>\n",
       "    </tr>\n",
       "  </thead>\n",
       "  <tbody>\n",
       "    <tr>\n",
       "      <th>0</th>\n",
       "      <td>52243841613</td>\n",
       "      <td>d76fde-8bb3-4e00-8c23</td>\n",
       "      <td>2019-01-10 10:20:00</td>\n",
       "      <td>Electronic Appliances</td>\n",
       "      <td>Speakers</td>\n",
       "      <td>first_app_open</td>\n",
       "      <td>NaN</td>\n",
       "      <td>NaN</td>\n",
       "      <td>NaN</td>\n",
       "    </tr>\n",
       "    <tr>\n",
       "      <th>1</th>\n",
       "      <td>52243841613</td>\n",
       "      <td>33dfbd-b87a-4708-9857</td>\n",
       "      <td>2019-01-10 10:22:00</td>\n",
       "      <td>Electronic Appliances</td>\n",
       "      <td>Speakers</td>\n",
       "      <td>search</td>\n",
       "      <td>NaN</td>\n",
       "      <td>NaN</td>\n",
       "      <td>NaN</td>\n",
       "    </tr>\n",
       "    <tr>\n",
       "      <th>2</th>\n",
       "      <td>57314161118</td>\n",
       "      <td>6511c2-e2e3-422b-b695</td>\n",
       "      <td>2019-01-10 14:00:00</td>\n",
       "      <td>Men's Fashion</td>\n",
       "      <td>Jeans</td>\n",
       "      <td>search</td>\n",
       "      <td>NaN</td>\n",
       "      <td>NaN</td>\n",
       "      <td>NaN</td>\n",
       "    </tr>\n",
       "    <tr>\n",
       "      <th>3</th>\n",
       "      <td>57314161118</td>\n",
       "      <td>90fc70-0e80-4590-96f3</td>\n",
       "      <td>2019-01-10 14:07:00</td>\n",
       "      <td>Men's Fashion</td>\n",
       "      <td>Jeans</td>\n",
       "      <td>product_view</td>\n",
       "      <td>NaN</td>\n",
       "      <td>NaN</td>\n",
       "      <td>NaN</td>\n",
       "    </tr>\n",
       "    <tr>\n",
       "      <th>4</th>\n",
       "      <td>57314161118</td>\n",
       "      <td>bd7419-2748-4c56-95b4</td>\n",
       "      <td>2019-01-10 14:12:00</td>\n",
       "      <td>Men's Fashion</td>\n",
       "      <td>Jeans</td>\n",
       "      <td>read_reviews</td>\n",
       "      <td>NaN</td>\n",
       "      <td>NaN</td>\n",
       "      <td>NaN</td>\n",
       "    </tr>\n",
       "  </tbody>\n",
       "</table>\n",
       "</div>"
      ],
      "text/plain": [
       "       User_id             Session_id             DateTime  \\\n",
       "0  52243841613  d76fde-8bb3-4e00-8c23  2019-01-10 10:20:00   \n",
       "1  52243841613  33dfbd-b87a-4708-9857  2019-01-10 10:22:00   \n",
       "2  57314161118  6511c2-e2e3-422b-b695  2019-01-10 14:00:00   \n",
       "3  57314161118  90fc70-0e80-4590-96f3  2019-01-10 14:07:00   \n",
       "4  57314161118  bd7419-2748-4c56-95b4  2019-01-10 14:12:00   \n",
       "\n",
       "                Category SubCategory          Action  Quantity  Rate  \\\n",
       "0  Electronic Appliances    Speakers  first_app_open       NaN   NaN   \n",
       "1  Electronic Appliances    Speakers          search       NaN   NaN   \n",
       "2          Men's Fashion       Jeans          search       NaN   NaN   \n",
       "3          Men's Fashion       Jeans    product_view       NaN   NaN   \n",
       "4          Men's Fashion       Jeans    read_reviews       NaN   NaN   \n",
       "\n",
       "   Total Price  \n",
       "0          NaN  \n",
       "1          NaN  \n",
       "2          NaN  \n",
       "3          NaN  \n",
       "4          NaN  "
      ]
     },
     "execution_count": 2,
     "metadata": {},
     "output_type": "execute_result"
    }
   ],
   "source": [
    "data = pd.read_excel('data/final_customer_data.xlsx')\n",
    "data.head()"
   ]
  },
  {
   "cell_type": "markdown",
   "id": "7514dc45",
   "metadata": {},
   "source": [
    "# 1. Data Description"
   ]
  },
  {
   "cell_type": "code",
   "execution_count": 3,
   "id": "bf0f7c0c",
   "metadata": {
    "ExecuteTime": {
     "end_time": "2023-01-28T12:27:14.454949Z",
     "start_time": "2023-01-28T12:27:14.452344Z"
    }
   },
   "outputs": [],
   "source": [
    "df1 = data.copy()"
   ]
  },
  {
   "cell_type": "markdown",
   "id": "52828da2",
   "metadata": {},
   "source": [
    "## Data Fields Meaning\n",
    "\n",
    "- User_id: unique identifier for each user.\n",
    "\n",
    "- Session_id: unique identifier that generates every time a user enters the app and it will expire when the user exits the app. \n",
    "\n",
    "- DateTime: timestamp when a particular action is performed. \n",
    "\n",
    "- Category: product category.\n",
    "\n",
    "- SubCategory: product sub category. \n",
    "\n",
    "- Actions: these are the event, the actions the users can do in the app. These action may be product view, read reviews, purchase, add to cart, etc.\n",
    "\n",
    "- Quantity: number of products ordered.\n",
    "\n",
    "- Rate: it is the price per unity of product.\n",
    "\n",
    "- Total price is the quantity multiplied by the rate."
   ]
  },
  {
   "cell_type": "markdown",
   "id": "66e771f8",
   "metadata": {},
   "source": [
    "## 1.1. Rename Columns"
   ]
  },
  {
   "cell_type": "markdown",
   "id": "437674de",
   "metadata": {},
   "source": [
    "We are going to rename columns from camel case to snake case."
   ]
  },
  {
   "cell_type": "code",
   "execution_count": 4,
   "id": "632e3c13",
   "metadata": {
    "ExecuteTime": {
     "end_time": "2023-01-28T12:27:14.462031Z",
     "start_time": "2023-01-28T12:27:14.457806Z"
    }
   },
   "outputs": [
    {
     "data": {
      "text/plain": [
       "Index(['User_id', 'Session_id', 'DateTime', 'Category', 'SubCategory',\n",
       "       'Action', 'Quantity', 'Rate', 'Total Price'],\n",
       "      dtype='object')"
      ]
     },
     "execution_count": 4,
     "metadata": {},
     "output_type": "execute_result"
    }
   ],
   "source": [
    "df1.columns"
   ]
  },
  {
   "cell_type": "code",
   "execution_count": 5,
   "id": "7c2fcbd6",
   "metadata": {
    "ExecuteTime": {
     "end_time": "2023-01-28T12:27:14.469241Z",
     "start_time": "2023-01-28T12:27:14.464410Z"
    }
   },
   "outputs": [],
   "source": [
    "cols_old = ['User_id', 'Session_id', 'DateTime', 'Category', 'SubCategory',\n",
    "            'Action', 'Quantity', 'Rate', 'TotalPrice']\n",
    "\n",
    "snake_case = lambda x: inflection.underscore(x)\n",
    "\n",
    "cols_new = list(map(snake_case, cols_old))\n",
    "\n",
    "#rename\n",
    "df1.columns = cols_new"
   ]
  },
  {
   "cell_type": "code",
   "execution_count": 6,
   "id": "361044fe",
   "metadata": {
    "ExecuteTime": {
     "end_time": "2023-01-28T12:27:14.475650Z",
     "start_time": "2023-01-28T12:27:14.471434Z"
    }
   },
   "outputs": [
    {
     "data": {
      "text/plain": [
       "Index(['user_id', 'session_id', 'date_time', 'category', 'sub_category',\n",
       "       'action', 'quantity', 'rate', 'total_price'],\n",
       "      dtype='object')"
      ]
     },
     "execution_count": 6,
     "metadata": {},
     "output_type": "execute_result"
    }
   ],
   "source": [
    "df1.columns"
   ]
  },
  {
   "cell_type": "markdown",
   "id": "11598472",
   "metadata": {},
   "source": [
    "## 1.2. Data Dimensions"
   ]
  },
  {
   "cell_type": "code",
   "execution_count": 7,
   "id": "52c7542e",
   "metadata": {
    "ExecuteTime": {
     "end_time": "2023-01-28T12:27:14.481374Z",
     "start_time": "2023-01-28T12:27:14.477623Z"
    }
   },
   "outputs": [
    {
     "name": "stdout",
     "output_type": "stream",
     "text": [
      "Number of rows: 2090\n",
      "Number of cols: 9\n"
     ]
    }
   ],
   "source": [
    "print(\"Number of rows: {}\".format(df1.shape[0]))\n",
    "print(\"Number of cols: {}\".format(df1.shape[1]))"
   ]
  },
  {
   "cell_type": "markdown",
   "id": "de81ed61",
   "metadata": {},
   "source": [
    "## 1.3. Data Types"
   ]
  },
  {
   "cell_type": "code",
   "execution_count": 8,
   "id": "88e1ac7a",
   "metadata": {
    "ExecuteTime": {
     "end_time": "2023-01-28T12:27:14.488244Z",
     "start_time": "2023-01-28T12:27:14.483374Z"
    }
   },
   "outputs": [
    {
     "data": {
      "text/plain": [
       "user_id           int64\n",
       "session_id       object\n",
       "date_time        object\n",
       "category         object\n",
       "sub_category     object\n",
       "action           object\n",
       "quantity        float64\n",
       "rate            float64\n",
       "total_price     float64\n",
       "dtype: object"
      ]
     },
     "execution_count": 8,
     "metadata": {},
     "output_type": "execute_result"
    }
   ],
   "source": [
    "df1.dtypes"
   ]
  },
  {
   "cell_type": "code",
   "execution_count": 9,
   "id": "33e6721a",
   "metadata": {
    "ExecuteTime": {
     "end_time": "2023-01-28T12:27:14.500390Z",
     "start_time": "2023-01-28T12:27:14.490219Z"
    }
   },
   "outputs": [
    {
     "data": {
      "text/html": [
       "<div>\n",
       "<style scoped>\n",
       "    .dataframe tbody tr th:only-of-type {\n",
       "        vertical-align: middle;\n",
       "    }\n",
       "\n",
       "    .dataframe tbody tr th {\n",
       "        vertical-align: top;\n",
       "    }\n",
       "\n",
       "    .dataframe thead th {\n",
       "        text-align: right;\n",
       "    }\n",
       "</style>\n",
       "<table border=\"1\" class=\"dataframe\">\n",
       "  <thead>\n",
       "    <tr style=\"text-align: right;\">\n",
       "      <th></th>\n",
       "      <th>user_id</th>\n",
       "      <th>session_id</th>\n",
       "      <th>date_time</th>\n",
       "      <th>category</th>\n",
       "      <th>sub_category</th>\n",
       "      <th>action</th>\n",
       "      <th>quantity</th>\n",
       "      <th>rate</th>\n",
       "      <th>total_price</th>\n",
       "    </tr>\n",
       "  </thead>\n",
       "  <tbody>\n",
       "    <tr>\n",
       "      <th>0</th>\n",
       "      <td>52243841613</td>\n",
       "      <td>d76fde-8bb3-4e00-8c23</td>\n",
       "      <td>2019-01-10 10:20:00</td>\n",
       "      <td>Electronic Appliances</td>\n",
       "      <td>Speakers</td>\n",
       "      <td>first_app_open</td>\n",
       "      <td>NaN</td>\n",
       "      <td>NaN</td>\n",
       "      <td>NaN</td>\n",
       "    </tr>\n",
       "    <tr>\n",
       "      <th>1</th>\n",
       "      <td>52243841613</td>\n",
       "      <td>33dfbd-b87a-4708-9857</td>\n",
       "      <td>2019-01-10 10:22:00</td>\n",
       "      <td>Electronic Appliances</td>\n",
       "      <td>Speakers</td>\n",
       "      <td>search</td>\n",
       "      <td>NaN</td>\n",
       "      <td>NaN</td>\n",
       "      <td>NaN</td>\n",
       "    </tr>\n",
       "    <tr>\n",
       "      <th>2</th>\n",
       "      <td>57314161118</td>\n",
       "      <td>6511c2-e2e3-422b-b695</td>\n",
       "      <td>2019-01-10 14:00:00</td>\n",
       "      <td>Men's Fashion</td>\n",
       "      <td>Jeans</td>\n",
       "      <td>search</td>\n",
       "      <td>NaN</td>\n",
       "      <td>NaN</td>\n",
       "      <td>NaN</td>\n",
       "    </tr>\n",
       "  </tbody>\n",
       "</table>\n",
       "</div>"
      ],
      "text/plain": [
       "       user_id             session_id            date_time  \\\n",
       "0  52243841613  d76fde-8bb3-4e00-8c23  2019-01-10 10:20:00   \n",
       "1  52243841613  33dfbd-b87a-4708-9857  2019-01-10 10:22:00   \n",
       "2  57314161118  6511c2-e2e3-422b-b695  2019-01-10 14:00:00   \n",
       "\n",
       "                category sub_category          action  quantity  rate  \\\n",
       "0  Electronic Appliances     Speakers  first_app_open       NaN   NaN   \n",
       "1  Electronic Appliances     Speakers          search       NaN   NaN   \n",
       "2          Men's Fashion        Jeans          search       NaN   NaN   \n",
       "\n",
       "   total_price  \n",
       "0          NaN  \n",
       "1          NaN  \n",
       "2          NaN  "
      ]
     },
     "execution_count": 9,
     "metadata": {},
     "output_type": "execute_result"
    }
   ],
   "source": [
    "df1.head(3)"
   ]
  },
  {
   "cell_type": "markdown",
   "id": "aad23136",
   "metadata": {},
   "source": [
    "### 1.3.1. Data conversion"
   ]
  },
  {
   "cell_type": "code",
   "execution_count": 10,
   "id": "d4dcff03",
   "metadata": {
    "ExecuteTime": {
     "end_time": "2023-01-28T12:27:14.579870Z",
     "start_time": "2023-01-28T12:27:14.504895Z"
    }
   },
   "outputs": [
    {
     "data": {
      "text/html": [
       "<div>\n",
       "<style scoped>\n",
       "    .dataframe tbody tr th:only-of-type {\n",
       "        vertical-align: middle;\n",
       "    }\n",
       "\n",
       "    .dataframe tbody tr th {\n",
       "        vertical-align: top;\n",
       "    }\n",
       "\n",
       "    .dataframe thead th {\n",
       "        text-align: right;\n",
       "    }\n",
       "</style>\n",
       "<table border=\"1\" class=\"dataframe\">\n",
       "  <thead>\n",
       "    <tr style=\"text-align: right;\">\n",
       "      <th></th>\n",
       "      <th>user_id</th>\n",
       "      <th>session_id</th>\n",
       "      <th>date_time</th>\n",
       "      <th>category</th>\n",
       "      <th>sub_category</th>\n",
       "      <th>action</th>\n",
       "      <th>quantity</th>\n",
       "      <th>rate</th>\n",
       "      <th>total_price</th>\n",
       "    </tr>\n",
       "  </thead>\n",
       "  <tbody>\n",
       "    <tr>\n",
       "      <th>0</th>\n",
       "      <td>52243841613</td>\n",
       "      <td>d76fde-8bb3-4e00-8c23</td>\n",
       "      <td>2019-01-10 10:20:00</td>\n",
       "      <td>Electronic Appliances</td>\n",
       "      <td>Speakers</td>\n",
       "      <td>first_app_open</td>\n",
       "      <td>NaN</td>\n",
       "      <td>NaN</td>\n",
       "      <td>NaN</td>\n",
       "    </tr>\n",
       "    <tr>\n",
       "      <th>1</th>\n",
       "      <td>52243841613</td>\n",
       "      <td>33dfbd-b87a-4708-9857</td>\n",
       "      <td>2019-01-10 10:22:00</td>\n",
       "      <td>Electronic Appliances</td>\n",
       "      <td>Speakers</td>\n",
       "      <td>search</td>\n",
       "      <td>NaN</td>\n",
       "      <td>NaN</td>\n",
       "      <td>NaN</td>\n",
       "    </tr>\n",
       "    <tr>\n",
       "      <th>2</th>\n",
       "      <td>57314161118</td>\n",
       "      <td>6511c2-e2e3-422b-b695</td>\n",
       "      <td>2019-01-10 14:00:00</td>\n",
       "      <td>Men's Fashion</td>\n",
       "      <td>Jeans</td>\n",
       "      <td>search</td>\n",
       "      <td>NaN</td>\n",
       "      <td>NaN</td>\n",
       "      <td>NaN</td>\n",
       "    </tr>\n",
       "    <tr>\n",
       "      <th>3</th>\n",
       "      <td>57314161118</td>\n",
       "      <td>90fc70-0e80-4590-96f3</td>\n",
       "      <td>2019-01-10 14:07:00</td>\n",
       "      <td>Men's Fashion</td>\n",
       "      <td>Jeans</td>\n",
       "      <td>product_view</td>\n",
       "      <td>NaN</td>\n",
       "      <td>NaN</td>\n",
       "      <td>NaN</td>\n",
       "    </tr>\n",
       "    <tr>\n",
       "      <th>4</th>\n",
       "      <td>57314161118</td>\n",
       "      <td>bd7419-2748-4c56-95b4</td>\n",
       "      <td>2019-01-10 14:12:00</td>\n",
       "      <td>Men's Fashion</td>\n",
       "      <td>Jeans</td>\n",
       "      <td>read_reviews</td>\n",
       "      <td>NaN</td>\n",
       "      <td>NaN</td>\n",
       "      <td>NaN</td>\n",
       "    </tr>\n",
       "  </tbody>\n",
       "</table>\n",
       "</div>"
      ],
      "text/plain": [
       "       user_id             session_id           date_time  \\\n",
       "0  52243841613  d76fde-8bb3-4e00-8c23 2019-01-10 10:20:00   \n",
       "1  52243841613  33dfbd-b87a-4708-9857 2019-01-10 10:22:00   \n",
       "2  57314161118  6511c2-e2e3-422b-b695 2019-01-10 14:00:00   \n",
       "3  57314161118  90fc70-0e80-4590-96f3 2019-01-10 14:07:00   \n",
       "4  57314161118  bd7419-2748-4c56-95b4 2019-01-10 14:12:00   \n",
       "\n",
       "                category sub_category          action  quantity  rate  \\\n",
       "0  Electronic Appliances     Speakers  first_app_open       NaN   NaN   \n",
       "1  Electronic Appliances     Speakers          search       NaN   NaN   \n",
       "2          Men's Fashion        Jeans          search       NaN   NaN   \n",
       "3          Men's Fashion        Jeans    product_view       NaN   NaN   \n",
       "4          Men's Fashion        Jeans    read_reviews       NaN   NaN   \n",
       "\n",
       "   total_price  \n",
       "0          NaN  \n",
       "1          NaN  \n",
       "2          NaN  \n",
       "3          NaN  \n",
       "4          NaN  "
      ]
     },
     "execution_count": 10,
     "metadata": {},
     "output_type": "execute_result"
    }
   ],
   "source": [
    "df1[\"date_time\"] = pd.to_datetime(df1[\"date_time\"])\n",
    "df1.head()"
   ]
  },
  {
   "cell_type": "code",
   "execution_count": 11,
   "id": "728c5923",
   "metadata": {
    "ExecuteTime": {
     "end_time": "2023-01-28T12:27:14.587311Z",
     "start_time": "2023-01-28T12:27:14.582134Z"
    }
   },
   "outputs": [
    {
     "data": {
      "text/plain": [
       "user_id                  int64\n",
       "session_id              object\n",
       "date_time       datetime64[ns]\n",
       "category                object\n",
       "sub_category            object\n",
       "action                  object\n",
       "quantity               float64\n",
       "rate                   float64\n",
       "total_price            float64\n",
       "dtype: object"
      ]
     },
     "execution_count": 11,
     "metadata": {},
     "output_type": "execute_result"
    }
   ],
   "source": [
    "df1.dtypes"
   ]
  },
  {
   "cell_type": "markdown",
   "id": "6ce154c2",
   "metadata": {},
   "source": [
    "## 1.4. NA Check"
   ]
  },
  {
   "cell_type": "code",
   "execution_count": 12,
   "id": "dea629c2",
   "metadata": {
    "ExecuteTime": {
     "end_time": "2023-01-28T12:30:28.306936Z",
     "start_time": "2023-01-28T12:30:28.299703Z"
    }
   },
   "outputs": [
    {
     "data": {
      "text/plain": [
       "user_id            0\n",
       "session_id         0\n",
       "date_time          0\n",
       "category           0\n",
       "sub_category       0\n",
       "action             0\n",
       "quantity        1889\n",
       "rate            1889\n",
       "total_price     1889\n",
       "dtype: int64"
      ]
     },
     "execution_count": 12,
     "metadata": {},
     "output_type": "execute_result"
    }
   ],
   "source": [
    "df1.isna().sum()"
   ]
  },
  {
   "cell_type": "code",
   "execution_count": 13,
   "id": "47f25749",
   "metadata": {
    "ExecuteTime": {
     "end_time": "2023-01-28T12:30:47.969045Z",
     "start_time": "2023-01-28T12:30:47.961623Z"
    }
   },
   "outputs": [
    {
     "data": {
      "text/plain": [
       "user_id         0.000000\n",
       "session_id      0.000000\n",
       "date_time       0.000000\n",
       "category        0.000000\n",
       "sub_category    0.000000\n",
       "action          0.000000\n",
       "quantity        0.903828\n",
       "rate            0.903828\n",
       "total_price     0.903828\n",
       "dtype: float64"
      ]
     },
     "execution_count": 13,
     "metadata": {},
     "output_type": "execute_result"
    }
   ],
   "source": [
    "df1.isna().sum()/len(df1)"
   ]
  },
  {
   "cell_type": "markdown",
   "id": "732b1d37",
   "metadata": {},
   "source": [
    "## 1.5. Removing NA "
   ]
  },
  {
   "cell_type": "markdown",
   "id": "7d2ea187",
   "metadata": {},
   "source": [
    "As we know, the columns quantity, rate and total_price only have informations when the user purchases at least one product. Since these columns have around 90% of NA values, we cannot simply remove those rows. Thus, we are going to assume a value equals zero instead of NA value for this situation."
   ]
  },
  {
   "cell_type": "code",
   "execution_count": 14,
   "id": "2e44c811",
   "metadata": {
    "ExecuteTime": {
     "end_time": "2023-01-28T12:36:35.935308Z",
     "start_time": "2023-01-28T12:36:35.930750Z"
    }
   },
   "outputs": [],
   "source": [
    "# quantity\n",
    "df1['quantity'] = df1['quantity'].fillna(0)\n",
    "\n",
    "# rate\n",
    "df1['rate'] = df1['rate'].fillna(0)\n",
    "\n",
    "# total_price\n",
    "df1['total_price'] = df1['total_price'].fillna(0)"
   ]
  },
  {
   "cell_type": "code",
   "execution_count": 15,
   "id": "76a9b31e",
   "metadata": {
    "ExecuteTime": {
     "end_time": "2023-01-28T12:36:49.124824Z",
     "start_time": "2023-01-28T12:36:49.117838Z"
    }
   },
   "outputs": [
    {
     "data": {
      "text/plain": [
       "user_id         0\n",
       "session_id      0\n",
       "date_time       0\n",
       "category        0\n",
       "sub_category    0\n",
       "action          0\n",
       "quantity        0\n",
       "rate            0\n",
       "total_price     0\n",
       "dtype: int64"
      ]
     },
     "execution_count": 15,
     "metadata": {},
     "output_type": "execute_result"
    }
   ],
   "source": [
    "df1.isna().sum()"
   ]
  },
  {
   "cell_type": "code",
   "execution_count": null,
   "id": "1d03c799",
   "metadata": {},
   "outputs": [],
   "source": []
  }
 ],
 "metadata": {
  "kernelspec": {
   "display_name": "Python 3 (ipykernel)",
   "language": "python",
   "name": "python3"
  },
  "language_info": {
   "codemirror_mode": {
    "name": "ipython",
    "version": 3
   },
   "file_extension": ".py",
   "mimetype": "text/x-python",
   "name": "python",
   "nbconvert_exporter": "python",
   "pygments_lexer": "ipython3",
   "version": "3.9.13"
  }
 },
 "nbformat": 4,
 "nbformat_minor": 5
}
