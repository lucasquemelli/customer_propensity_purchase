{
 "cells": [
  {
   "cell_type": "markdown",
   "id": "6197d599",
   "metadata": {},
   "source": [
    "# Assumptions & Considerations"
   ]
  },
  {
   "cell_type": "markdown",
   "id": "cf51fcd7",
   "metadata": {},
   "source": [
    "## Columns\n",
    "\n",
    "- Quantity, Rate and Total Price columns has informations only when the user purchases.\n",
    "- Rate is the price per unity of product.\n",
    "- Total price is the quantity multiplied by the rate. "
   ]
  },
  {
   "cell_type": "markdown",
   "id": "9e807b21",
   "metadata": {},
   "source": [
    "## Propensity Models\n",
    "\n",
    "- They are predictive models to determine the behavior of users based on past behavior. \n",
    "- This helps us to create customized campaigns to the users."
   ]
  },
  {
   "cell_type": "markdown",
   "id": "917d41dc",
   "metadata": {},
   "source": [
    "1. Data time range - 1 year (2019).\n",
    "2. Trigger based modelling approach - what is the propensity of buying after a user does the intended action (here it is added to cart). \n",
    "3. Only users who added the products to cart are considered in this analysis (ignoring users who made a direct buy because there is no trigger).\n",
    "4. RFM features are used to improve the performance of the model for the existing users."
   ]
  },
  {
   "cell_type": "markdown",
   "id": "37d99887",
   "metadata": {},
   "source": [
    "# Libraries"
   ]
  },
  {
   "cell_type": "code",
   "execution_count": 1,
   "id": "c4c405be",
   "metadata": {
    "ExecuteTime": {
     "end_time": "2023-01-28T13:37:34.617088Z",
     "start_time": "2023-01-28T13:37:32.133150Z"
    }
   },
   "outputs": [],
   "source": [
    "import inflection \n",
    "import pandas as pd\n",
    "import numpy as np\n",
    "\n",
    "import matplotlib.pyplot as plt\n",
    "import seaborn as sns\n",
    "sns.set()\n",
    "\n",
    "import warnings \n",
    "warnings.filterwarnings('ignore')\n",
    "\n",
    "from datetime import datetime"
   ]
  },
  {
   "cell_type": "markdown",
   "id": "fed117a0",
   "metadata": {},
   "source": [
    "# Helper Functions"
   ]
  },
  {
   "cell_type": "code",
   "execution_count": null,
   "id": "6b5ee2b6",
   "metadata": {},
   "outputs": [],
   "source": []
  },
  {
   "cell_type": "markdown",
   "id": "7f3dc51e",
   "metadata": {},
   "source": [
    "# Loading Data"
   ]
  },
  {
   "cell_type": "code",
   "execution_count": 2,
   "id": "bdd223cb",
   "metadata": {
    "ExecuteTime": {
     "end_time": "2023-01-28T13:37:35.179037Z",
     "start_time": "2023-01-28T13:37:34.619660Z"
    }
   },
   "outputs": [
    {
     "data": {
      "text/html": [
       "<div>\n",
       "<style scoped>\n",
       "    .dataframe tbody tr th:only-of-type {\n",
       "        vertical-align: middle;\n",
       "    }\n",
       "\n",
       "    .dataframe tbody tr th {\n",
       "        vertical-align: top;\n",
       "    }\n",
       "\n",
       "    .dataframe thead th {\n",
       "        text-align: right;\n",
       "    }\n",
       "</style>\n",
       "<table border=\"1\" class=\"dataframe\">\n",
       "  <thead>\n",
       "    <tr style=\"text-align: right;\">\n",
       "      <th></th>\n",
       "      <th>User_id</th>\n",
       "      <th>Session_id</th>\n",
       "      <th>DateTime</th>\n",
       "      <th>Category</th>\n",
       "      <th>SubCategory</th>\n",
       "      <th>Action</th>\n",
       "      <th>Quantity</th>\n",
       "      <th>Rate</th>\n",
       "      <th>Total Price</th>\n",
       "    </tr>\n",
       "  </thead>\n",
       "  <tbody>\n",
       "    <tr>\n",
       "      <th>0</th>\n",
       "      <td>52243841613</td>\n",
       "      <td>d76fde-8bb3-4e00-8c23</td>\n",
       "      <td>2019-01-10 10:20:00</td>\n",
       "      <td>Electronic Appliances</td>\n",
       "      <td>Speakers</td>\n",
       "      <td>first_app_open</td>\n",
       "      <td>NaN</td>\n",
       "      <td>NaN</td>\n",
       "      <td>NaN</td>\n",
       "    </tr>\n",
       "    <tr>\n",
       "      <th>1</th>\n",
       "      <td>52243841613</td>\n",
       "      <td>33dfbd-b87a-4708-9857</td>\n",
       "      <td>2019-01-10 10:22:00</td>\n",
       "      <td>Electronic Appliances</td>\n",
       "      <td>Speakers</td>\n",
       "      <td>search</td>\n",
       "      <td>NaN</td>\n",
       "      <td>NaN</td>\n",
       "      <td>NaN</td>\n",
       "    </tr>\n",
       "    <tr>\n",
       "      <th>2</th>\n",
       "      <td>57314161118</td>\n",
       "      <td>6511c2-e2e3-422b-b695</td>\n",
       "      <td>2019-01-10 14:00:00</td>\n",
       "      <td>Men's Fashion</td>\n",
       "      <td>Jeans</td>\n",
       "      <td>search</td>\n",
       "      <td>NaN</td>\n",
       "      <td>NaN</td>\n",
       "      <td>NaN</td>\n",
       "    </tr>\n",
       "    <tr>\n",
       "      <th>3</th>\n",
       "      <td>57314161118</td>\n",
       "      <td>90fc70-0e80-4590-96f3</td>\n",
       "      <td>2019-01-10 14:07:00</td>\n",
       "      <td>Men's Fashion</td>\n",
       "      <td>Jeans</td>\n",
       "      <td>product_view</td>\n",
       "      <td>NaN</td>\n",
       "      <td>NaN</td>\n",
       "      <td>NaN</td>\n",
       "    </tr>\n",
       "    <tr>\n",
       "      <th>4</th>\n",
       "      <td>57314161118</td>\n",
       "      <td>bd7419-2748-4c56-95b4</td>\n",
       "      <td>2019-01-10 14:12:00</td>\n",
       "      <td>Men's Fashion</td>\n",
       "      <td>Jeans</td>\n",
       "      <td>read_reviews</td>\n",
       "      <td>NaN</td>\n",
       "      <td>NaN</td>\n",
       "      <td>NaN</td>\n",
       "    </tr>\n",
       "  </tbody>\n",
       "</table>\n",
       "</div>"
      ],
      "text/plain": [
       "       User_id             Session_id             DateTime  \\\n",
       "0  52243841613  d76fde-8bb3-4e00-8c23  2019-01-10 10:20:00   \n",
       "1  52243841613  33dfbd-b87a-4708-9857  2019-01-10 10:22:00   \n",
       "2  57314161118  6511c2-e2e3-422b-b695  2019-01-10 14:00:00   \n",
       "3  57314161118  90fc70-0e80-4590-96f3  2019-01-10 14:07:00   \n",
       "4  57314161118  bd7419-2748-4c56-95b4  2019-01-10 14:12:00   \n",
       "\n",
       "                Category SubCategory          Action  Quantity  Rate  \\\n",
       "0  Electronic Appliances    Speakers  first_app_open       NaN   NaN   \n",
       "1  Electronic Appliances    Speakers          search       NaN   NaN   \n",
       "2          Men's Fashion       Jeans          search       NaN   NaN   \n",
       "3          Men's Fashion       Jeans    product_view       NaN   NaN   \n",
       "4          Men's Fashion       Jeans    read_reviews       NaN   NaN   \n",
       "\n",
       "   Total Price  \n",
       "0          NaN  \n",
       "1          NaN  \n",
       "2          NaN  \n",
       "3          NaN  \n",
       "4          NaN  "
      ]
     },
     "execution_count": 2,
     "metadata": {},
     "output_type": "execute_result"
    }
   ],
   "source": [
    "data = pd.read_excel('data/final_customer_data.xlsx')\n",
    "data.head()"
   ]
  },
  {
   "cell_type": "markdown",
   "id": "38d226b2",
   "metadata": {},
   "source": [
    "# 1. Data Description"
   ]
  },
  {
   "cell_type": "code",
   "execution_count": 3,
   "id": "9f5c750f",
   "metadata": {
    "ExecuteTime": {
     "end_time": "2023-01-28T13:37:35.184111Z",
     "start_time": "2023-01-28T13:37:35.181136Z"
    }
   },
   "outputs": [],
   "source": [
    "df1 = data.copy()"
   ]
  },
  {
   "cell_type": "markdown",
   "id": "d4da26e6",
   "metadata": {},
   "source": [
    "## Data Fields Meaning\n",
    "\n",
    "- User_id: unique identifier for each user.\n",
    "\n",
    "- Session_id: unique identifier that generates every time a user enters the app and it will expire when the user exits the app. \n",
    "\n",
    "- DateTime: timestamp when a particular action is performed. \n",
    "\n",
    "- Category: product category.\n",
    "\n",
    "- SubCategory: product sub category. \n",
    "\n",
    "- Actions: these are the event, the actions the users can do in the app. These action may be product view, read reviews, purchase, add to cart, etc.\n",
    "\n",
    "- Quantity: number of products ordered.\n",
    "\n",
    "- Rate: it is the price per unity of product.\n",
    "\n",
    "- Total price is the quantity multiplied by the rate."
   ]
  },
  {
   "cell_type": "markdown",
   "id": "3396c7cd",
   "metadata": {},
   "source": [
    "## 1.1. Rename Columns"
   ]
  },
  {
   "cell_type": "markdown",
   "id": "f5f1abfd",
   "metadata": {},
   "source": [
    "We are going to rename columns from camel case to snake case."
   ]
  },
  {
   "cell_type": "code",
   "execution_count": 4,
   "id": "c3e45606",
   "metadata": {
    "ExecuteTime": {
     "end_time": "2023-01-28T13:37:35.191252Z",
     "start_time": "2023-01-28T13:37:35.187135Z"
    }
   },
   "outputs": [
    {
     "data": {
      "text/plain": [
       "Index(['User_id', 'Session_id', 'DateTime', 'Category', 'SubCategory',\n",
       "       'Action', 'Quantity', 'Rate', 'Total Price'],\n",
       "      dtype='object')"
      ]
     },
     "execution_count": 4,
     "metadata": {},
     "output_type": "execute_result"
    }
   ],
   "source": [
    "df1.columns"
   ]
  },
  {
   "cell_type": "code",
   "execution_count": 5,
   "id": "e2dc21c6",
   "metadata": {
    "ExecuteTime": {
     "end_time": "2023-01-28T13:37:35.197248Z",
     "start_time": "2023-01-28T13:37:35.193300Z"
    }
   },
   "outputs": [],
   "source": [
    "cols_old = ['User_id', 'Session_id', 'DateTime', 'Category', 'SubCategory',\n",
    "            'Action', 'Quantity', 'Rate', 'TotalPrice']\n",
    "\n",
    "snake_case = lambda x: inflection.underscore(x)\n",
    "\n",
    "cols_new = list(map(snake_case, cols_old))\n",
    "\n",
    "#rename\n",
    "df1.columns = cols_new"
   ]
  },
  {
   "cell_type": "code",
   "execution_count": 6,
   "id": "20ff3fb2",
   "metadata": {
    "ExecuteTime": {
     "end_time": "2023-01-28T13:37:35.204486Z",
     "start_time": "2023-01-28T13:37:35.199582Z"
    }
   },
   "outputs": [
    {
     "data": {
      "text/plain": [
       "Index(['user_id', 'session_id', 'date_time', 'category', 'sub_category',\n",
       "       'action', 'quantity', 'rate', 'total_price'],\n",
       "      dtype='object')"
      ]
     },
     "execution_count": 6,
     "metadata": {},
     "output_type": "execute_result"
    }
   ],
   "source": [
    "df1.columns"
   ]
  },
  {
   "cell_type": "markdown",
   "id": "6d1dfee7",
   "metadata": {},
   "source": [
    "## 1.2. Data Dimensions"
   ]
  },
  {
   "cell_type": "code",
   "execution_count": 7,
   "id": "fccfdf45",
   "metadata": {
    "ExecuteTime": {
     "end_time": "2023-01-28T13:37:35.211223Z",
     "start_time": "2023-01-28T13:37:35.206950Z"
    }
   },
   "outputs": [
    {
     "name": "stdout",
     "output_type": "stream",
     "text": [
      "Number of rows: 2090\n",
      "Number of cols: 9\n"
     ]
    }
   ],
   "source": [
    "print(\"Number of rows: {}\".format(df1.shape[0]))\n",
    "print(\"Number of cols: {}\".format(df1.shape[1]))"
   ]
  },
  {
   "cell_type": "markdown",
   "id": "ecdd009e",
   "metadata": {},
   "source": [
    "## 1.3. Data Types"
   ]
  },
  {
   "cell_type": "code",
   "execution_count": 8,
   "id": "8ac1dd86",
   "metadata": {
    "ExecuteTime": {
     "end_time": "2023-01-28T13:37:35.218106Z",
     "start_time": "2023-01-28T13:37:35.213292Z"
    }
   },
   "outputs": [
    {
     "data": {
      "text/plain": [
       "user_id           int64\n",
       "session_id       object\n",
       "date_time        object\n",
       "category         object\n",
       "sub_category     object\n",
       "action           object\n",
       "quantity        float64\n",
       "rate            float64\n",
       "total_price     float64\n",
       "dtype: object"
      ]
     },
     "execution_count": 8,
     "metadata": {},
     "output_type": "execute_result"
    }
   ],
   "source": [
    "df1.dtypes"
   ]
  },
  {
   "cell_type": "code",
   "execution_count": 9,
   "id": "aae50a46",
   "metadata": {
    "ExecuteTime": {
     "end_time": "2023-01-28T13:37:35.230762Z",
     "start_time": "2023-01-28T13:37:35.220483Z"
    }
   },
   "outputs": [
    {
     "data": {
      "text/html": [
       "<div>\n",
       "<style scoped>\n",
       "    .dataframe tbody tr th:only-of-type {\n",
       "        vertical-align: middle;\n",
       "    }\n",
       "\n",
       "    .dataframe tbody tr th {\n",
       "        vertical-align: top;\n",
       "    }\n",
       "\n",
       "    .dataframe thead th {\n",
       "        text-align: right;\n",
       "    }\n",
       "</style>\n",
       "<table border=\"1\" class=\"dataframe\">\n",
       "  <thead>\n",
       "    <tr style=\"text-align: right;\">\n",
       "      <th></th>\n",
       "      <th>user_id</th>\n",
       "      <th>session_id</th>\n",
       "      <th>date_time</th>\n",
       "      <th>category</th>\n",
       "      <th>sub_category</th>\n",
       "      <th>action</th>\n",
       "      <th>quantity</th>\n",
       "      <th>rate</th>\n",
       "      <th>total_price</th>\n",
       "    </tr>\n",
       "  </thead>\n",
       "  <tbody>\n",
       "    <tr>\n",
       "      <th>0</th>\n",
       "      <td>52243841613</td>\n",
       "      <td>d76fde-8bb3-4e00-8c23</td>\n",
       "      <td>2019-01-10 10:20:00</td>\n",
       "      <td>Electronic Appliances</td>\n",
       "      <td>Speakers</td>\n",
       "      <td>first_app_open</td>\n",
       "      <td>NaN</td>\n",
       "      <td>NaN</td>\n",
       "      <td>NaN</td>\n",
       "    </tr>\n",
       "    <tr>\n",
       "      <th>1</th>\n",
       "      <td>52243841613</td>\n",
       "      <td>33dfbd-b87a-4708-9857</td>\n",
       "      <td>2019-01-10 10:22:00</td>\n",
       "      <td>Electronic Appliances</td>\n",
       "      <td>Speakers</td>\n",
       "      <td>search</td>\n",
       "      <td>NaN</td>\n",
       "      <td>NaN</td>\n",
       "      <td>NaN</td>\n",
       "    </tr>\n",
       "    <tr>\n",
       "      <th>2</th>\n",
       "      <td>57314161118</td>\n",
       "      <td>6511c2-e2e3-422b-b695</td>\n",
       "      <td>2019-01-10 14:00:00</td>\n",
       "      <td>Men's Fashion</td>\n",
       "      <td>Jeans</td>\n",
       "      <td>search</td>\n",
       "      <td>NaN</td>\n",
       "      <td>NaN</td>\n",
       "      <td>NaN</td>\n",
       "    </tr>\n",
       "  </tbody>\n",
       "</table>\n",
       "</div>"
      ],
      "text/plain": [
       "       user_id             session_id            date_time  \\\n",
       "0  52243841613  d76fde-8bb3-4e00-8c23  2019-01-10 10:20:00   \n",
       "1  52243841613  33dfbd-b87a-4708-9857  2019-01-10 10:22:00   \n",
       "2  57314161118  6511c2-e2e3-422b-b695  2019-01-10 14:00:00   \n",
       "\n",
       "                category sub_category          action  quantity  rate  \\\n",
       "0  Electronic Appliances     Speakers  first_app_open       NaN   NaN   \n",
       "1  Electronic Appliances     Speakers          search       NaN   NaN   \n",
       "2          Men's Fashion        Jeans          search       NaN   NaN   \n",
       "\n",
       "   total_price  \n",
       "0          NaN  \n",
       "1          NaN  \n",
       "2          NaN  "
      ]
     },
     "execution_count": 9,
     "metadata": {},
     "output_type": "execute_result"
    }
   ],
   "source": [
    "df1.head(3)"
   ]
  },
  {
   "cell_type": "markdown",
   "id": "6fd2ed04",
   "metadata": {},
   "source": [
    "### 1.3.1. Data conversion"
   ]
  },
  {
   "cell_type": "code",
   "execution_count": 10,
   "id": "236d3e5a",
   "metadata": {
    "ExecuteTime": {
     "end_time": "2023-01-28T13:37:35.311074Z",
     "start_time": "2023-01-28T13:37:35.235596Z"
    }
   },
   "outputs": [
    {
     "data": {
      "text/html": [
       "<div>\n",
       "<style scoped>\n",
       "    .dataframe tbody tr th:only-of-type {\n",
       "        vertical-align: middle;\n",
       "    }\n",
       "\n",
       "    .dataframe tbody tr th {\n",
       "        vertical-align: top;\n",
       "    }\n",
       "\n",
       "    .dataframe thead th {\n",
       "        text-align: right;\n",
       "    }\n",
       "</style>\n",
       "<table border=\"1\" class=\"dataframe\">\n",
       "  <thead>\n",
       "    <tr style=\"text-align: right;\">\n",
       "      <th></th>\n",
       "      <th>user_id</th>\n",
       "      <th>session_id</th>\n",
       "      <th>date_time</th>\n",
       "      <th>category</th>\n",
       "      <th>sub_category</th>\n",
       "      <th>action</th>\n",
       "      <th>quantity</th>\n",
       "      <th>rate</th>\n",
       "      <th>total_price</th>\n",
       "    </tr>\n",
       "  </thead>\n",
       "  <tbody>\n",
       "    <tr>\n",
       "      <th>0</th>\n",
       "      <td>52243841613</td>\n",
       "      <td>d76fde-8bb3-4e00-8c23</td>\n",
       "      <td>2019-01-10 10:20:00</td>\n",
       "      <td>Electronic Appliances</td>\n",
       "      <td>Speakers</td>\n",
       "      <td>first_app_open</td>\n",
       "      <td>NaN</td>\n",
       "      <td>NaN</td>\n",
       "      <td>NaN</td>\n",
       "    </tr>\n",
       "    <tr>\n",
       "      <th>1</th>\n",
       "      <td>52243841613</td>\n",
       "      <td>33dfbd-b87a-4708-9857</td>\n",
       "      <td>2019-01-10 10:22:00</td>\n",
       "      <td>Electronic Appliances</td>\n",
       "      <td>Speakers</td>\n",
       "      <td>search</td>\n",
       "      <td>NaN</td>\n",
       "      <td>NaN</td>\n",
       "      <td>NaN</td>\n",
       "    </tr>\n",
       "    <tr>\n",
       "      <th>2</th>\n",
       "      <td>57314161118</td>\n",
       "      <td>6511c2-e2e3-422b-b695</td>\n",
       "      <td>2019-01-10 14:00:00</td>\n",
       "      <td>Men's Fashion</td>\n",
       "      <td>Jeans</td>\n",
       "      <td>search</td>\n",
       "      <td>NaN</td>\n",
       "      <td>NaN</td>\n",
       "      <td>NaN</td>\n",
       "    </tr>\n",
       "    <tr>\n",
       "      <th>3</th>\n",
       "      <td>57314161118</td>\n",
       "      <td>90fc70-0e80-4590-96f3</td>\n",
       "      <td>2019-01-10 14:07:00</td>\n",
       "      <td>Men's Fashion</td>\n",
       "      <td>Jeans</td>\n",
       "      <td>product_view</td>\n",
       "      <td>NaN</td>\n",
       "      <td>NaN</td>\n",
       "      <td>NaN</td>\n",
       "    </tr>\n",
       "    <tr>\n",
       "      <th>4</th>\n",
       "      <td>57314161118</td>\n",
       "      <td>bd7419-2748-4c56-95b4</td>\n",
       "      <td>2019-01-10 14:12:00</td>\n",
       "      <td>Men's Fashion</td>\n",
       "      <td>Jeans</td>\n",
       "      <td>read_reviews</td>\n",
       "      <td>NaN</td>\n",
       "      <td>NaN</td>\n",
       "      <td>NaN</td>\n",
       "    </tr>\n",
       "  </tbody>\n",
       "</table>\n",
       "</div>"
      ],
      "text/plain": [
       "       user_id             session_id           date_time  \\\n",
       "0  52243841613  d76fde-8bb3-4e00-8c23 2019-01-10 10:20:00   \n",
       "1  52243841613  33dfbd-b87a-4708-9857 2019-01-10 10:22:00   \n",
       "2  57314161118  6511c2-e2e3-422b-b695 2019-01-10 14:00:00   \n",
       "3  57314161118  90fc70-0e80-4590-96f3 2019-01-10 14:07:00   \n",
       "4  57314161118  bd7419-2748-4c56-95b4 2019-01-10 14:12:00   \n",
       "\n",
       "                category sub_category          action  quantity  rate  \\\n",
       "0  Electronic Appliances     Speakers  first_app_open       NaN   NaN   \n",
       "1  Electronic Appliances     Speakers          search       NaN   NaN   \n",
       "2          Men's Fashion        Jeans          search       NaN   NaN   \n",
       "3          Men's Fashion        Jeans    product_view       NaN   NaN   \n",
       "4          Men's Fashion        Jeans    read_reviews       NaN   NaN   \n",
       "\n",
       "   total_price  \n",
       "0          NaN  \n",
       "1          NaN  \n",
       "2          NaN  \n",
       "3          NaN  \n",
       "4          NaN  "
      ]
     },
     "execution_count": 10,
     "metadata": {},
     "output_type": "execute_result"
    }
   ],
   "source": [
    "df1[\"date_time\"] = pd.to_datetime(df1[\"date_time\"])\n",
    "df1.head()"
   ]
  },
  {
   "cell_type": "code",
   "execution_count": 11,
   "id": "c67275e6",
   "metadata": {
    "ExecuteTime": {
     "end_time": "2023-01-28T13:37:35.318479Z",
     "start_time": "2023-01-28T13:37:35.313264Z"
    }
   },
   "outputs": [
    {
     "data": {
      "text/plain": [
       "user_id                  int64\n",
       "session_id              object\n",
       "date_time       datetime64[ns]\n",
       "category                object\n",
       "sub_category            object\n",
       "action                  object\n",
       "quantity               float64\n",
       "rate                   float64\n",
       "total_price            float64\n",
       "dtype: object"
      ]
     },
     "execution_count": 11,
     "metadata": {},
     "output_type": "execute_result"
    }
   ],
   "source": [
    "df1.dtypes"
   ]
  },
  {
   "cell_type": "markdown",
   "id": "a93e1497",
   "metadata": {},
   "source": [
    "## 1.4. NA Check"
   ]
  },
  {
   "cell_type": "code",
   "execution_count": 12,
   "id": "870b8e16",
   "metadata": {
    "ExecuteTime": {
     "end_time": "2023-01-28T13:37:35.329804Z",
     "start_time": "2023-01-28T13:37:35.320836Z"
    }
   },
   "outputs": [
    {
     "data": {
      "text/plain": [
       "user_id            0\n",
       "session_id         0\n",
       "date_time          0\n",
       "category           0\n",
       "sub_category       0\n",
       "action             0\n",
       "quantity        1889\n",
       "rate            1889\n",
       "total_price     1889\n",
       "dtype: int64"
      ]
     },
     "execution_count": 12,
     "metadata": {},
     "output_type": "execute_result"
    }
   ],
   "source": [
    "df1.isna().sum()"
   ]
  },
  {
   "cell_type": "code",
   "execution_count": 13,
   "id": "8092e84b",
   "metadata": {
    "ExecuteTime": {
     "end_time": "2023-01-28T13:37:35.340391Z",
     "start_time": "2023-01-28T13:37:35.331853Z"
    }
   },
   "outputs": [
    {
     "data": {
      "text/plain": [
       "user_id         0.000000\n",
       "session_id      0.000000\n",
       "date_time       0.000000\n",
       "category        0.000000\n",
       "sub_category    0.000000\n",
       "action          0.000000\n",
       "quantity        0.903828\n",
       "rate            0.903828\n",
       "total_price     0.903828\n",
       "dtype: float64"
      ]
     },
     "execution_count": 13,
     "metadata": {},
     "output_type": "execute_result"
    }
   ],
   "source": [
    "df1.isna().sum()/len(df1)"
   ]
  },
  {
   "cell_type": "markdown",
   "id": "374bfac6",
   "metadata": {},
   "source": [
    "## 1.5. Removing NA "
   ]
  },
  {
   "cell_type": "markdown",
   "id": "5d62c242",
   "metadata": {},
   "source": [
    "As we know, the columns quantity, rate and total_price only have informations when the user purchases at least one product. Since these columns have around 90% of NA values, we cannot simply remove those rows. Thus, we are going to assume a value equals zero instead of NA value for this situation."
   ]
  },
  {
   "cell_type": "code",
   "execution_count": 14,
   "id": "703e0969",
   "metadata": {
    "ExecuteTime": {
     "end_time": "2023-01-28T13:37:35.348709Z",
     "start_time": "2023-01-28T13:37:35.342562Z"
    }
   },
   "outputs": [],
   "source": [
    "# quantity\n",
    "df1['quantity'] = df1['quantity'].fillna(0)\n",
    "\n",
    "# rate\n",
    "df1['rate'] = df1['rate'].fillna(0)\n",
    "\n",
    "# total_price\n",
    "df1['total_price'] = df1['total_price'].fillna(0)"
   ]
  },
  {
   "cell_type": "code",
   "execution_count": 15,
   "id": "fc30bc22",
   "metadata": {
    "ExecuteTime": {
     "end_time": "2023-01-28T13:37:35.365798Z",
     "start_time": "2023-01-28T13:37:35.350830Z"
    }
   },
   "outputs": [
    {
     "data": {
      "text/plain": [
       "user_id         0\n",
       "session_id      0\n",
       "date_time       0\n",
       "category        0\n",
       "sub_category    0\n",
       "action          0\n",
       "quantity        0\n",
       "rate            0\n",
       "total_price     0\n",
       "dtype: int64"
      ]
     },
     "execution_count": 15,
     "metadata": {},
     "output_type": "execute_result"
    }
   ],
   "source": [
    "df1.isna().sum()"
   ]
  },
  {
   "cell_type": "markdown",
   "id": "c901e9cf",
   "metadata": {},
   "source": [
    "## 1.6. Check Balanced Data"
   ]
  },
  {
   "cell_type": "code",
   "execution_count": null,
   "id": "55a3a150",
   "metadata": {},
   "outputs": [],
   "source": []
  },
  {
   "cell_type": "code",
   "execution_count": null,
   "id": "fa3cad84",
   "metadata": {},
   "outputs": [],
   "source": []
  },
  {
   "cell_type": "code",
   "execution_count": null,
   "id": "9aa2ece4",
   "metadata": {},
   "outputs": [],
   "source": []
  },
  {
   "cell_type": "code",
   "execution_count": null,
   "id": "942bac1a",
   "metadata": {},
   "outputs": [],
   "source": []
  },
  {
   "cell_type": "markdown",
   "id": "76f8c844",
   "metadata": {},
   "source": [
    "## 1.7. Descriptive Statistics"
   ]
  },
  {
   "cell_type": "markdown",
   "id": "472d99c1",
   "metadata": {},
   "source": [
    "This section is to find inconsistencies, anomalies and also the main characteristics of our data."
   ]
  },
  {
   "cell_type": "code",
   "execution_count": 16,
   "id": "d3de2b4b",
   "metadata": {
    "ExecuteTime": {
     "end_time": "2023-01-28T13:37:35.381514Z",
     "start_time": "2023-01-28T13:37:35.374152Z"
    }
   },
   "outputs": [],
   "source": [
    "num_attributes = df1.drop(columns=\"user_id\").select_dtypes(include=['int64', 'float64'])\n",
    "cat_attributes = df1.drop(columns=\"session_id\").select_dtypes(exclude=['int64', 'float64', 'datetime64[ns]'])"
   ]
  },
  {
   "cell_type": "markdown",
   "id": "9054e53a",
   "metadata": {},
   "source": [
    "### 1.7.1. Numerical Attributes "
   ]
  },
  {
   "cell_type": "code",
   "execution_count": 17,
   "id": "a1348652",
   "metadata": {
    "ExecuteTime": {
     "end_time": "2023-01-28T13:37:35.414552Z",
     "start_time": "2023-01-28T13:37:35.383671Z"
    }
   },
   "outputs": [
    {
     "data": {
      "text/html": [
       "<div>\n",
       "<style scoped>\n",
       "    .dataframe tbody tr th:only-of-type {\n",
       "        vertical-align: middle;\n",
       "    }\n",
       "\n",
       "    .dataframe tbody tr th {\n",
       "        vertical-align: top;\n",
       "    }\n",
       "\n",
       "    .dataframe thead th {\n",
       "        text-align: right;\n",
       "    }\n",
       "</style>\n",
       "<table border=\"1\" class=\"dataframe\">\n",
       "  <thead>\n",
       "    <tr style=\"text-align: right;\">\n",
       "      <th></th>\n",
       "      <th>attributes</th>\n",
       "      <th>min</th>\n",
       "      <th>max</th>\n",
       "      <th>range</th>\n",
       "      <th>mean</th>\n",
       "      <th>median</th>\n",
       "      <th>std</th>\n",
       "      <th>skew</th>\n",
       "      <th>kurtosis</th>\n",
       "    </tr>\n",
       "  </thead>\n",
       "  <tbody>\n",
       "    <tr>\n",
       "      <th>0</th>\n",
       "      <td>quantity</td>\n",
       "      <td>0.0</td>\n",
       "      <td>100.0</td>\n",
       "      <td>100.0</td>\n",
       "      <td>0.285167</td>\n",
       "      <td>0.0</td>\n",
       "      <td>2.381753</td>\n",
       "      <td>35.517850</td>\n",
       "      <td>1471.724892</td>\n",
       "    </tr>\n",
       "    <tr>\n",
       "      <th>1</th>\n",
       "      <td>rate</td>\n",
       "      <td>0.0</td>\n",
       "      <td>90000.0</td>\n",
       "      <td>90000.0</td>\n",
       "      <td>686.023923</td>\n",
       "      <td>0.0</td>\n",
       "      <td>5032.086703</td>\n",
       "      <td>11.406039</td>\n",
       "      <td>153.948294</td>\n",
       "    </tr>\n",
       "    <tr>\n",
       "      <th>2</th>\n",
       "      <td>total_price</td>\n",
       "      <td>0.0</td>\n",
       "      <td>160000.0</td>\n",
       "      <td>160000.0</td>\n",
       "      <td>909.344498</td>\n",
       "      <td>0.0</td>\n",
       "      <td>6286.224173</td>\n",
       "      <td>13.453022</td>\n",
       "      <td>251.941719</td>\n",
       "    </tr>\n",
       "  </tbody>\n",
       "</table>\n",
       "</div>"
      ],
      "text/plain": [
       "    attributes  min       max     range        mean  median          std  \\\n",
       "0     quantity  0.0     100.0     100.0    0.285167     0.0     2.381753   \n",
       "1         rate  0.0   90000.0   90000.0  686.023923     0.0  5032.086703   \n",
       "2  total_price  0.0  160000.0  160000.0  909.344498     0.0  6286.224173   \n",
       "\n",
       "        skew     kurtosis  \n",
       "0  35.517850  1471.724892  \n",
       "1  11.406039   153.948294  \n",
       "2  13.453022   251.941719  "
      ]
     },
     "execution_count": 17,
     "metadata": {},
     "output_type": "execute_result"
    }
   ],
   "source": [
    "# Central Tendency - Mean, Mediana\n",
    "ct1 = pd.DataFrame(num_attributes.apply(np.mean)).T\n",
    "ct2 = pd.DataFrame(num_attributes.apply(np.median)).T\n",
    "\n",
    "# Dispersions - Std, Min, Max, Range, Skew, Kurtosis\n",
    "d1 = pd.DataFrame(num_attributes.apply(np.std)).T\n",
    "d2 = pd.DataFrame(num_attributes.apply(min)).T\n",
    "d3 = pd.DataFrame(num_attributes.apply(max)).T\n",
    "d4 = pd.DataFrame(num_attributes.apply(lambda x: x.max() - x.min())).T\n",
    "d5 = pd.DataFrame(num_attributes.apply(lambda x: x.skew())).T\n",
    "d6 = pd.DataFrame(num_attributes.apply(lambda x: x.kurtosis())).T\n",
    "\n",
    "# Concatenar\n",
    "ct = pd.concat([d2, d3, d4, ct1, ct2, d1, d5, d6]).T.reset_index()\n",
    "ct.columns = ['attributes', 'min', 'max', 'range', 'mean', 'median', 'std', 'skew', 'kurtosis']\n",
    "ct"
   ]
  },
  {
   "cell_type": "markdown",
   "id": "638f0cc0",
   "metadata": {},
   "source": [
    "- Standard deviation is too high compared to the mean values. \n",
    "- As we have positive values for skew, we have a skewness to the left. Probably due smaller quantities of products purchased and, consequently, smaller values for rate and total price.\n",
    "- Since quantity has a 1471 value for kurtosis, it has a high peak."
   ]
  },
  {
   "cell_type": "code",
   "execution_count": 18,
   "id": "565768dc",
   "metadata": {
    "ExecuteTime": {
     "end_time": "2023-01-28T13:37:36.009465Z",
     "start_time": "2023-01-28T13:37:35.416570Z"
    }
   },
   "outputs": [
    {
     "data": {
      "image/png": "[encoded data removed]",
      "text/plain": [
       "<Figure size 2000x600 with 3 Axes>"
      ]
     },
     "metadata": {},
     "output_type": "display_data"
    }
   ],
   "source": [
    "plt.figure(figsize = (20,6))\n",
    "\n",
    "plt.subplot(131)\n",
    "sns.distplot(df1[\"quantity\"])\n",
    "\n",
    "plt.subplot(132)\n",
    "sns.distplot(df1[\"rate\"])\n",
    "\n",
    "plt.subplot(133)\n",
    "sns.distplot(df1[\"total_price\"])\n",
    "\n",
    "plt.subplots_adjust(wspace = 0.2)"
   ]
  },
  {
   "cell_type": "markdown",
   "id": "cac294ae",
   "metadata": {},
   "source": [
    "Let's see how the distribution is without the value zero."
   ]
  },
  {
   "cell_type": "code",
   "execution_count": 19,
   "id": "e1612ccd",
   "metadata": {
    "ExecuteTime": {
     "end_time": "2023-01-28T13:37:36.651074Z",
     "start_time": "2023-01-28T13:37:36.011335Z"
    }
   },
   "outputs": [
    {
     "data": {
      "image/png": "[encoded data removed]",
      "text/plain": [
       "<Figure size 2000x600 with 3 Axes>"
      ]
     },
     "metadata": {},
     "output_type": "display_data"
    }
   ],
   "source": [
    "aux = df1[df1[\"quantity\"] != 0]\n",
    "\n",
    "plt.figure(figsize = (20,6))\n",
    "\n",
    "plt.subplot(131)\n",
    "sns.distplot(aux[\"quantity\"])\n",
    "#plt.xlim(0,)\n",
    "\n",
    "plt.subplot(132)\n",
    "sns.distplot(aux[\"rate\"])\n",
    "#plt.xlim(0,)\n",
    "\n",
    "plt.subplot(133)\n",
    "sns.distplot(aux[\"total_price\"])\n",
    "#plt.xlim(0,)\n",
    "\n",
    "plt.subplots_adjust(wspace = 0.2)"
   ]
  },
  {
   "cell_type": "markdown",
   "id": "2ec801a5",
   "metadata": {},
   "source": [
    "The majority of purchases is around smaller values for quantity. The result is smaller values for rate and total price too."
   ]
  },
  {
   "cell_type": "markdown",
   "id": "4a4a68c6",
   "metadata": {},
   "source": [
    "### 1.7.2. Categorical Attributes"
   ]
  },
  {
   "cell_type": "code",
   "execution_count": 20,
   "id": "e9963b4d",
   "metadata": {
    "ExecuteTime": {
     "end_time": "2023-01-28T13:37:36.659539Z",
     "start_time": "2023-01-28T13:37:36.653223Z"
    }
   },
   "outputs": [
    {
     "data": {
      "text/plain": [
       "category        105\n",
       "sub_category    364\n",
       "action           13\n",
       "dtype: int64"
      ]
     },
     "execution_count": 20,
     "metadata": {},
     "output_type": "execute_result"
    }
   ],
   "source": [
    "cat_attributes.apply(lambda x: x.unique().shape[0])"
   ]
  },
  {
   "cell_type": "code",
   "execution_count": 21,
   "id": "640ed13e",
   "metadata": {
    "ExecuteTime": {
     "end_time": "2023-01-28T13:37:36.670419Z",
     "start_time": "2023-01-28T13:37:36.661401Z"
    }
   },
   "outputs": [
    {
     "data": {
      "text/plain": [
       "category        [Electronic Appliances, Men's Fashion, Mobile ...\n",
       "sub_category    [Speakers, Jeans, Mobile, Cleaning sprays, Cha...\n",
       "action          [first_app_open, search, product_view, read_re...\n",
       "dtype: object"
      ]
     },
     "execution_count": 21,
     "metadata": {},
     "output_type": "execute_result"
    }
   ],
   "source": [
    "cat_attributes.apply(lambda x: x.unique())"
   ]
  },
  {
   "cell_type": "code",
   "execution_count": 22,
   "id": "ab942541",
   "metadata": {
    "ExecuteTime": {
     "end_time": "2023-01-28T13:37:36.678201Z",
     "start_time": "2023-01-28T13:37:36.673234Z"
    }
   },
   "outputs": [
    {
     "data": {
      "text/plain": [
       "array(['Electronic Appliances', \"Men's Fashion\", 'Mobile & Accessories',\n",
       "       'Cleaning supplies', 'Digital Devices', 'Accessories',\n",
       "       'Stationary', 'Digital Content', 'Fitness', \"Women's Fashion\",\n",
       "       'Household Supplies', 'Smart Wearables', 'Appliances', 'Pet Care',\n",
       "       'Gardern and Outdoor', 'Camera Accessories', 'eCommerce',\n",
       "       'Baby Care', 'Gaming Accessories', 'Musical Instruments',\n",
       "       'Kitchen Appliances', 'Home Appliances', 'Entertainment Systems',\n",
       "       'Software', 'Pendrives', 'Home Decor', 'Digital Appliances',\n",
       "       'Electrical tools', 'Large appliances', 'Furnitures',\n",
       "       'Religious items', 'Artwork', 'Baby Products', 'Car Accessories',\n",
       "       \"Kid's fashion\", 'Motorbike Accessories', 'Toys', 'Music',\n",
       "       'Music\\n', 'Gifts', 'Tv and Appliances', 'Bags and Luggage',\n",
       "       'Large Appliances', 'Industrial', 'Gardening', 'Grocery',\n",
       "       'Winter Wear', 'Personal Care', \"Men's Bottom Wear\",\n",
       "       \"Men's Top Wear\", 'Shoe care', 'Computer Peripherals', 'Health',\n",
       "       'Laptop Accessories', 'Laptop and Desktop',\n",
       "       'Smart Home Automation', 'Storage', 'Audio', 'Living room',\n",
       "       'Bed room', 'Tools and Utility', 'Lightings', 'Electricals',\n",
       "       'Space saving', 'Seasonal Appliances', \"Men's Grooming\",\n",
       "       'Food and drinks', 'School Supplies', 'Sports', 'Air Conditioner',\n",
       "       'Women western', 'Footwear', 'Air conditioner', 'Essentials',\n",
       "       'Kids', 'Desktop Accessories', 'Mobile accessories',\n",
       "       'Kitchen and dining', 'Home furnishing', 'Utilities',\n",
       "       'Lock and Security', 'Personal Safety', 'Pet Supplies',\n",
       "       'Home lighting', 'Kitchen Storage', 'Books', 'Food essentials',\n",
       "       'Bike care', 'Mens accessories', 'Women Footwear', 'Electronics',\n",
       "       'Living Room Furniture', 'Health care appliances', 'Speakers',\n",
       "       'Laptops', 'Camera', 'Network component', 'Smart Home Appliances',\n",
       "       'Movies', 'Tablets', 'Sports Accessories', 'Washing Machine',\n",
       "       'Television', 'Kids Fashion', 'Women Fashion'], dtype=object)"
      ]
     },
     "execution_count": 22,
     "metadata": {},
     "output_type": "execute_result"
    }
   ],
   "source": [
    "cat_attributes[\"category\"].unique()"
   ]
  },
  {
   "cell_type": "code",
   "execution_count": 23,
   "id": "aec7497a",
   "metadata": {
    "ExecuteTime": {
     "end_time": "2023-01-28T13:37:36.687560Z",
     "start_time": "2023-01-28T13:37:36.680876Z"
    }
   },
   "outputs": [
    {
     "data": {
      "text/plain": [
       "array(['Speakers', 'Jeans', 'Mobile', 'Cleaning sprays', 'Charging wire',\n",
       "       'Kindle eBook', 'Watches', 'Cases', 'Books', 'Headphones',\n",
       "       'Mouse pad', 'Fire Tv', 'Dumbells', 'Ethnic wear', 'Tws earbuds',\n",
       "       'Cases and Covers', 'Shirts', 'Gloves', 'Dishwasher', 'Bumpers',\n",
       "       'Denim jeans', 'Smart watches', 'Makeup kit', 'Ropes', 'Printers',\n",
       "       'Shoes', 'Refrigerators', 'Harddisk', 'Cat food', 'Footwears',\n",
       "       'Skipping Rope', 'Flower pot', 'Lens', 'Fire TV', 'Oil can',\n",
       "       'Suspenders', 'Bow tie', 'Paints', 'Ear rings', 'Belt',\n",
       "       'Frying pan', 'Rice cooker', 'CD-Driver', 'Bangles', 'Powerbells',\n",
       "       'T-shirt', 'Container', 'Weigh scale', 'Tablet holder', 'Ring',\n",
       "       'Tops', 'Charger', 'wrist band', 'Delivery bags', 'Women Jacket',\n",
       "       'Water hose pipe', 'Coolers', 'Baby lotion', 'Aux Cable',\n",
       "       'USB Cord', 'fitband', 'Screen Guard', 'laptop', 'Web camera',\n",
       "       'Joystick', 'Tripods', 'Flute', 'Lamp', 'Surround system',\n",
       "       'Pen stand', 'McAfee Protection', 'Sandisk', 'Wall paint',\n",
       "       'Laptop', 'Monitor', 'Electrical screwdriver', 'Washing machine',\n",
       "       'Sofa', 'Pooja thali', 'Glitter powder set', 'Flower seed',\n",
       "       'eBook', 'Shoulder Bags', 'Baby Shampoo', 'Car charger',\n",
       "       'Kids sunglasses', 'Tank pad', 'Remote control car', 'Amplifier',\n",
       "       'Switch box', 'Sunglasses', 'lens cleaner', 'Skins for mobile',\n",
       "       'Keyboard', 'Camphor box', 'Bracelet', 'Shells', 'Digital clock',\n",
       "       'Jewellery', \"Cd's\", 'Gift wrapper', 'Squeeze toy', 'kids jeans',\n",
       "       'refrigirator', 'Microwave oven', 'TV', 'Gaming console',\n",
       "       'Handle grip', 'Kettle', 'Travel Bag', 'Camera slider',\n",
       "       'Wooden shelf', 'suitcase', 'Wooden chair', 'Camera Lens',\n",
       "       'Camera Bag', 'Handicrafts', 'Memory Card', 'Air conditioner',\n",
       "       'Extension cord', 'Baby Soap', 'Car Mobile holder',\n",
       "       'Mobile Battery', 'Leather pant', 'Cad game', 'Mic', 'Wallet',\n",
       "       'McAfee antivirus', 'Wall hangings', 'Photo frames', 'Hanger',\n",
       "       'Drums set', 'Lens cleaner', 'gaming mouse', 'Backpack', 'Carpet',\n",
       "       'Gardening knife', 'Wireless Headphones', 'Chromecast',\n",
       "       'Hair Bands', 'Gift containers', 'kids tshirt', 'Baby Shower gel',\n",
       "       'Digital air fryer', 'Home theater', 'Play station',\n",
       "       'Photo day pack', 'Wooden table', 'Wooden cot', 'Monopod',\n",
       "       'Paintings', 'Flash drives', 'Socks', 'Crayons', 'Waist belt',\n",
       "       'Kadaa', 'Lightning cable', 'Refrigerator cover', 'Harddisk cover',\n",
       "       'Book containers', 'Fashion tape', 'Dumbbells', 'Microphone',\n",
       "       'Pots', 'Flower plant seed', 'leather jogger', 'Mobile cover',\n",
       "       'Refined oil', 'Sweatshirts', 'epilator', 'Pyjama', 'Blazer',\n",
       "       'Shoe polish', 'Portable projectors', 'Barcode scanners',\n",
       "       'Blood pressure monitor', 'Data cards', 'Gaming laptop',\n",
       "       'Smart lights', 'Smart glasses', 'Internal harddrive', 'Soundbar',\n",
       "       'Binoculars', 'Recliners', 'Office tables', 'Wardrobes',\n",
       "       'flower vases', 'Hand tools', 'Bulbs', 'Batteries', 'Bean bags',\n",
       "       'Cleaning gloves', 'pet toy', 'Air coolers', 'vaccum cleaner',\n",
       "       'Beard Oil', 'Beverages', 'Baby wipes', 'Soft toys', 'School bags',\n",
       "       'Football', 'yoga mat', 'Car freshner', 'Contact lens',\n",
       "       'Split airconditioner', 'Coconut oil', 'Formal shirt', \"Cargo's\",\n",
       "       'Ethinc dresses', 'Nightsuit', 'Flipflops', 'Large travel bags',\n",
       "       'Jumpsuit', 'sippers', 'Garden tool set', 'sandals',\n",
       "       'Window airconditioner', 'Puppy food', 'Frames', \"Boxer's\",\n",
       "       'Infant wear', 'Sling bag', 'Drone', 'Toners', 'Gamepad',\n",
       "       'Hair dryer', 'Router', 'Processor', 'Mini powerbank',\n",
       "       'Smart switches', 'External harddrive', 'Curtains', 'Sofa sets',\n",
       "       'Glassware', 'Side table', 'Table linen', 'Umberla', 'Door lock',\n",
       "       'Fire extinguisher', 'Wall shelves', 'Table Lamp', 'Lunch box',\n",
       "       'Non fiction', 'Chocolates', 'Sheets', 'Puzzles', 'Violin',\n",
       "       'Arm sleeve', 'Sports shoes', 'Mobile phone', 'Weighing scale',\n",
       "       'Diapers', 'Coffee tables', 'Literature', 'Trimmer', 'Bp monitors',\n",
       "       'Bluetooth speakers', 'Notebooks', 'DSLR', 'Toy car', 'Routers',\n",
       "       'Pens', 'Hand blenders', 'Coffee makers', 'Game pad large',\n",
       "       'Gimbles', 'Guitar case', 'Wet grinders', 'Smart door lock',\n",
       "       'Audio Speakers', 'Diaries', 'K7 security', 'Hp 16gb',\n",
       "       'Showpieces', 'Measurement devices', 'Floor covering', 'Candle',\n",
       "       'Barbie doll', 'Handcrafted idol', 'wipes', 'Palazzos',\n",
       "       'Car cover', 'Rear lamp', 'Kids shirt', 'Toy guns',\n",
       "       'Scientific products', 'Traveller bag', 'iPad', 'Gift wrappers',\n",
       "       'Watering can', 'Goggles', 'Ultra HD Tv', 'Fully automated',\n",
       "       'Inverter AC', 'Toaster Grills', 'Vaccum cleaner',\n",
       "       'Mobile Holders', 'Set top box', 'Mattresses', 'Mirrorless',\n",
       "       'Harddrive cover', 'Figurines', 'Lamps', 'Dinner set', 'Blankets',\n",
       "       'ultility box', 'Key holder', 'ceiling light',\n",
       "       'Pepper stream spray', 'Dog chain', 'Table lamp', 'Containers',\n",
       "       'Crime novels', 'Oil containers', 'Violin string', 'Bike polish',\n",
       "       'Perfumes', 'High heels', 'Electrical wires', 'Baby care set',\n",
       "       'Wooden sofa set', 'Jenga', 'Swimming Fins', 'Puzzle play',\n",
       "       'Air Tight Container', 'Rubber toys', 'TV shelf',\n",
       "       'Split Airconditioner', 'Gardern sprayers', 'Crocs',\n",
       "       'Laptop charger', \"Kid's Tshirt\", 'Party wear', 'Ink cartridges',\n",
       "       'Travell Bags Large', 'Paintings small', 'Study table',\n",
       "       'Amazon Alexa', 'Fire extinguisher mini', 'Smart light',\n",
       "       'Pillow stand', 'Food colourings', 'Chimneys', 'Cooking oil',\n",
       "       'Soldering kit', 'Miniature', 'Pooja kit', 'Soundbars',\n",
       "       'Curved TV', 'Shoe racks', 'Bathroom Fitings', 'Shaker bottle',\n",
       "       'Multiutility plier', 'Table light', 'Body lotion', 'Thermometer',\n",
       "       'Sunscreens', 'Teddy Bear', 'Flour Bags', 'Boxing Bag', 'Markers',\n",
       "       'Bracelets', 'Treadmill', 'Kurti'], dtype=object)"
      ]
     },
     "execution_count": 23,
     "metadata": {},
     "output_type": "execute_result"
    }
   ],
   "source": [
    "cat_attributes[\"sub_category\"].unique()"
   ]
  },
  {
   "cell_type": "code",
   "execution_count": 24,
   "id": "890b3822",
   "metadata": {
    "ExecuteTime": {
     "end_time": "2023-01-28T13:37:36.693896Z",
     "start_time": "2023-01-28T13:37:36.689308Z"
    }
   },
   "outputs": [
    {
     "data": {
      "text/plain": [
       "array(['first_app_open', 'search', 'product_view', 'read_reviews',\n",
       "       'add_review', 'add_to_cart', 'checkout', 'purchase',\n",
       "       'add_to_wishlist', 'click_wishlist_page', 'product_review',\n",
       "       'add_to_wishist', 'read_review'], dtype=object)"
      ]
     },
     "execution_count": 24,
     "metadata": {},
     "output_type": "execute_result"
    }
   ],
   "source": [
    "cat_attributes[\"action\"].unique()"
   ]
  },
  {
   "cell_type": "code",
   "execution_count": 25,
   "id": "4f5a6877",
   "metadata": {
    "ExecuteTime": {
     "end_time": "2023-01-28T13:37:36.710730Z",
     "start_time": "2023-01-28T13:37:36.696079Z"
    }
   },
   "outputs": [
    {
     "data": {
      "text/html": [
       "<div>\n",
       "<style scoped>\n",
       "    .dataframe tbody tr th:only-of-type {\n",
       "        vertical-align: middle;\n",
       "    }\n",
       "\n",
       "    .dataframe tbody tr th {\n",
       "        vertical-align: top;\n",
       "    }\n",
       "\n",
       "    .dataframe thead th {\n",
       "        text-align: right;\n",
       "    }\n",
       "</style>\n",
       "<table border=\"1\" class=\"dataframe\">\n",
       "  <thead>\n",
       "    <tr style=\"text-align: right;\">\n",
       "      <th></th>\n",
       "      <th>count</th>\n",
       "      <th>unique</th>\n",
       "      <th>top</th>\n",
       "      <th>freq</th>\n",
       "    </tr>\n",
       "  </thead>\n",
       "  <tbody>\n",
       "    <tr>\n",
       "      <th>category</th>\n",
       "      <td>2090</td>\n",
       "      <td>105</td>\n",
       "      <td>Mobile &amp; Accessories</td>\n",
       "      <td>139</td>\n",
       "    </tr>\n",
       "    <tr>\n",
       "      <th>sub_category</th>\n",
       "      <td>2090</td>\n",
       "      <td>364</td>\n",
       "      <td>Books</td>\n",
       "      <td>46</td>\n",
       "    </tr>\n",
       "    <tr>\n",
       "      <th>action</th>\n",
       "      <td>2090</td>\n",
       "      <td>13</td>\n",
       "      <td>read_reviews</td>\n",
       "      <td>342</td>\n",
       "    </tr>\n",
       "  </tbody>\n",
       "</table>\n",
       "</div>"
      ],
      "text/plain": [
       "             count unique                   top freq\n",
       "category      2090    105  Mobile & Accessories  139\n",
       "sub_category  2090    364                 Books   46\n",
       "action        2090     13          read_reviews  342"
      ]
     },
     "execution_count": 25,
     "metadata": {},
     "output_type": "execute_result"
    }
   ],
   "source": [
    "cat_attributes.describe().T"
   ]
  },
  {
   "cell_type": "markdown",
   "id": "3ec6bc15",
   "metadata": {},
   "source": [
    "### 1.7.3. Data Cleaning for Categorical Attributes"
   ]
  },
  {
   "cell_type": "markdown",
   "id": "8dd1e3b3",
   "metadata": {},
   "source": [
    "We must perform a categorical cleaning, since we have uppercase and words separated by spaces, and special char for the columns category and sub_category."
   ]
  },
  {
   "cell_type": "code",
   "execution_count": 29,
   "id": "dac631f8",
   "metadata": {
    "ExecuteTime": {
     "end_time": "2023-01-28T13:40:48.955739Z",
     "start_time": "2023-01-28T13:40:48.948593Z"
    }
   },
   "outputs": [],
   "source": [
    "# category\n",
    "df1['category'] = df1['category'].apply(lambda x: x.replace(' ', '_').\\\n",
    "                                        replace('\\n', '').replace(\"'s\", '').replace(\"&\", \"and\").lower())\n",
    "\n",
    "# sub_category\n",
    "df1['sub_category'] = df1['sub_category'].apply(lambda x: x.replace(' ', '_').\\\n",
    "                                                replace(\"'s\", '').replace(\"-\", '_').lower())                                                                                                                                                          "
   ]
  },
  {
   "cell_type": "code",
   "execution_count": 30,
   "id": "a88215a8",
   "metadata": {
    "ExecuteTime": {
     "end_time": "2023-01-28T13:40:49.638408Z",
     "start_time": "2023-01-28T13:40:49.633425Z"
    }
   },
   "outputs": [
    {
     "data": {
      "text/plain": [
       "array(['electronic_appliances', 'men_fashion', 'mobile_and_accessories',\n",
       "       'cleaning_supplies', 'digital_devices', 'accessories',\n",
       "       'stationary', 'digital_content', 'fitness', 'women_fashion',\n",
       "       'household_supplies', 'smart_wearables', 'appliances', 'pet_care',\n",
       "       'gardern_and_outdoor', 'camera_accessories', 'ecommerce',\n",
       "       'baby_care', 'gaming_accessories', 'musical_instruments',\n",
       "       'kitchen_appliances', 'home_appliances', 'entertainment_systems',\n",
       "       'software', 'pendrives', 'home_decor', 'digital_appliances',\n",
       "       'electrical_tools', 'large_appliances', 'furnitures',\n",
       "       'religious_items', 'artwork', 'baby_products', 'car_accessories',\n",
       "       'kid_fashion', 'motorbike_accessories', 'toys', 'music', 'gifts',\n",
       "       'tv_and_appliances', 'bags_and_luggage', 'industrial', 'gardening',\n",
       "       'grocery', 'winter_wear', 'personal_care', 'men_bottom_wear',\n",
       "       'men_top_wear', 'shoe_care', 'computer_peripherals', 'health',\n",
       "       'laptop_accessories', 'laptop_and_desktop',\n",
       "       'smart_home_automation', 'storage', 'audio', 'living_room',\n",
       "       'bed_room', 'tools_and_utility', 'lightings', 'electricals',\n",
       "       'space_saving', 'seasonal_appliances', 'men_grooming',\n",
       "       'food_and_drinks', 'school_supplies', 'sports', 'air_conditioner',\n",
       "       'women_western', 'footwear', 'essentials', 'kids',\n",
       "       'desktop_accessories', 'mobile_accessories', 'kitchen_and_dining',\n",
       "       'home_furnishing', 'utilities', 'lock_and_security',\n",
       "       'personal_safety', 'pet_supplies', 'home_lighting',\n",
       "       'kitchen_storage', 'books', 'food_essentials', 'bike_care',\n",
       "       'mens_accessories', 'women_footwear', 'electronics',\n",
       "       'living_room_furniture', 'health_care_appliances', 'speakers',\n",
       "       'laptops', 'camera', 'network_component', 'smart_home_appliances',\n",
       "       'movies', 'tablets', 'sports_accessories', 'washing_machine',\n",
       "       'television', 'kids_fashion'], dtype=object)"
      ]
     },
     "execution_count": 30,
     "metadata": {},
     "output_type": "execute_result"
    }
   ],
   "source": [
    "df1[\"category\"].unique()"
   ]
  },
  {
   "cell_type": "code",
   "execution_count": 31,
   "id": "23e0d35d",
   "metadata": {
    "ExecuteTime": {
     "end_time": "2023-01-28T13:40:50.307042Z",
     "start_time": "2023-01-28T13:40:50.301281Z"
    }
   },
   "outputs": [
    {
     "data": {
      "text/plain": [
       "array(['speakers', 'jeans', 'mobile', 'cleaning_sprays', 'charging_wire',\n",
       "       'kindle_ebook', 'watches', 'cases', 'books', 'headphones',\n",
       "       'mouse_pad', 'fire_tv', 'dumbells', 'ethnic_wear', 'tws_earbuds',\n",
       "       'cases_and_covers', 'shirts', 'gloves', 'dishwasher', 'bumpers',\n",
       "       'denim_jeans', 'smart_watches', 'makeup_kit', 'ropes', 'printers',\n",
       "       'shoes', 'refrigerators', 'harddisk', 'cat_food', 'footwears',\n",
       "       'skipping_rope', 'flower_pot', 'lens', 'oil_can', 'suspenders',\n",
       "       'bow_tie', 'paints', 'ear_rings', 'belt', 'frying_pan',\n",
       "       'rice_cooker', 'cd_driver', 'bangles', 'powerbells', 't_shirt',\n",
       "       'container', 'weigh_scale', 'tablet_holder', 'ring', 'tops',\n",
       "       'charger', 'wrist_band', 'delivery_bags', 'women_jacket',\n",
       "       'water_hose_pipe', 'coolers', 'baby_lotion', 'aux_cable',\n",
       "       'usb_cord', 'fitband', 'screen_guard', 'laptop', 'web_camera',\n",
       "       'joystick', 'tripods', 'flute', 'lamp', 'surround_system',\n",
       "       'pen_stand', 'mcafee_protection', 'sandisk', 'wall_paint',\n",
       "       'monitor', 'electrical_screwdriver', 'washing_machine', 'sofa',\n",
       "       'pooja_thali', 'glitter_powder_set', 'flower_seed', 'ebook',\n",
       "       'shoulder_bags', 'baby_shampoo', 'car_charger', 'kids_sunglasses',\n",
       "       'tank_pad', 'remote_control_car', 'amplifier', 'switch_box',\n",
       "       'sunglasses', 'lens_cleaner', 'skins_for_mobile', 'keyboard',\n",
       "       'camphor_box', 'bracelet', 'shells', 'digital_clock', 'jewellery',\n",
       "       'cd', 'gift_wrapper', 'squeeze_toy', 'kids_jeans', 'refrigirator',\n",
       "       'microwave_oven', 'tv', 'gaming_console', 'handle_grip', 'kettle',\n",
       "       'travel_bag', 'camera_slider', 'wooden_shelf', 'suitcase',\n",
       "       'wooden_chair', 'camera_lens', 'camera_bag', 'handicrafts',\n",
       "       'memory_card', 'air_conditioner', 'extension_cord', 'baby_soap',\n",
       "       'car_mobile_holder', 'mobile_battery', 'leather_pant', 'cad_game',\n",
       "       'mic', 'wallet', 'mcafee_antivirus', 'wall_hangings',\n",
       "       'photo_frames', 'hanger', 'drums_set', 'gaming_mouse', 'backpack',\n",
       "       'carpet', 'gardening_knife', 'wireless_headphones', 'chromecast',\n",
       "       'hair_bands', 'gift_containers', 'kids_tshirt', 'baby_shower_gel',\n",
       "       'digital_air_fryer', 'home_theater', 'play_station',\n",
       "       'photo_day_pack', 'wooden_table', 'wooden_cot', 'monopod',\n",
       "       'paintings', 'flash_drives', 'socks', 'crayons', 'waist_belt',\n",
       "       'kadaa', 'lightning_cable', 'refrigerator_cover', 'harddisk_cover',\n",
       "       'book_containers', 'fashion_tape', 'dumbbells', 'microphone',\n",
       "       'pots', 'flower_plant_seed', 'leather_jogger', 'mobile_cover',\n",
       "       'refined_oil', 'sweatshirts', 'epilator', 'pyjama', 'blazer',\n",
       "       'shoe_polish', 'portable_projectors', 'barcode_scanners',\n",
       "       'blood_pressure_monitor', 'data_cards', 'gaming_laptop',\n",
       "       'smart_lights', 'smart_glasses', 'internal_harddrive', 'soundbar',\n",
       "       'binoculars', 'recliners', 'office_tables', 'wardrobes',\n",
       "       'flower_vases', 'hand_tools', 'bulbs', 'batteries', 'bean_bags',\n",
       "       'cleaning_gloves', 'pet_toy', 'air_coolers', 'vaccum_cleaner',\n",
       "       'beard_oil', 'beverages', 'baby_wipes', 'soft_toys', 'school_bags',\n",
       "       'football', 'yoga_mat', 'car_freshner', 'contact_lens',\n",
       "       'split_airconditioner', 'coconut_oil', 'formal_shirt', 'cargo',\n",
       "       'ethinc_dresses', 'nightsuit', 'flipflops', 'large_travel_bags',\n",
       "       'jumpsuit', 'sippers', 'garden_tool_set', 'sandals',\n",
       "       'window_airconditioner', 'puppy_food', 'frames', 'boxer',\n",
       "       'infant_wear', 'sling_bag', 'drone', 'toners', 'gamepad',\n",
       "       'hair_dryer', 'router', 'processor', 'mini_powerbank',\n",
       "       'smart_switches', 'external_harddrive', 'curtains', 'sofa_sets',\n",
       "       'glassware', 'side_table', 'table_linen', 'umberla', 'door_lock',\n",
       "       'fire_extinguisher', 'wall_shelves', 'table_lamp', 'lunch_box',\n",
       "       'non_fiction', 'chocolates', 'sheets', 'puzzles', 'violin',\n",
       "       'arm_sleeve', 'sports_shoes', 'mobile_phone', 'weighing_scale',\n",
       "       'diapers', 'coffee_tables', 'literature', 'trimmer', 'bp_monitors',\n",
       "       'bluetooth_speakers', 'notebooks', 'dslr', 'toy_car', 'routers',\n",
       "       'pens', 'hand_blenders', 'coffee_makers', 'game_pad_large',\n",
       "       'gimbles', 'guitar_case', 'wet_grinders', 'smart_door_lock',\n",
       "       'audio_speakers', 'diaries', 'k7_security', 'hp_16gb',\n",
       "       'showpieces', 'measurement_devices', 'floor_covering', 'candle',\n",
       "       'barbie_doll', 'handcrafted_idol', 'wipes', 'palazzos',\n",
       "       'car_cover', 'rear_lamp', 'kids_shirt', 'toy_guns',\n",
       "       'scientific_products', 'traveller_bag', 'ipad', 'gift_wrappers',\n",
       "       'watering_can', 'goggles', 'ultra_hd_tv', 'fully_automated',\n",
       "       'inverter_ac', 'toaster_grills', 'mobile_holders', 'set_top_box',\n",
       "       'mattresses', 'mirrorless', 'harddrive_cover', 'figurines',\n",
       "       'lamps', 'dinner_set', 'blankets', 'ultility_box', 'key_holder',\n",
       "       'ceiling_light', 'pepper_stream_spray', 'dog_chain', 'containers',\n",
       "       'crime_novels', 'oil_containers', 'violin_string', 'bike_polish',\n",
       "       'perfumes', 'high_heels', 'electrical_wires', 'baby_care_set',\n",
       "       'wooden_sofa_set', 'jenga', 'swimming_fins', 'puzzle_play',\n",
       "       'air_tight_container', 'rubber_toys', 'tv_shelf',\n",
       "       'gardern_sprayers', 'crocs', 'laptop_charger', 'kid_tshirt',\n",
       "       'party_wear', 'ink_cartridges', 'travell_bags_large',\n",
       "       'paintings_small', 'study_table', 'amazon_alexa',\n",
       "       'fire_extinguisher_mini', 'smart_light', 'pillow_stand',\n",
       "       'food_colourings', 'chimneys', 'cooking_oil', 'soldering_kit',\n",
       "       'miniature', 'pooja_kit', 'soundbars', 'curved_tv', 'shoe_racks',\n",
       "       'bathroom_fitings', 'shaker_bottle', 'multiutility_plier',\n",
       "       'table_light', 'body_lotion', 'thermometer', 'sunscreens',\n",
       "       'teddy_bear', 'flour_bags', 'boxing_bag', 'markers', 'bracelets',\n",
       "       'treadmill', 'kurti'], dtype=object)"
      ]
     },
     "execution_count": 31,
     "metadata": {},
     "output_type": "execute_result"
    }
   ],
   "source": [
    "df1[\"sub_category\"].unique()"
   ]
  },
  {
   "cell_type": "code",
   "execution_count": null,
   "id": "68aec03c",
   "metadata": {},
   "outputs": [],
   "source": []
  }
 ],
 "metadata": {
  "kernelspec": {
   "display_name": "Python 3 (ipykernel)",
   "language": "python",
   "name": "python3"
  },
  "language_info": {
   "codemirror_mode": {
    "name": "ipython",
    "version": 3
   },
   "file_extension": ".py",
   "mimetype": "text/x-python",
   "name": "python",
   "nbconvert_exporter": "python",
   "pygments_lexer": "ipython3",
   "version": "3.9.13"
  }
 },
 "nbformat": 4,
 "nbformat_minor": 5
}
