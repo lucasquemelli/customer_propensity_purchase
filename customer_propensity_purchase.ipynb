{
 "cells": [
  {
   "cell_type": "markdown",
   "id": "ebdefa5b",
   "metadata": {},
   "source": [
    "# Assumptions & Considerations"
   ]
  },
  {
   "cell_type": "markdown",
   "id": "30544614",
   "metadata": {},
   "source": [
    "## Columns\n",
    "\n",
    "- Quantity, Rate and Total Price columns has informations only when the user purchases.\n",
    "- Rate is the price per unity of product.\n",
    "- Total price is the quantity multiplied by the rate. "
   ]
  },
  {
   "cell_type": "markdown",
   "id": "ea254ded",
   "metadata": {},
   "source": [
    "## Propensity Models\n",
    "\n",
    "- They are predictive models to determine the behavior of users based on past behavior. \n",
    "- This helps us to create customized campaigns to the users."
   ]
  },
  {
   "cell_type": "markdown",
   "id": "839ef31c",
   "metadata": {},
   "source": [
    "1. Data time range - 1 year (2019).\n",
    "2. Trigger based modelling approach - what is the propensity of buying after a user does the intended action (here it is added to cart). \n",
    "3. Only users who added the products to cart are considered in this analysis (ignoring users who made a direct buy because there is no trigger).\n",
    "4. RFM features are used to improve the performance of the model for the existing users."
   ]
  },
  {
   "cell_type": "markdown",
   "id": "37f164e5",
   "metadata": {},
   "source": [
    "# Libraries"
   ]
  },
  {
   "cell_type": "code",
   "execution_count": 55,
   "id": "3b7f97a1",
   "metadata": {
    "ExecuteTime": {
     "end_time": "2023-01-28T15:07:38.185287Z",
     "start_time": "2023-01-28T15:07:36.655801Z"
    }
   },
   "outputs": [],
   "source": [
    "import inflection \n",
    "import pandas as pd\n",
    "import numpy as np\n",
    "\n",
    "import matplotlib.pyplot as plt\n",
    "import seaborn as sns\n",
    "sns.set()\n",
    "\n",
    "import warnings \n",
    "warnings.filterwarnings('ignore')\n",
    "\n",
    "from datetime import datetime\n",
    "from scipy import stats as ss\n",
    "from pandas_profiling import ProfileReport"
   ]
  },
  {
   "cell_type": "markdown",
   "id": "683efe4d",
   "metadata": {},
   "source": [
    "# Helper Functions"
   ]
  },
  {
   "cell_type": "code",
   "execution_count": 2,
   "id": "22d18b65",
   "metadata": {
    "ExecuteTime": {
     "end_time": "2023-01-28T13:56:52.802025Z",
     "start_time": "2023-01-28T13:56:52.796873Z"
    }
   },
   "outputs": [],
   "source": [
    "def cramer_v(x, y):\n",
    "    cm = pd.crosstab(x, y).values\n",
    "    n = cm.sum()\n",
    "    r, k = cm.shape\n",
    "    \n",
    "    chi2 = ss.chi2_contingency( cm )[0]\n",
    "    chi2corr = max(0, chi2 - (k-1)*(r-1)/(n-1))\n",
    "    \n",
    "    kcorr = k - (k-1)**2/(n-1)\n",
    "    rcorr = r - (r-1)**2/(n-1)\n",
    "    \n",
    "    return np.sqrt( (chi2corr/n) / ( min( kcorr-1, rcorr-1 ) ) )"
   ]
  },
  {
   "cell_type": "markdown",
   "id": "6501cdfd",
   "metadata": {},
   "source": [
    "# Loading Data"
   ]
  },
  {
   "cell_type": "code",
   "execution_count": 3,
   "id": "18e96841",
   "metadata": {
    "ExecuteTime": {
     "end_time": "2023-01-28T13:56:53.264931Z",
     "start_time": "2023-01-28T13:56:52.803910Z"
    }
   },
   "outputs": [
    {
     "data": {
      "text/html": [
       "<div>\n",
       "<style scoped>\n",
       "    .dataframe tbody tr th:only-of-type {\n",
       "        vertical-align: middle;\n",
       "    }\n",
       "\n",
       "    .dataframe tbody tr th {\n",
       "        vertical-align: top;\n",
       "    }\n",
       "\n",
       "    .dataframe thead th {\n",
       "        text-align: right;\n",
       "    }\n",
       "</style>\n",
       "<table border=\"1\" class=\"dataframe\">\n",
       "  <thead>\n",
       "    <tr style=\"text-align: right;\">\n",
       "      <th></th>\n",
       "      <th>User_id</th>\n",
       "      <th>Session_id</th>\n",
       "      <th>DateTime</th>\n",
       "      <th>Category</th>\n",
       "      <th>SubCategory</th>\n",
       "      <th>Action</th>\n",
       "      <th>Quantity</th>\n",
       "      <th>Rate</th>\n",
       "      <th>Total Price</th>\n",
       "    </tr>\n",
       "  </thead>\n",
       "  <tbody>\n",
       "    <tr>\n",
       "      <th>0</th>\n",
       "      <td>52243841613</td>\n",
       "      <td>d76fde-8bb3-4e00-8c23</td>\n",
       "      <td>2019-01-10 10:20:00</td>\n",
       "      <td>Electronic Appliances</td>\n",
       "      <td>Speakers</td>\n",
       "      <td>first_app_open</td>\n",
       "      <td>NaN</td>\n",
       "      <td>NaN</td>\n",
       "      <td>NaN</td>\n",
       "    </tr>\n",
       "    <tr>\n",
       "      <th>1</th>\n",
       "      <td>52243841613</td>\n",
       "      <td>33dfbd-b87a-4708-9857</td>\n",
       "      <td>2019-01-10 10:22:00</td>\n",
       "      <td>Electronic Appliances</td>\n",
       "      <td>Speakers</td>\n",
       "      <td>search</td>\n",
       "      <td>NaN</td>\n",
       "      <td>NaN</td>\n",
       "      <td>NaN</td>\n",
       "    </tr>\n",
       "    <tr>\n",
       "      <th>2</th>\n",
       "      <td>57314161118</td>\n",
       "      <td>6511c2-e2e3-422b-b695</td>\n",
       "      <td>2019-01-10 14:00:00</td>\n",
       "      <td>Men's Fashion</td>\n",
       "      <td>Jeans</td>\n",
       "      <td>search</td>\n",
       "      <td>NaN</td>\n",
       "      <td>NaN</td>\n",
       "      <td>NaN</td>\n",
       "    </tr>\n",
       "    <tr>\n",
       "      <th>3</th>\n",
       "      <td>57314161118</td>\n",
       "      <td>90fc70-0e80-4590-96f3</td>\n",
       "      <td>2019-01-10 14:07:00</td>\n",
       "      <td>Men's Fashion</td>\n",
       "      <td>Jeans</td>\n",
       "      <td>product_view</td>\n",
       "      <td>NaN</td>\n",
       "      <td>NaN</td>\n",
       "      <td>NaN</td>\n",
       "    </tr>\n",
       "    <tr>\n",
       "      <th>4</th>\n",
       "      <td>57314161118</td>\n",
       "      <td>bd7419-2748-4c56-95b4</td>\n",
       "      <td>2019-01-10 14:12:00</td>\n",
       "      <td>Men's Fashion</td>\n",
       "      <td>Jeans</td>\n",
       "      <td>read_reviews</td>\n",
       "      <td>NaN</td>\n",
       "      <td>NaN</td>\n",
       "      <td>NaN</td>\n",
       "    </tr>\n",
       "  </tbody>\n",
       "</table>\n",
       "</div>"
      ],
      "text/plain": [
       "       User_id             Session_id             DateTime  \\\n",
       "0  52243841613  d76fde-8bb3-4e00-8c23  2019-01-10 10:20:00   \n",
       "1  52243841613  33dfbd-b87a-4708-9857  2019-01-10 10:22:00   \n",
       "2  57314161118  6511c2-e2e3-422b-b695  2019-01-10 14:00:00   \n",
       "3  57314161118  90fc70-0e80-4590-96f3  2019-01-10 14:07:00   \n",
       "4  57314161118  bd7419-2748-4c56-95b4  2019-01-10 14:12:00   \n",
       "\n",
       "                Category SubCategory          Action  Quantity  Rate  \\\n",
       "0  Electronic Appliances    Speakers  first_app_open       NaN   NaN   \n",
       "1  Electronic Appliances    Speakers          search       NaN   NaN   \n",
       "2          Men's Fashion       Jeans          search       NaN   NaN   \n",
       "3          Men's Fashion       Jeans    product_view       NaN   NaN   \n",
       "4          Men's Fashion       Jeans    read_reviews       NaN   NaN   \n",
       "\n",
       "   Total Price  \n",
       "0          NaN  \n",
       "1          NaN  \n",
       "2          NaN  \n",
       "3          NaN  \n",
       "4          NaN  "
      ]
     },
     "execution_count": 3,
     "metadata": {},
     "output_type": "execute_result"
    }
   ],
   "source": [
    "data = pd.read_excel('data/final_customer_data.xlsx')\n",
    "data.head()"
   ]
  },
  {
   "cell_type": "markdown",
   "id": "458af8f9",
   "metadata": {},
   "source": [
    "# 1. Data Description"
   ]
  },
  {
   "cell_type": "code",
   "execution_count": 4,
   "id": "614c23db",
   "metadata": {
    "ExecuteTime": {
     "end_time": "2023-01-28T13:56:53.270226Z",
     "start_time": "2023-01-28T13:56:53.267662Z"
    }
   },
   "outputs": [],
   "source": [
    "df1 = data.copy()"
   ]
  },
  {
   "cell_type": "markdown",
   "id": "dcb00465",
   "metadata": {},
   "source": [
    "## Data Fields Meaning\n",
    "\n",
    "- User_id: unique identifier for each user.\n",
    "\n",
    "- Session_id: unique identifier that generates every time a user enters the app and it will expire when the user exits the app. \n",
    "\n",
    "- DateTime: timestamp when a particular action is performed. \n",
    "\n",
    "- Category: product category.\n",
    "\n",
    "- SubCategory: product sub category. \n",
    "\n",
    "- Actions: these are the event, the actions the users can do in the app. These action may be product view, read reviews, purchase, add to cart, etc.\n",
    "\n",
    "- Quantity: number of products ordered.\n",
    "\n",
    "- Rate: it is the price per unity of product.\n",
    "\n",
    "- Total price is the quantity multiplied by the rate."
   ]
  },
  {
   "cell_type": "markdown",
   "id": "c831fa28",
   "metadata": {},
   "source": [
    "## 1.1. Rename Columns"
   ]
  },
  {
   "cell_type": "markdown",
   "id": "5176c32f",
   "metadata": {},
   "source": [
    "We are going to rename columns from camel case to snake case."
   ]
  },
  {
   "cell_type": "code",
   "execution_count": 5,
   "id": "16cadfb4",
   "metadata": {
    "ExecuteTime": {
     "end_time": "2023-01-28T13:56:53.275710Z",
     "start_time": "2023-01-28T13:56:53.272126Z"
    }
   },
   "outputs": [
    {
     "data": {
      "text/plain": [
       "Index(['User_id', 'Session_id', 'DateTime', 'Category', 'SubCategory',\n",
       "       'Action', 'Quantity', 'Rate', 'Total Price'],\n",
       "      dtype='object')"
      ]
     },
     "execution_count": 5,
     "metadata": {},
     "output_type": "execute_result"
    }
   ],
   "source": [
    "df1.columns"
   ]
  },
  {
   "cell_type": "code",
   "execution_count": 6,
   "id": "f280d1c7",
   "metadata": {
    "ExecuteTime": {
     "end_time": "2023-01-28T13:56:53.281320Z",
     "start_time": "2023-01-28T13:56:53.277361Z"
    }
   },
   "outputs": [],
   "source": [
    "cols_old = ['User_id', 'Session_id', 'DateTime', 'Category', 'SubCategory',\n",
    "            'Action', 'Quantity', 'Rate', 'TotalPrice']\n",
    "\n",
    "snake_case = lambda x: inflection.underscore(x)\n",
    "\n",
    "cols_new = list(map(snake_case, cols_old))\n",
    "\n",
    "#rename\n",
    "df1.columns = cols_new"
   ]
  },
  {
   "cell_type": "code",
   "execution_count": 7,
   "id": "d9619749",
   "metadata": {
    "ExecuteTime": {
     "end_time": "2023-01-28T13:56:53.288348Z",
     "start_time": "2023-01-28T13:56:53.283551Z"
    }
   },
   "outputs": [
    {
     "data": {
      "text/plain": [
       "Index(['user_id', 'session_id', 'date_time', 'category', 'sub_category',\n",
       "       'action', 'quantity', 'rate', 'total_price'],\n",
       "      dtype='object')"
      ]
     },
     "execution_count": 7,
     "metadata": {},
     "output_type": "execute_result"
    }
   ],
   "source": [
    "df1.columns"
   ]
  },
  {
   "cell_type": "markdown",
   "id": "8c72993f",
   "metadata": {},
   "source": [
    "## 1.2. Data Dimensions"
   ]
  },
  {
   "cell_type": "code",
   "execution_count": 8,
   "id": "38b6525f",
   "metadata": {
    "ExecuteTime": {
     "end_time": "2023-01-28T13:56:53.294594Z",
     "start_time": "2023-01-28T13:56:53.290598Z"
    }
   },
   "outputs": [
    {
     "name": "stdout",
     "output_type": "stream",
     "text": [
      "Number of rows: 2090\n",
      "Number of cols: 9\n"
     ]
    }
   ],
   "source": [
    "print(\"Number of rows: {}\".format(df1.shape[0]))\n",
    "print(\"Number of cols: {}\".format(df1.shape[1]))"
   ]
  },
  {
   "cell_type": "markdown",
   "id": "40325933",
   "metadata": {},
   "source": [
    "## 1.3. Data Types"
   ]
  },
  {
   "cell_type": "code",
   "execution_count": 9,
   "id": "bb69279d",
   "metadata": {
    "ExecuteTime": {
     "end_time": "2023-01-28T13:56:53.302119Z",
     "start_time": "2023-01-28T13:56:53.296579Z"
    }
   },
   "outputs": [
    {
     "data": {
      "text/plain": [
       "user_id           int64\n",
       "session_id       object\n",
       "date_time        object\n",
       "category         object\n",
       "sub_category     object\n",
       "action           object\n",
       "quantity        float64\n",
       "rate            float64\n",
       "total_price     float64\n",
       "dtype: object"
      ]
     },
     "execution_count": 9,
     "metadata": {},
     "output_type": "execute_result"
    }
   ],
   "source": [
    "df1.dtypes"
   ]
  },
  {
   "cell_type": "code",
   "execution_count": 10,
   "id": "6c9046d7",
   "metadata": {
    "ExecuteTime": {
     "end_time": "2023-01-28T13:56:53.317472Z",
     "start_time": "2023-01-28T13:56:53.307681Z"
    }
   },
   "outputs": [
    {
     "data": {
      "text/html": [
       "<div>\n",
       "<style scoped>\n",
       "    .dataframe tbody tr th:only-of-type {\n",
       "        vertical-align: middle;\n",
       "    }\n",
       "\n",
       "    .dataframe tbody tr th {\n",
       "        vertical-align: top;\n",
       "    }\n",
       "\n",
       "    .dataframe thead th {\n",
       "        text-align: right;\n",
       "    }\n",
       "</style>\n",
       "<table border=\"1\" class=\"dataframe\">\n",
       "  <thead>\n",
       "    <tr style=\"text-align: right;\">\n",
       "      <th></th>\n",
       "      <th>user_id</th>\n",
       "      <th>session_id</th>\n",
       "      <th>date_time</th>\n",
       "      <th>category</th>\n",
       "      <th>sub_category</th>\n",
       "      <th>action</th>\n",
       "      <th>quantity</th>\n",
       "      <th>rate</th>\n",
       "      <th>total_price</th>\n",
       "    </tr>\n",
       "  </thead>\n",
       "  <tbody>\n",
       "    <tr>\n",
       "      <th>0</th>\n",
       "      <td>52243841613</td>\n",
       "      <td>d76fde-8bb3-4e00-8c23</td>\n",
       "      <td>2019-01-10 10:20:00</td>\n",
       "      <td>Electronic Appliances</td>\n",
       "      <td>Speakers</td>\n",
       "      <td>first_app_open</td>\n",
       "      <td>NaN</td>\n",
       "      <td>NaN</td>\n",
       "      <td>NaN</td>\n",
       "    </tr>\n",
       "    <tr>\n",
       "      <th>1</th>\n",
       "      <td>52243841613</td>\n",
       "      <td>33dfbd-b87a-4708-9857</td>\n",
       "      <td>2019-01-10 10:22:00</td>\n",
       "      <td>Electronic Appliances</td>\n",
       "      <td>Speakers</td>\n",
       "      <td>search</td>\n",
       "      <td>NaN</td>\n",
       "      <td>NaN</td>\n",
       "      <td>NaN</td>\n",
       "    </tr>\n",
       "    <tr>\n",
       "      <th>2</th>\n",
       "      <td>57314161118</td>\n",
       "      <td>6511c2-e2e3-422b-b695</td>\n",
       "      <td>2019-01-10 14:00:00</td>\n",
       "      <td>Men's Fashion</td>\n",
       "      <td>Jeans</td>\n",
       "      <td>search</td>\n",
       "      <td>NaN</td>\n",
       "      <td>NaN</td>\n",
       "      <td>NaN</td>\n",
       "    </tr>\n",
       "  </tbody>\n",
       "</table>\n",
       "</div>"
      ],
      "text/plain": [
       "       user_id             session_id            date_time  \\\n",
       "0  52243841613  d76fde-8bb3-4e00-8c23  2019-01-10 10:20:00   \n",
       "1  52243841613  33dfbd-b87a-4708-9857  2019-01-10 10:22:00   \n",
       "2  57314161118  6511c2-e2e3-422b-b695  2019-01-10 14:00:00   \n",
       "\n",
       "                category sub_category          action  quantity  rate  \\\n",
       "0  Electronic Appliances     Speakers  first_app_open       NaN   NaN   \n",
       "1  Electronic Appliances     Speakers          search       NaN   NaN   \n",
       "2          Men's Fashion        Jeans          search       NaN   NaN   \n",
       "\n",
       "   total_price  \n",
       "0          NaN  \n",
       "1          NaN  \n",
       "2          NaN  "
      ]
     },
     "execution_count": 10,
     "metadata": {},
     "output_type": "execute_result"
    }
   ],
   "source": [
    "df1.head(3)"
   ]
  },
  {
   "cell_type": "markdown",
   "id": "8cf8ec9d",
   "metadata": {},
   "source": [
    "### 1.3.1. Data conversion"
   ]
  },
  {
   "cell_type": "code",
   "execution_count": 11,
   "id": "962b8cba",
   "metadata": {
    "ExecuteTime": {
     "end_time": "2023-01-28T13:56:53.395221Z",
     "start_time": "2023-01-28T13:56:53.319251Z"
    }
   },
   "outputs": [
    {
     "data": {
      "text/html": [
       "<div>\n",
       "<style scoped>\n",
       "    .dataframe tbody tr th:only-of-type {\n",
       "        vertical-align: middle;\n",
       "    }\n",
       "\n",
       "    .dataframe tbody tr th {\n",
       "        vertical-align: top;\n",
       "    }\n",
       "\n",
       "    .dataframe thead th {\n",
       "        text-align: right;\n",
       "    }\n",
       "</style>\n",
       "<table border=\"1\" class=\"dataframe\">\n",
       "  <thead>\n",
       "    <tr style=\"text-align: right;\">\n",
       "      <th></th>\n",
       "      <th>user_id</th>\n",
       "      <th>session_id</th>\n",
       "      <th>date_time</th>\n",
       "      <th>category</th>\n",
       "      <th>sub_category</th>\n",
       "      <th>action</th>\n",
       "      <th>quantity</th>\n",
       "      <th>rate</th>\n",
       "      <th>total_price</th>\n",
       "    </tr>\n",
       "  </thead>\n",
       "  <tbody>\n",
       "    <tr>\n",
       "      <th>0</th>\n",
       "      <td>52243841613</td>\n",
       "      <td>d76fde-8bb3-4e00-8c23</td>\n",
       "      <td>2019-01-10 10:20:00</td>\n",
       "      <td>Electronic Appliances</td>\n",
       "      <td>Speakers</td>\n",
       "      <td>first_app_open</td>\n",
       "      <td>NaN</td>\n",
       "      <td>NaN</td>\n",
       "      <td>NaN</td>\n",
       "    </tr>\n",
       "    <tr>\n",
       "      <th>1</th>\n",
       "      <td>52243841613</td>\n",
       "      <td>33dfbd-b87a-4708-9857</td>\n",
       "      <td>2019-01-10 10:22:00</td>\n",
       "      <td>Electronic Appliances</td>\n",
       "      <td>Speakers</td>\n",
       "      <td>search</td>\n",
       "      <td>NaN</td>\n",
       "      <td>NaN</td>\n",
       "      <td>NaN</td>\n",
       "    </tr>\n",
       "    <tr>\n",
       "      <th>2</th>\n",
       "      <td>57314161118</td>\n",
       "      <td>6511c2-e2e3-422b-b695</td>\n",
       "      <td>2019-01-10 14:00:00</td>\n",
       "      <td>Men's Fashion</td>\n",
       "      <td>Jeans</td>\n",
       "      <td>search</td>\n",
       "      <td>NaN</td>\n",
       "      <td>NaN</td>\n",
       "      <td>NaN</td>\n",
       "    </tr>\n",
       "    <tr>\n",
       "      <th>3</th>\n",
       "      <td>57314161118</td>\n",
       "      <td>90fc70-0e80-4590-96f3</td>\n",
       "      <td>2019-01-10 14:07:00</td>\n",
       "      <td>Men's Fashion</td>\n",
       "      <td>Jeans</td>\n",
       "      <td>product_view</td>\n",
       "      <td>NaN</td>\n",
       "      <td>NaN</td>\n",
       "      <td>NaN</td>\n",
       "    </tr>\n",
       "    <tr>\n",
       "      <th>4</th>\n",
       "      <td>57314161118</td>\n",
       "      <td>bd7419-2748-4c56-95b4</td>\n",
       "      <td>2019-01-10 14:12:00</td>\n",
       "      <td>Men's Fashion</td>\n",
       "      <td>Jeans</td>\n",
       "      <td>read_reviews</td>\n",
       "      <td>NaN</td>\n",
       "      <td>NaN</td>\n",
       "      <td>NaN</td>\n",
       "    </tr>\n",
       "  </tbody>\n",
       "</table>\n",
       "</div>"
      ],
      "text/plain": [
       "       user_id             session_id           date_time  \\\n",
       "0  52243841613  d76fde-8bb3-4e00-8c23 2019-01-10 10:20:00   \n",
       "1  52243841613  33dfbd-b87a-4708-9857 2019-01-10 10:22:00   \n",
       "2  57314161118  6511c2-e2e3-422b-b695 2019-01-10 14:00:00   \n",
       "3  57314161118  90fc70-0e80-4590-96f3 2019-01-10 14:07:00   \n",
       "4  57314161118  bd7419-2748-4c56-95b4 2019-01-10 14:12:00   \n",
       "\n",
       "                category sub_category          action  quantity  rate  \\\n",
       "0  Electronic Appliances     Speakers  first_app_open       NaN   NaN   \n",
       "1  Electronic Appliances     Speakers          search       NaN   NaN   \n",
       "2          Men's Fashion        Jeans          search       NaN   NaN   \n",
       "3          Men's Fashion        Jeans    product_view       NaN   NaN   \n",
       "4          Men's Fashion        Jeans    read_reviews       NaN   NaN   \n",
       "\n",
       "   total_price  \n",
       "0          NaN  \n",
       "1          NaN  \n",
       "2          NaN  \n",
       "3          NaN  \n",
       "4          NaN  "
      ]
     },
     "execution_count": 11,
     "metadata": {},
     "output_type": "execute_result"
    }
   ],
   "source": [
    "df1[\"date_time\"] = pd.to_datetime(df1[\"date_time\"])\n",
    "df1.head()"
   ]
  },
  {
   "cell_type": "code",
   "execution_count": 12,
   "id": "532b68d5",
   "metadata": {
    "ExecuteTime": {
     "end_time": "2023-01-28T13:56:53.403130Z",
     "start_time": "2023-01-28T13:56:53.397713Z"
    }
   },
   "outputs": [
    {
     "data": {
      "text/plain": [
       "user_id                  int64\n",
       "session_id              object\n",
       "date_time       datetime64[ns]\n",
       "category                object\n",
       "sub_category            object\n",
       "action                  object\n",
       "quantity               float64\n",
       "rate                   float64\n",
       "total_price            float64\n",
       "dtype: object"
      ]
     },
     "execution_count": 12,
     "metadata": {},
     "output_type": "execute_result"
    }
   ],
   "source": [
    "df1.dtypes"
   ]
  },
  {
   "cell_type": "markdown",
   "id": "48be8178",
   "metadata": {},
   "source": [
    "## 1.4. NA Check"
   ]
  },
  {
   "cell_type": "code",
   "execution_count": 13,
   "id": "fcb6a093",
   "metadata": {
    "ExecuteTime": {
     "end_time": "2023-01-28T13:56:53.412958Z",
     "start_time": "2023-01-28T13:56:53.405363Z"
    }
   },
   "outputs": [
    {
     "data": {
      "text/plain": [
       "user_id            0\n",
       "session_id         0\n",
       "date_time          0\n",
       "category           0\n",
       "sub_category       0\n",
       "action             0\n",
       "quantity        1889\n",
       "rate            1889\n",
       "total_price     1889\n",
       "dtype: int64"
      ]
     },
     "execution_count": 13,
     "metadata": {},
     "output_type": "execute_result"
    }
   ],
   "source": [
    "df1.isna().sum()"
   ]
  },
  {
   "cell_type": "code",
   "execution_count": 14,
   "id": "c9068aa4",
   "metadata": {
    "ExecuteTime": {
     "end_time": "2023-01-28T13:56:53.422756Z",
     "start_time": "2023-01-28T13:56:53.414888Z"
    }
   },
   "outputs": [
    {
     "data": {
      "text/plain": [
       "user_id         0.000000\n",
       "session_id      0.000000\n",
       "date_time       0.000000\n",
       "category        0.000000\n",
       "sub_category    0.000000\n",
       "action          0.000000\n",
       "quantity        0.903828\n",
       "rate            0.903828\n",
       "total_price     0.903828\n",
       "dtype: float64"
      ]
     },
     "execution_count": 14,
     "metadata": {},
     "output_type": "execute_result"
    }
   ],
   "source": [
    "df1.isna().sum()/len(df1)"
   ]
  },
  {
   "cell_type": "markdown",
   "id": "3d2ff246",
   "metadata": {},
   "source": [
    "## 1.5. Removing NA "
   ]
  },
  {
   "cell_type": "markdown",
   "id": "d7bc5a01",
   "metadata": {},
   "source": [
    "As we know, the columns quantity, rate and total_price only have informations when the user purchases at least one product. Since these columns have around 90% of NA values, we cannot simply remove those rows. Thus, we are going to assume a value equals zero instead of NA value for this situation."
   ]
  },
  {
   "cell_type": "code",
   "execution_count": 15,
   "id": "405236cf",
   "metadata": {
    "ExecuteTime": {
     "end_time": "2023-01-28T13:56:53.430145Z",
     "start_time": "2023-01-28T13:56:53.425138Z"
    }
   },
   "outputs": [],
   "source": [
    "# quantity\n",
    "df1['quantity'] = df1['quantity'].fillna(0)\n",
    "\n",
    "# rate\n",
    "df1['rate'] = df1['rate'].fillna(0)\n",
    "\n",
    "# total_price\n",
    "df1['total_price'] = df1['total_price'].fillna(0)"
   ]
  },
  {
   "cell_type": "code",
   "execution_count": 16,
   "id": "e75f0e42",
   "metadata": {
    "ExecuteTime": {
     "end_time": "2023-01-28T13:56:53.440112Z",
     "start_time": "2023-01-28T13:56:53.432073Z"
    }
   },
   "outputs": [
    {
     "data": {
      "text/plain": [
       "user_id         0\n",
       "session_id      0\n",
       "date_time       0\n",
       "category        0\n",
       "sub_category    0\n",
       "action          0\n",
       "quantity        0\n",
       "rate            0\n",
       "total_price     0\n",
       "dtype: int64"
      ]
     },
     "execution_count": 16,
     "metadata": {},
     "output_type": "execute_result"
    }
   ],
   "source": [
    "df1.isna().sum()"
   ]
  },
  {
   "cell_type": "markdown",
   "id": "7eb0b1e9",
   "metadata": {},
   "source": [
    "## 1.6. Check Balanced Data"
   ]
  },
  {
   "cell_type": "code",
   "execution_count": null,
   "id": "2cc358c9",
   "metadata": {},
   "outputs": [],
   "source": []
  },
  {
   "cell_type": "code",
   "execution_count": null,
   "id": "63cc8f50",
   "metadata": {},
   "outputs": [],
   "source": []
  },
  {
   "cell_type": "code",
   "execution_count": null,
   "id": "14e79843",
   "metadata": {},
   "outputs": [],
   "source": []
  },
  {
   "cell_type": "code",
   "execution_count": null,
   "id": "bc8227bf",
   "metadata": {},
   "outputs": [],
   "source": []
  },
  {
   "cell_type": "markdown",
   "id": "19174666",
   "metadata": {},
   "source": [
    "## 1.7. Descriptive Statistics"
   ]
  },
  {
   "cell_type": "markdown",
   "id": "9be9aa26",
   "metadata": {},
   "source": [
    "This section is to find inconsistencies, anomalies and also the main characteristics of our data."
   ]
  },
  {
   "cell_type": "code",
   "execution_count": 17,
   "id": "6168c798",
   "metadata": {
    "ExecuteTime": {
     "end_time": "2023-01-28T13:56:53.453433Z",
     "start_time": "2023-01-28T13:56:53.442155Z"
    }
   },
   "outputs": [
    {
     "name": "stdout",
     "output_type": "stream",
     "text": [
      "<class 'pandas.core.frame.DataFrame'>\n",
      "RangeIndex: 2090 entries, 0 to 2089\n",
      "Data columns (total 9 columns):\n",
      " #   Column        Non-Null Count  Dtype         \n",
      "---  ------        --------------  -----         \n",
      " 0   user_id       2090 non-null   int64         \n",
      " 1   session_id    2090 non-null   object        \n",
      " 2   date_time     2090 non-null   datetime64[ns]\n",
      " 3   category      2090 non-null   object        \n",
      " 4   sub_category  2090 non-null   object        \n",
      " 5   action        2090 non-null   object        \n",
      " 6   quantity      2090 non-null   float64       \n",
      " 7   rate          2090 non-null   float64       \n",
      " 8   total_price   2090 non-null   float64       \n",
      "dtypes: datetime64[ns](1), float64(3), int64(1), object(4)\n",
      "memory usage: 147.1+ KB\n"
     ]
    }
   ],
   "source": [
    "df1.info()"
   ]
  },
  {
   "cell_type": "code",
   "execution_count": 18,
   "id": "b0655371",
   "metadata": {
    "ExecuteTime": {
     "end_time": "2023-01-28T13:56:53.472683Z",
     "start_time": "2023-01-28T13:56:53.455521Z"
    }
   },
   "outputs": [
    {
     "data": {
      "text/html": [
       "<div>\n",
       "<style scoped>\n",
       "    .dataframe tbody tr th:only-of-type {\n",
       "        vertical-align: middle;\n",
       "    }\n",
       "\n",
       "    .dataframe tbody tr th {\n",
       "        vertical-align: top;\n",
       "    }\n",
       "\n",
       "    .dataframe thead th {\n",
       "        text-align: right;\n",
       "    }\n",
       "</style>\n",
       "<table border=\"1\" class=\"dataframe\">\n",
       "  <thead>\n",
       "    <tr style=\"text-align: right;\">\n",
       "      <th></th>\n",
       "      <th>user_id</th>\n",
       "      <th>quantity</th>\n",
       "      <th>rate</th>\n",
       "      <th>total_price</th>\n",
       "    </tr>\n",
       "  </thead>\n",
       "  <tbody>\n",
       "    <tr>\n",
       "      <th>count</th>\n",
       "      <td>2.090000e+03</td>\n",
       "      <td>2090.000000</td>\n",
       "      <td>2090.000000</td>\n",
       "      <td>2090.000000</td>\n",
       "    </tr>\n",
       "    <tr>\n",
       "      <th>mean</th>\n",
       "      <td>5.383871e+10</td>\n",
       "      <td>0.285167</td>\n",
       "      <td>686.023923</td>\n",
       "      <td>909.344498</td>\n",
       "    </tr>\n",
       "    <tr>\n",
       "      <th>std</th>\n",
       "      <td>2.781474e+09</td>\n",
       "      <td>2.382323</td>\n",
       "      <td>5033.290983</td>\n",
       "      <td>6287.728594</td>\n",
       "    </tr>\n",
       "    <tr>\n",
       "      <th>min</th>\n",
       "      <td>5.144382e+10</td>\n",
       "      <td>0.000000</td>\n",
       "      <td>0.000000</td>\n",
       "      <td>0.000000</td>\n",
       "    </tr>\n",
       "    <tr>\n",
       "      <th>25%</th>\n",
       "      <td>5.176871e+10</td>\n",
       "      <td>0.000000</td>\n",
       "      <td>0.000000</td>\n",
       "      <td>0.000000</td>\n",
       "    </tr>\n",
       "    <tr>\n",
       "      <th>50%</th>\n",
       "      <td>5.220572e+10</td>\n",
       "      <td>0.000000</td>\n",
       "      <td>0.000000</td>\n",
       "      <td>0.000000</td>\n",
       "    </tr>\n",
       "    <tr>\n",
       "      <th>75%</th>\n",
       "      <td>5.566042e+10</td>\n",
       "      <td>0.000000</td>\n",
       "      <td>0.000000</td>\n",
       "      <td>0.000000</td>\n",
       "    </tr>\n",
       "    <tr>\n",
       "      <th>max</th>\n",
       "      <td>6.030264e+10</td>\n",
       "      <td>100.000000</td>\n",
       "      <td>90000.000000</td>\n",
       "      <td>160000.000000</td>\n",
       "    </tr>\n",
       "  </tbody>\n",
       "</table>\n",
       "</div>"
      ],
      "text/plain": [
       "            user_id     quantity          rate    total_price\n",
       "count  2.090000e+03  2090.000000   2090.000000    2090.000000\n",
       "mean   5.383871e+10     0.285167    686.023923     909.344498\n",
       "std    2.781474e+09     2.382323   5033.290983    6287.728594\n",
       "min    5.144382e+10     0.000000      0.000000       0.000000\n",
       "25%    5.176871e+10     0.000000      0.000000       0.000000\n",
       "50%    5.220572e+10     0.000000      0.000000       0.000000\n",
       "75%    5.566042e+10     0.000000      0.000000       0.000000\n",
       "max    6.030264e+10   100.000000  90000.000000  160000.000000"
      ]
     },
     "execution_count": 18,
     "metadata": {},
     "output_type": "execute_result"
    }
   ],
   "source": [
    "df1.describe()"
   ]
  },
  {
   "cell_type": "code",
   "execution_count": 19,
   "id": "3b25687a",
   "metadata": {
    "ExecuteTime": {
     "end_time": "2023-01-28T13:56:53.481211Z",
     "start_time": "2023-01-28T13:56:53.474712Z"
    }
   },
   "outputs": [],
   "source": [
    "num_attributes = df1.drop(columns=\"user_id\").select_dtypes(include=['int64', 'float64'])\n",
    "cat_attributes = df1.drop(columns=\"session_id\").select_dtypes(exclude=['int64', 'float64', 'datetime64[ns]'])"
   ]
  },
  {
   "cell_type": "markdown",
   "id": "66fe942e",
   "metadata": {},
   "source": [
    "### 1.7.1. Numerical Attributes "
   ]
  },
  {
   "cell_type": "code",
   "execution_count": 20,
   "id": "f31278f6",
   "metadata": {
    "ExecuteTime": {
     "end_time": "2023-01-28T13:56:53.514714Z",
     "start_time": "2023-01-28T13:56:53.483333Z"
    }
   },
   "outputs": [
    {
     "data": {
      "text/html": [
       "<div>\n",
       "<style scoped>\n",
       "    .dataframe tbody tr th:only-of-type {\n",
       "        vertical-align: middle;\n",
       "    }\n",
       "\n",
       "    .dataframe tbody tr th {\n",
       "        vertical-align: top;\n",
       "    }\n",
       "\n",
       "    .dataframe thead th {\n",
       "        text-align: right;\n",
       "    }\n",
       "</style>\n",
       "<table border=\"1\" class=\"dataframe\">\n",
       "  <thead>\n",
       "    <tr style=\"text-align: right;\">\n",
       "      <th></th>\n",
       "      <th>attributes</th>\n",
       "      <th>min</th>\n",
       "      <th>max</th>\n",
       "      <th>range</th>\n",
       "      <th>mean</th>\n",
       "      <th>median</th>\n",
       "      <th>std</th>\n",
       "      <th>skew</th>\n",
       "      <th>kurtosis</th>\n",
       "    </tr>\n",
       "  </thead>\n",
       "  <tbody>\n",
       "    <tr>\n",
       "      <th>0</th>\n",
       "      <td>quantity</td>\n",
       "      <td>0.0</td>\n",
       "      <td>100.0</td>\n",
       "      <td>100.0</td>\n",
       "      <td>0.285167</td>\n",
       "      <td>0.0</td>\n",
       "      <td>2.381753</td>\n",
       "      <td>35.517850</td>\n",
       "      <td>1471.724892</td>\n",
       "    </tr>\n",
       "    <tr>\n",
       "      <th>1</th>\n",
       "      <td>rate</td>\n",
       "      <td>0.0</td>\n",
       "      <td>90000.0</td>\n",
       "      <td>90000.0</td>\n",
       "      <td>686.023923</td>\n",
       "      <td>0.0</td>\n",
       "      <td>5032.086703</td>\n",
       "      <td>11.406039</td>\n",
       "      <td>153.948294</td>\n",
       "    </tr>\n",
       "    <tr>\n",
       "      <th>2</th>\n",
       "      <td>total_price</td>\n",
       "      <td>0.0</td>\n",
       "      <td>160000.0</td>\n",
       "      <td>160000.0</td>\n",
       "      <td>909.344498</td>\n",
       "      <td>0.0</td>\n",
       "      <td>6286.224173</td>\n",
       "      <td>13.453022</td>\n",
       "      <td>251.941719</td>\n",
       "    </tr>\n",
       "  </tbody>\n",
       "</table>\n",
       "</div>"
      ],
      "text/plain": [
       "    attributes  min       max     range        mean  median          std  \\\n",
       "0     quantity  0.0     100.0     100.0    0.285167     0.0     2.381753   \n",
       "1         rate  0.0   90000.0   90000.0  686.023923     0.0  5032.086703   \n",
       "2  total_price  0.0  160000.0  160000.0  909.344498     0.0  6286.224173   \n",
       "\n",
       "        skew     kurtosis  \n",
       "0  35.517850  1471.724892  \n",
       "1  11.406039   153.948294  \n",
       "2  13.453022   251.941719  "
      ]
     },
     "execution_count": 20,
     "metadata": {},
     "output_type": "execute_result"
    }
   ],
   "source": [
    "# Central Tendency - Mean, Mediana\n",
    "ct1 = pd.DataFrame(num_attributes.apply(np.mean)).T\n",
    "ct2 = pd.DataFrame(num_attributes.apply(np.median)).T\n",
    "\n",
    "# Dispersions - Std, Min, Max, Range, Skew, Kurtosis\n",
    "d1 = pd.DataFrame(num_attributes.apply(np.std)).T\n",
    "d2 = pd.DataFrame(num_attributes.apply(min)).T\n",
    "d3 = pd.DataFrame(num_attributes.apply(max)).T\n",
    "d4 = pd.DataFrame(num_attributes.apply(lambda x: x.max() - x.min())).T\n",
    "d5 = pd.DataFrame(num_attributes.apply(lambda x: x.skew())).T\n",
    "d6 = pd.DataFrame(num_attributes.apply(lambda x: x.kurtosis())).T\n",
    "\n",
    "# Concatenar\n",
    "ct = pd.concat([d2, d3, d4, ct1, ct2, d1, d5, d6]).T.reset_index()\n",
    "ct.columns = ['attributes', 'min', 'max', 'range', 'mean', 'median', 'std', 'skew', 'kurtosis']\n",
    "ct"
   ]
  },
  {
   "cell_type": "code",
   "execution_count": 126,
   "id": "db7c9298",
   "metadata": {
    "ExecuteTime": {
     "end_time": "2023-01-28T16:12:50.990550Z",
     "start_time": "2023-01-28T16:12:50.975095Z"
    }
   },
   "outputs": [
    {
     "data": {
      "text/html": [
       "<div>\n",
       "<style scoped>\n",
       "    .dataframe tbody tr th:only-of-type {\n",
       "        vertical-align: middle;\n",
       "    }\n",
       "\n",
       "    .dataframe tbody tr th {\n",
       "        vertical-align: top;\n",
       "    }\n",
       "\n",
       "    .dataframe thead th {\n",
       "        text-align: right;\n",
       "    }\n",
       "</style>\n",
       "<table border=\"1\" class=\"dataframe\">\n",
       "  <thead>\n",
       "    <tr style=\"text-align: right;\">\n",
       "      <th></th>\n",
       "      <th>count</th>\n",
       "      <th>mean</th>\n",
       "      <th>std</th>\n",
       "      <th>min</th>\n",
       "      <th>25%</th>\n",
       "      <th>50%</th>\n",
       "      <th>75%</th>\n",
       "      <th>max</th>\n",
       "    </tr>\n",
       "  </thead>\n",
       "  <tbody>\n",
       "    <tr>\n",
       "      <th>quantity</th>\n",
       "      <td>201.00</td>\n",
       "      <td>2.97</td>\n",
       "      <td>7.16</td>\n",
       "      <td>1.00</td>\n",
       "      <td>1.00</td>\n",
       "      <td>2.00</td>\n",
       "      <td>3.00</td>\n",
       "      <td>100.00</td>\n",
       "    </tr>\n",
       "    <tr>\n",
       "      <th>rate</th>\n",
       "      <td>201.00</td>\n",
       "      <td>7133.28</td>\n",
       "      <td>14778.15</td>\n",
       "      <td>10.00</td>\n",
       "      <td>500.00</td>\n",
       "      <td>1200.00</td>\n",
       "      <td>6000.00</td>\n",
       "      <td>90000.00</td>\n",
       "    </tr>\n",
       "    <tr>\n",
       "      <th>total_price</th>\n",
       "      <td>201.00</td>\n",
       "      <td>9455.37</td>\n",
       "      <td>18213.70</td>\n",
       "      <td>150.00</td>\n",
       "      <td>1000.00</td>\n",
       "      <td>2500.00</td>\n",
       "      <td>8000.00</td>\n",
       "      <td>160000.00</td>\n",
       "    </tr>\n",
       "  </tbody>\n",
       "</table>\n",
       "</div>"
      ],
      "text/plain": [
       "             count    mean      std    min     25%     50%     75%       max\n",
       "quantity    201.00    2.97     7.16   1.00    1.00    2.00    3.00    100.00\n",
       "rate        201.00 7133.28 14778.15  10.00  500.00 1200.00 6000.00  90000.00\n",
       "total_price 201.00 9455.37 18213.70 150.00 1000.00 2500.00 8000.00 160000.00"
      ]
     },
     "execution_count": 126,
     "metadata": {},
     "output_type": "execute_result"
    }
   ],
   "source": [
    "pd.set_option('display.float_format', lambda x: '%.2f' % x)\n",
    "df1[df1[\"quantity\"] > 0].drop(columns=\"user_id\").describe().T"
   ]
  },
  {
   "cell_type": "markdown",
   "id": "4ffb6a9f",
   "metadata": {},
   "source": [
    "We will use the 75% (75 percentile) as the maximum threshold to avoid outliers."
   ]
  },
  {
   "cell_type": "code",
   "execution_count": 51,
   "id": "02b98c4c",
   "metadata": {
    "ExecuteTime": {
     "end_time": "2023-01-28T14:24:09.125128Z",
     "start_time": "2023-01-28T14:24:09.114446Z"
    }
   },
   "outputs": [
    {
     "data": {
      "text/html": [
       "<div>\n",
       "<style scoped>\n",
       "    .dataframe tbody tr th:only-of-type {\n",
       "        vertical-align: middle;\n",
       "    }\n",
       "\n",
       "    .dataframe tbody tr th {\n",
       "        vertical-align: top;\n",
       "    }\n",
       "\n",
       "    .dataframe thead th {\n",
       "        text-align: right;\n",
       "    }\n",
       "</style>\n",
       "<table border=\"1\" class=\"dataframe\">\n",
       "  <thead>\n",
       "    <tr style=\"text-align: right;\">\n",
       "      <th></th>\n",
       "      <th>user_id</th>\n",
       "      <th>session_id</th>\n",
       "      <th>date_time</th>\n",
       "      <th>category</th>\n",
       "      <th>sub_category</th>\n",
       "      <th>action</th>\n",
       "      <th>quantity</th>\n",
       "      <th>rate</th>\n",
       "      <th>total_price</th>\n",
       "    </tr>\n",
       "  </thead>\n",
       "  <tbody>\n",
       "    <tr>\n",
       "      <th>1484</th>\n",
       "      <td>57767840151</td>\n",
       "      <td>dfxdf936-c74d-4002-a076</td>\n",
       "      <td>2019-10-09 21:53:00</td>\n",
       "      <td>stationary</td>\n",
       "      <td>pens</td>\n",
       "      <td>purchase</td>\n",
       "      <td>100.0</td>\n",
       "      <td>10.0</td>\n",
       "      <td>1000.0</td>\n",
       "    </tr>\n",
       "  </tbody>\n",
       "</table>\n",
       "</div>"
      ],
      "text/plain": [
       "          user_id               session_id           date_time    category  \\\n",
       "1484  57767840151  dfxdf936-c74d-4002-a076 2019-10-09 21:53:00  stationary   \n",
       "\n",
       "     sub_category    action  quantity  rate  total_price  \n",
       "1484         pens  purchase     100.0  10.0       1000.0  "
      ]
     },
     "execution_count": 51,
     "metadata": {},
     "output_type": "execute_result"
    }
   ],
   "source": [
    "df1[df1[\"quantity\"] == 100]"
   ]
  },
  {
   "cell_type": "code",
   "execution_count": 49,
   "id": "ea6688e7",
   "metadata": {
    "ExecuteTime": {
     "end_time": "2023-01-28T14:23:16.605010Z",
     "start_time": "2023-01-28T14:23:16.594369Z"
    }
   },
   "outputs": [
    {
     "data": {
      "text/html": [
       "<div>\n",
       "<style scoped>\n",
       "    .dataframe tbody tr th:only-of-type {\n",
       "        vertical-align: middle;\n",
       "    }\n",
       "\n",
       "    .dataframe tbody tr th {\n",
       "        vertical-align: top;\n",
       "    }\n",
       "\n",
       "    .dataframe thead th {\n",
       "        text-align: right;\n",
       "    }\n",
       "</style>\n",
       "<table border=\"1\" class=\"dataframe\">\n",
       "  <thead>\n",
       "    <tr style=\"text-align: right;\">\n",
       "      <th></th>\n",
       "      <th>user_id</th>\n",
       "      <th>session_id</th>\n",
       "      <th>date_time</th>\n",
       "      <th>category</th>\n",
       "      <th>sub_category</th>\n",
       "      <th>action</th>\n",
       "      <th>quantity</th>\n",
       "      <th>rate</th>\n",
       "      <th>total_price</th>\n",
       "    </tr>\n",
       "  </thead>\n",
       "  <tbody>\n",
       "    <tr>\n",
       "      <th>1107</th>\n",
       "      <td>53652969521</td>\n",
       "      <td>bb343f67-81be-4b84-9cdb</td>\n",
       "      <td>2019-06-11 15:02:00</td>\n",
       "      <td>laptop_and_desktop</td>\n",
       "      <td>gaming_laptop</td>\n",
       "      <td>purchase</td>\n",
       "      <td>1.0</td>\n",
       "      <td>90000.0</td>\n",
       "      <td>90000.0</td>\n",
       "    </tr>\n",
       "  </tbody>\n",
       "</table>\n",
       "</div>"
      ],
      "text/plain": [
       "          user_id               session_id           date_time  \\\n",
       "1107  53652969521  bb343f67-81be-4b84-9cdb 2019-06-11 15:02:00   \n",
       "\n",
       "                category   sub_category    action  quantity     rate  \\\n",
       "1107  laptop_and_desktop  gaming_laptop  purchase       1.0  90000.0   \n",
       "\n",
       "      total_price  \n",
       "1107      90000.0  "
      ]
     },
     "execution_count": 49,
     "metadata": {},
     "output_type": "execute_result"
    }
   ],
   "source": [
    "df1[df1[\"rate\"] == 90000]"
   ]
  },
  {
   "cell_type": "code",
   "execution_count": 50,
   "id": "0e028c84",
   "metadata": {
    "ExecuteTime": {
     "end_time": "2023-01-28T14:23:38.246213Z",
     "start_time": "2023-01-28T14:23:38.235067Z"
    }
   },
   "outputs": [
    {
     "data": {
      "text/html": [
       "<div>\n",
       "<style scoped>\n",
       "    .dataframe tbody tr th:only-of-type {\n",
       "        vertical-align: middle;\n",
       "    }\n",
       "\n",
       "    .dataframe tbody tr th {\n",
       "        vertical-align: top;\n",
       "    }\n",
       "\n",
       "    .dataframe thead th {\n",
       "        text-align: right;\n",
       "    }\n",
       "</style>\n",
       "<table border=\"1\" class=\"dataframe\">\n",
       "  <thead>\n",
       "    <tr style=\"text-align: right;\">\n",
       "      <th></th>\n",
       "      <th>user_id</th>\n",
       "      <th>session_id</th>\n",
       "      <th>date_time</th>\n",
       "      <th>category</th>\n",
       "      <th>sub_category</th>\n",
       "      <th>action</th>\n",
       "      <th>quantity</th>\n",
       "      <th>rate</th>\n",
       "      <th>total_price</th>\n",
       "    </tr>\n",
       "  </thead>\n",
       "  <tbody>\n",
       "    <tr>\n",
       "      <th>1669</th>\n",
       "      <td>52787855576</td>\n",
       "      <td>fce8cdd0-4572-44df-8e74</td>\n",
       "      <td>2019-11-10 15:07:00</td>\n",
       "      <td>tablets</td>\n",
       "      <td>ipad</td>\n",
       "      <td>purchase</td>\n",
       "      <td>2.0</td>\n",
       "      <td>80000.0</td>\n",
       "      <td>160000.0</td>\n",
       "    </tr>\n",
       "  </tbody>\n",
       "</table>\n",
       "</div>"
      ],
      "text/plain": [
       "          user_id               session_id           date_time category  \\\n",
       "1669  52787855576  fce8cdd0-4572-44df-8e74 2019-11-10 15:07:00  tablets   \n",
       "\n",
       "     sub_category    action  quantity     rate  total_price  \n",
       "1669         ipad  purchase       2.0  80000.0     160000.0  "
      ]
     },
     "execution_count": 50,
     "metadata": {},
     "output_type": "execute_result"
    }
   ],
   "source": [
    "df1[df1[\"total_price\"] == 160000]"
   ]
  },
  {
   "cell_type": "markdown",
   "id": "755b9bb6",
   "metadata": {},
   "source": [
    "- Standard deviation is too high compared to the mean values. \n",
    "- As we have positive values for skew, we have a skewness to the left. Probably due smaller quantities of products purchased and, consequently, smaller values for rate and total price.\n",
    "- Since quantity has a 1471 value for kurtosis, it has a high peak.\n",
    "- The maximum values occurred just one time for the three numerical features. Therefore, we may assume they are outliers."
   ]
  },
  {
   "cell_type": "code",
   "execution_count": 21,
   "id": "fabcfd40",
   "metadata": {
    "ExecuteTime": {
     "end_time": "2023-01-28T13:56:54.102438Z",
     "start_time": "2023-01-28T13:56:53.516509Z"
    }
   },
   "outputs": [
    {
     "data": {
      "image/png": "[encoded data removed]",
      "text/plain": [
       "<Figure size 2000x600 with 3 Axes>"
      ]
     },
     "metadata": {},
     "output_type": "display_data"
    }
   ],
   "source": [
    "plt.figure(figsize = (20,6))\n",
    "\n",
    "plt.subplot(131)\n",
    "sns.distplot(df1[\"quantity\"])\n",
    "\n",
    "plt.subplot(132)\n",
    "sns.distplot(df1[\"rate\"])\n",
    "\n",
    "plt.subplot(133)\n",
    "sns.distplot(df1[\"total_price\"])\n",
    "\n",
    "plt.subplots_adjust(wspace = 0.2)"
   ]
  },
  {
   "cell_type": "markdown",
   "id": "55ca1936",
   "metadata": {},
   "source": [
    "Let's see how the distribution is without the value zero."
   ]
  },
  {
   "cell_type": "code",
   "execution_count": 22,
   "id": "4bd2a394",
   "metadata": {
    "ExecuteTime": {
     "end_time": "2023-01-28T13:56:54.718473Z",
     "start_time": "2023-01-28T13:56:54.104896Z"
    }
   },
   "outputs": [
    {
     "data": {
      "image/png": "[encoded data removed]",
      "text/plain": [
       "<Figure size 2000x600 with 3 Axes>"
      ]
     },
     "metadata": {},
     "output_type": "display_data"
    }
   ],
   "source": [
    "aux = df1[df1[\"quantity\"] != 0]\n",
    "\n",
    "plt.figure(figsize = (20,6))\n",
    "\n",
    "plt.subplot(131)\n",
    "sns.distplot(aux[\"quantity\"])\n",
    "#plt.xlim(0,)\n",
    "\n",
    "plt.subplot(132)\n",
    "sns.distplot(aux[\"rate\"])\n",
    "#plt.xlim(0,)\n",
    "\n",
    "plt.subplot(133)\n",
    "sns.distplot(aux[\"total_price\"])\n",
    "#plt.xlim(0,)\n",
    "\n",
    "plt.subplots_adjust(wspace = 0.2)"
   ]
  },
  {
   "cell_type": "markdown",
   "id": "7f20f10f",
   "metadata": {},
   "source": [
    "The majority of purchases is around smaller values for quantity. The result is smaller values for rate and total price too. Let's try to filter the columns again."
   ]
  },
  {
   "cell_type": "code",
   "execution_count": 127,
   "id": "157809a2",
   "metadata": {
    "ExecuteTime": {
     "end_time": "2023-01-28T16:14:02.473455Z",
     "start_time": "2023-01-28T16:14:02.044712Z"
    }
   },
   "outputs": [
    {
     "data": {
      "image/png": "[encoded data removed]",
      "text/plain": [
       "<Figure size 2000x600 with 3 Axes>"
      ]
     },
     "metadata": {},
     "output_type": "display_data"
    }
   ],
   "source": [
    "aux = df1[(df1[\"quantity\"] != 0) & (df1[\"quantity\"] < 100) & (df1[\"rate\"] <= 6000) \n",
    "          & (df1[\"total_price\"] <= 8000)]\n",
    "\n",
    "plt.figure(figsize = (20,6))\n",
    "\n",
    "plt.subplot(131)\n",
    "sns.distplot(aux[\"quantity\"])\n",
    "#plt.xlim(0,)\n",
    "\n",
    "plt.subplot(132)\n",
    "sns.distplot(aux[\"rate\"])\n",
    "#plt.xlim(0,)\n",
    "\n",
    "plt.subplot(133)\n",
    "sns.distplot(aux[\"total_price\"])\n",
    "#plt.xlim(0,)\n",
    "\n",
    "plt.subplots_adjust(wspace = 0.2)"
   ]
  },
  {
   "cell_type": "markdown",
   "id": "e167afe3",
   "metadata": {},
   "source": [
    "- Now we see a left skew for the three features (positive skewness).\n",
    "- We see a high kurtosis for quantity.\n",
    "- We will keep this filter conditions in order to filter outliers rows in the next steps."
   ]
  },
  {
   "cell_type": "markdown",
   "id": "c1e07936",
   "metadata": {},
   "source": [
    "### 1.7.2. Categorical Attributes"
   ]
  },
  {
   "cell_type": "code",
   "execution_count": 23,
   "id": "4062643b",
   "metadata": {
    "ExecuteTime": {
     "end_time": "2023-01-28T13:56:54.726840Z",
     "start_time": "2023-01-28T13:56:54.720483Z"
    }
   },
   "outputs": [
    {
     "data": {
      "text/plain": [
       "category        105\n",
       "sub_category    364\n",
       "action           13\n",
       "dtype: int64"
      ]
     },
     "execution_count": 23,
     "metadata": {},
     "output_type": "execute_result"
    }
   ],
   "source": [
    "cat_attributes.apply(lambda x: x.unique().shape[0])"
   ]
  },
  {
   "cell_type": "code",
   "execution_count": 24,
   "id": "77d3db4c",
   "metadata": {
    "ExecuteTime": {
     "end_time": "2023-01-28T13:56:54.735523Z",
     "start_time": "2023-01-28T13:56:54.728381Z"
    }
   },
   "outputs": [
    {
     "data": {
      "text/plain": [
       "category        [Electronic Appliances, Men's Fashion, Mobile ...\n",
       "sub_category    [Speakers, Jeans, Mobile, Cleaning sprays, Cha...\n",
       "action          [first_app_open, search, product_view, read_re...\n",
       "dtype: object"
      ]
     },
     "execution_count": 24,
     "metadata": {},
     "output_type": "execute_result"
    }
   ],
   "source": [
    "cat_attributes.apply(lambda x: x.unique())"
   ]
  },
  {
   "cell_type": "code",
   "execution_count": 25,
   "id": "94a4f7a3",
   "metadata": {
    "ExecuteTime": {
     "end_time": "2023-01-28T13:56:54.742535Z",
     "start_time": "2023-01-28T13:56:54.737419Z"
    }
   },
   "outputs": [
    {
     "data": {
      "text/plain": [
       "array(['Electronic Appliances', \"Men's Fashion\", 'Mobile & Accessories',\n",
       "       'Cleaning supplies', 'Digital Devices', 'Accessories',\n",
       "       'Stationary', 'Digital Content', 'Fitness', \"Women's Fashion\",\n",
       "       'Household Supplies', 'Smart Wearables', 'Appliances', 'Pet Care',\n",
       "       'Gardern and Outdoor', 'Camera Accessories', 'eCommerce',\n",
       "       'Baby Care', 'Gaming Accessories', 'Musical Instruments',\n",
       "       'Kitchen Appliances', 'Home Appliances', 'Entertainment Systems',\n",
       "       'Software', 'Pendrives', 'Home Decor', 'Digital Appliances',\n",
       "       'Electrical tools', 'Large appliances', 'Furnitures',\n",
       "       'Religious items', 'Artwork', 'Baby Products', 'Car Accessories',\n",
       "       \"Kid's fashion\", 'Motorbike Accessories', 'Toys', 'Music',\n",
       "       'Music\\n', 'Gifts', 'Tv and Appliances', 'Bags and Luggage',\n",
       "       'Large Appliances', 'Industrial', 'Gardening', 'Grocery',\n",
       "       'Winter Wear', 'Personal Care', \"Men's Bottom Wear\",\n",
       "       \"Men's Top Wear\", 'Shoe care', 'Computer Peripherals', 'Health',\n",
       "       'Laptop Accessories', 'Laptop and Desktop',\n",
       "       'Smart Home Automation', 'Storage', 'Audio', 'Living room',\n",
       "       'Bed room', 'Tools and Utility', 'Lightings', 'Electricals',\n",
       "       'Space saving', 'Seasonal Appliances', \"Men's Grooming\",\n",
       "       'Food and drinks', 'School Supplies', 'Sports', 'Air Conditioner',\n",
       "       'Women western', 'Footwear', 'Air conditioner', 'Essentials',\n",
       "       'Kids', 'Desktop Accessories', 'Mobile accessories',\n",
       "       'Kitchen and dining', 'Home furnishing', 'Utilities',\n",
       "       'Lock and Security', 'Personal Safety', 'Pet Supplies',\n",
       "       'Home lighting', 'Kitchen Storage', 'Books', 'Food essentials',\n",
       "       'Bike care', 'Mens accessories', 'Women Footwear', 'Electronics',\n",
       "       'Living Room Furniture', 'Health care appliances', 'Speakers',\n",
       "       'Laptops', 'Camera', 'Network component', 'Smart Home Appliances',\n",
       "       'Movies', 'Tablets', 'Sports Accessories', 'Washing Machine',\n",
       "       'Television', 'Kids Fashion', 'Women Fashion'], dtype=object)"
      ]
     },
     "execution_count": 25,
     "metadata": {},
     "output_type": "execute_result"
    }
   ],
   "source": [
    "cat_attributes[\"category\"].unique()"
   ]
  },
  {
   "cell_type": "code",
   "execution_count": 26,
   "id": "3f1ec726",
   "metadata": {
    "ExecuteTime": {
     "end_time": "2023-01-28T13:56:54.750591Z",
     "start_time": "2023-01-28T13:56:54.744419Z"
    }
   },
   "outputs": [
    {
     "data": {
      "text/plain": [
       "array(['Speakers', 'Jeans', 'Mobile', 'Cleaning sprays', 'Charging wire',\n",
       "       'Kindle eBook', 'Watches', 'Cases', 'Books', 'Headphones',\n",
       "       'Mouse pad', 'Fire Tv', 'Dumbells', 'Ethnic wear', 'Tws earbuds',\n",
       "       'Cases and Covers', 'Shirts', 'Gloves', 'Dishwasher', 'Bumpers',\n",
       "       'Denim jeans', 'Smart watches', 'Makeup kit', 'Ropes', 'Printers',\n",
       "       'Shoes', 'Refrigerators', 'Harddisk', 'Cat food', 'Footwears',\n",
       "       'Skipping Rope', 'Flower pot', 'Lens', 'Fire TV', 'Oil can',\n",
       "       'Suspenders', 'Bow tie', 'Paints', 'Ear rings', 'Belt',\n",
       "       'Frying pan', 'Rice cooker', 'CD-Driver', 'Bangles', 'Powerbells',\n",
       "       'T-shirt', 'Container', 'Weigh scale', 'Tablet holder', 'Ring',\n",
       "       'Tops', 'Charger', 'wrist band', 'Delivery bags', 'Women Jacket',\n",
       "       'Water hose pipe', 'Coolers', 'Baby lotion', 'Aux Cable',\n",
       "       'USB Cord', 'fitband', 'Screen Guard', 'laptop', 'Web camera',\n",
       "       'Joystick', 'Tripods', 'Flute', 'Lamp', 'Surround system',\n",
       "       'Pen stand', 'McAfee Protection', 'Sandisk', 'Wall paint',\n",
       "       'Laptop', 'Monitor', 'Electrical screwdriver', 'Washing machine',\n",
       "       'Sofa', 'Pooja thali', 'Glitter powder set', 'Flower seed',\n",
       "       'eBook', 'Shoulder Bags', 'Baby Shampoo', 'Car charger',\n",
       "       'Kids sunglasses', 'Tank pad', 'Remote control car', 'Amplifier',\n",
       "       'Switch box', 'Sunglasses', 'lens cleaner', 'Skins for mobile',\n",
       "       'Keyboard', 'Camphor box', 'Bracelet', 'Shells', 'Digital clock',\n",
       "       'Jewellery', \"Cd's\", 'Gift wrapper', 'Squeeze toy', 'kids jeans',\n",
       "       'refrigirator', 'Microwave oven', 'TV', 'Gaming console',\n",
       "       'Handle grip', 'Kettle', 'Travel Bag', 'Camera slider',\n",
       "       'Wooden shelf', 'suitcase', 'Wooden chair', 'Camera Lens',\n",
       "       'Camera Bag', 'Handicrafts', 'Memory Card', 'Air conditioner',\n",
       "       'Extension cord', 'Baby Soap', 'Car Mobile holder',\n",
       "       'Mobile Battery', 'Leather pant', 'Cad game', 'Mic', 'Wallet',\n",
       "       'McAfee antivirus', 'Wall hangings', 'Photo frames', 'Hanger',\n",
       "       'Drums set', 'Lens cleaner', 'gaming mouse', 'Backpack', 'Carpet',\n",
       "       'Gardening knife', 'Wireless Headphones', 'Chromecast',\n",
       "       'Hair Bands', 'Gift containers', 'kids tshirt', 'Baby Shower gel',\n",
       "       'Digital air fryer', 'Home theater', 'Play station',\n",
       "       'Photo day pack', 'Wooden table', 'Wooden cot', 'Monopod',\n",
       "       'Paintings', 'Flash drives', 'Socks', 'Crayons', 'Waist belt',\n",
       "       'Kadaa', 'Lightning cable', 'Refrigerator cover', 'Harddisk cover',\n",
       "       'Book containers', 'Fashion tape', 'Dumbbells', 'Microphone',\n",
       "       'Pots', 'Flower plant seed', 'leather jogger', 'Mobile cover',\n",
       "       'Refined oil', 'Sweatshirts', 'epilator', 'Pyjama', 'Blazer',\n",
       "       'Shoe polish', 'Portable projectors', 'Barcode scanners',\n",
       "       'Blood pressure monitor', 'Data cards', 'Gaming laptop',\n",
       "       'Smart lights', 'Smart glasses', 'Internal harddrive', 'Soundbar',\n",
       "       'Binoculars', 'Recliners', 'Office tables', 'Wardrobes',\n",
       "       'flower vases', 'Hand tools', 'Bulbs', 'Batteries', 'Bean bags',\n",
       "       'Cleaning gloves', 'pet toy', 'Air coolers', 'vaccum cleaner',\n",
       "       'Beard Oil', 'Beverages', 'Baby wipes', 'Soft toys', 'School bags',\n",
       "       'Football', 'yoga mat', 'Car freshner', 'Contact lens',\n",
       "       'Split airconditioner', 'Coconut oil', 'Formal shirt', \"Cargo's\",\n",
       "       'Ethinc dresses', 'Nightsuit', 'Flipflops', 'Large travel bags',\n",
       "       'Jumpsuit', 'sippers', 'Garden tool set', 'sandals',\n",
       "       'Window airconditioner', 'Puppy food', 'Frames', \"Boxer's\",\n",
       "       'Infant wear', 'Sling bag', 'Drone', 'Toners', 'Gamepad',\n",
       "       'Hair dryer', 'Router', 'Processor', 'Mini powerbank',\n",
       "       'Smart switches', 'External harddrive', 'Curtains', 'Sofa sets',\n",
       "       'Glassware', 'Side table', 'Table linen', 'Umberla', 'Door lock',\n",
       "       'Fire extinguisher', 'Wall shelves', 'Table Lamp', 'Lunch box',\n",
       "       'Non fiction', 'Chocolates', 'Sheets', 'Puzzles', 'Violin',\n",
       "       'Arm sleeve', 'Sports shoes', 'Mobile phone', 'Weighing scale',\n",
       "       'Diapers', 'Coffee tables', 'Literature', 'Trimmer', 'Bp monitors',\n",
       "       'Bluetooth speakers', 'Notebooks', 'DSLR', 'Toy car', 'Routers',\n",
       "       'Pens', 'Hand blenders', 'Coffee makers', 'Game pad large',\n",
       "       'Gimbles', 'Guitar case', 'Wet grinders', 'Smart door lock',\n",
       "       'Audio Speakers', 'Diaries', 'K7 security', 'Hp 16gb',\n",
       "       'Showpieces', 'Measurement devices', 'Floor covering', 'Candle',\n",
       "       'Barbie doll', 'Handcrafted idol', 'wipes', 'Palazzos',\n",
       "       'Car cover', 'Rear lamp', 'Kids shirt', 'Toy guns',\n",
       "       'Scientific products', 'Traveller bag', 'iPad', 'Gift wrappers',\n",
       "       'Watering can', 'Goggles', 'Ultra HD Tv', 'Fully automated',\n",
       "       'Inverter AC', 'Toaster Grills', 'Vaccum cleaner',\n",
       "       'Mobile Holders', 'Set top box', 'Mattresses', 'Mirrorless',\n",
       "       'Harddrive cover', 'Figurines', 'Lamps', 'Dinner set', 'Blankets',\n",
       "       'ultility box', 'Key holder', 'ceiling light',\n",
       "       'Pepper stream spray', 'Dog chain', 'Table lamp', 'Containers',\n",
       "       'Crime novels', 'Oil containers', 'Violin string', 'Bike polish',\n",
       "       'Perfumes', 'High heels', 'Electrical wires', 'Baby care set',\n",
       "       'Wooden sofa set', 'Jenga', 'Swimming Fins', 'Puzzle play',\n",
       "       'Air Tight Container', 'Rubber toys', 'TV shelf',\n",
       "       'Split Airconditioner', 'Gardern sprayers', 'Crocs',\n",
       "       'Laptop charger', \"Kid's Tshirt\", 'Party wear', 'Ink cartridges',\n",
       "       'Travell Bags Large', 'Paintings small', 'Study table',\n",
       "       'Amazon Alexa', 'Fire extinguisher mini', 'Smart light',\n",
       "       'Pillow stand', 'Food colourings', 'Chimneys', 'Cooking oil',\n",
       "       'Soldering kit', 'Miniature', 'Pooja kit', 'Soundbars',\n",
       "       'Curved TV', 'Shoe racks', 'Bathroom Fitings', 'Shaker bottle',\n",
       "       'Multiutility plier', 'Table light', 'Body lotion', 'Thermometer',\n",
       "       'Sunscreens', 'Teddy Bear', 'Flour Bags', 'Boxing Bag', 'Markers',\n",
       "       'Bracelets', 'Treadmill', 'Kurti'], dtype=object)"
      ]
     },
     "execution_count": 26,
     "metadata": {},
     "output_type": "execute_result"
    }
   ],
   "source": [
    "cat_attributes[\"sub_category\"].unique()"
   ]
  },
  {
   "cell_type": "code",
   "execution_count": 27,
   "id": "52b9b5f3",
   "metadata": {
    "ExecuteTime": {
     "end_time": "2023-01-28T13:56:54.756881Z",
     "start_time": "2023-01-28T13:56:54.752429Z"
    }
   },
   "outputs": [
    {
     "data": {
      "text/plain": [
       "array(['first_app_open', 'search', 'product_view', 'read_reviews',\n",
       "       'add_review', 'add_to_cart', 'checkout', 'purchase',\n",
       "       'add_to_wishlist', 'click_wishlist_page', 'product_review',\n",
       "       'add_to_wishist', 'read_review'], dtype=object)"
      ]
     },
     "execution_count": 27,
     "metadata": {},
     "output_type": "execute_result"
    }
   ],
   "source": [
    "cat_attributes[\"action\"].unique()"
   ]
  },
  {
   "cell_type": "code",
   "execution_count": 28,
   "id": "8d3f1ed2",
   "metadata": {
    "ExecuteTime": {
     "end_time": "2023-01-28T13:56:54.779866Z",
     "start_time": "2023-01-28T13:56:54.764348Z"
    }
   },
   "outputs": [
    {
     "data": {
      "text/html": [
       "<div>\n",
       "<style scoped>\n",
       "    .dataframe tbody tr th:only-of-type {\n",
       "        vertical-align: middle;\n",
       "    }\n",
       "\n",
       "    .dataframe tbody tr th {\n",
       "        vertical-align: top;\n",
       "    }\n",
       "\n",
       "    .dataframe thead th {\n",
       "        text-align: right;\n",
       "    }\n",
       "</style>\n",
       "<table border=\"1\" class=\"dataframe\">\n",
       "  <thead>\n",
       "    <tr style=\"text-align: right;\">\n",
       "      <th></th>\n",
       "      <th>count</th>\n",
       "      <th>unique</th>\n",
       "      <th>top</th>\n",
       "      <th>freq</th>\n",
       "    </tr>\n",
       "  </thead>\n",
       "  <tbody>\n",
       "    <tr>\n",
       "      <th>category</th>\n",
       "      <td>2090</td>\n",
       "      <td>105</td>\n",
       "      <td>Mobile &amp; Accessories</td>\n",
       "      <td>139</td>\n",
       "    </tr>\n",
       "    <tr>\n",
       "      <th>sub_category</th>\n",
       "      <td>2090</td>\n",
       "      <td>364</td>\n",
       "      <td>Books</td>\n",
       "      <td>46</td>\n",
       "    </tr>\n",
       "    <tr>\n",
       "      <th>action</th>\n",
       "      <td>2090</td>\n",
       "      <td>13</td>\n",
       "      <td>read_reviews</td>\n",
       "      <td>342</td>\n",
       "    </tr>\n",
       "  </tbody>\n",
       "</table>\n",
       "</div>"
      ],
      "text/plain": [
       "             count unique                   top freq\n",
       "category      2090    105  Mobile & Accessories  139\n",
       "sub_category  2090    364                 Books   46\n",
       "action        2090     13          read_reviews  342"
      ]
     },
     "execution_count": 28,
     "metadata": {},
     "output_type": "execute_result"
    }
   ],
   "source": [
    "cat_attributes.describe().T"
   ]
  },
  {
   "cell_type": "markdown",
   "id": "cc285651",
   "metadata": {},
   "source": [
    "### 1.7.3. Data Cleaning for Categorical Attributes"
   ]
  },
  {
   "cell_type": "markdown",
   "id": "76d59179",
   "metadata": {},
   "source": [
    "We must perform a categorical cleaning, since we have uppercase and words separated by spaces, and special char for the columns category and sub_category."
   ]
  },
  {
   "cell_type": "code",
   "execution_count": 72,
   "id": "c5709e2f",
   "metadata": {
    "ExecuteTime": {
     "end_time": "2023-01-28T15:42:12.789955Z",
     "start_time": "2023-01-28T15:42:12.779899Z"
    }
   },
   "outputs": [],
   "source": [
    "# category\n",
    "df1['category'] = df1['category'].apply(lambda x: x.replace(' ', '_').\\\n",
    "                                        replace('\\n', '').replace(\"'s\", '').replace(\"&\", \"and\").lower())\n",
    "\n",
    "# sub_category\n",
    "df1['sub_category'] = df1['sub_category'].apply(lambda x: x.replace(' ', '_').\\\n",
    "                                                replace(\"'s\", '').replace(\"-\", '_').lower())     \n",
    "\n",
    "df1['action'] = df1['action'].apply(lambda x: 'read_reviews' if x in ('read_review') else x)\n",
    "df1['action'] = df1['action'].apply(lambda x: 'add_to_wishlist' if x in ('add_to_wishist') else x)"
   ]
  },
  {
   "cell_type": "code",
   "execution_count": 73,
   "id": "7e09f0b9",
   "metadata": {
    "ExecuteTime": {
     "end_time": "2023-01-28T15:42:14.526106Z",
     "start_time": "2023-01-28T15:42:14.521020Z"
    }
   },
   "outputs": [
    {
     "data": {
      "text/plain": [
       "array(['electronic_appliances', 'men_fashion', 'mobile_and_accessories',\n",
       "       'cleaning_supplies', 'digital_devices', 'accessories',\n",
       "       'stationary', 'digital_content', 'fitness', 'women_fashion',\n",
       "       'household_supplies', 'smart_wearables', 'appliances', 'pet_care',\n",
       "       'gardern_and_outdoor', 'camera_accessories', 'ecommerce',\n",
       "       'baby_care', 'gaming_accessories', 'musical_instruments',\n",
       "       'kitchen_appliances', 'home_appliances', 'entertainment_systems',\n",
       "       'software', 'pendrives', 'home_decor', 'digital_appliances',\n",
       "       'electrical_tools', 'large_appliances', 'furnitures',\n",
       "       'religious_items', 'artwork', 'baby_products', 'car_accessories',\n",
       "       'kid_fashion', 'motorbike_accessories', 'toys', 'music', 'gifts',\n",
       "       'tv_and_appliances', 'bags_and_luggage', 'industrial', 'gardening',\n",
       "       'grocery', 'winter_wear', 'personal_care', 'men_bottom_wear',\n",
       "       'men_top_wear', 'shoe_care', 'computer_peripherals', 'health',\n",
       "       'laptop_accessories', 'laptop_and_desktop',\n",
       "       'smart_home_automation', 'storage', 'audio', 'living_room',\n",
       "       'bed_room', 'tools_and_utility', 'lightings', 'electricals',\n",
       "       'space_saving', 'seasonal_appliances', 'men_grooming',\n",
       "       'food_and_drinks', 'school_supplies', 'sports', 'air_conditioner',\n",
       "       'women_western', 'footwear', 'essentials', 'kids',\n",
       "       'desktop_accessories', 'mobile_accessories', 'kitchen_and_dining',\n",
       "       'home_furnishing', 'utilities', 'lock_and_security',\n",
       "       'personal_safety', 'pet_supplies', 'home_lighting',\n",
       "       'kitchen_storage', 'books', 'food_essentials', 'bike_care',\n",
       "       'mens_accessories', 'women_footwear', 'electronics',\n",
       "       'living_room_furniture', 'health_care_appliances', 'speakers',\n",
       "       'laptops', 'camera', 'network_component', 'smart_home_appliances',\n",
       "       'movies', 'tablets', 'sports_accessories', 'washing_machine',\n",
       "       'television', 'kids_fashion'], dtype=object)"
      ]
     },
     "execution_count": 73,
     "metadata": {},
     "output_type": "execute_result"
    }
   ],
   "source": [
    "df1[\"category\"].unique()"
   ]
  },
  {
   "cell_type": "code",
   "execution_count": 74,
   "id": "428a1fa3",
   "metadata": {
    "ExecuteTime": {
     "end_time": "2023-01-28T15:42:15.739005Z",
     "start_time": "2023-01-28T15:42:15.733425Z"
    }
   },
   "outputs": [
    {
     "data": {
      "text/plain": [
       "array(['speakers', 'jeans', 'mobile', 'cleaning_sprays', 'charging_wire',\n",
       "       'kindle_ebook', 'watches', 'cases', 'books', 'headphones',\n",
       "       'mouse_pad', 'fire_tv', 'dumbells', 'ethnic_wear', 'tws_earbuds',\n",
       "       'cases_and_covers', 'shirts', 'gloves', 'dishwasher', 'bumpers',\n",
       "       'denim_jeans', 'smart_watches', 'makeup_kit', 'ropes', 'printers',\n",
       "       'shoes', 'refrigerators', 'harddisk', 'cat_food', 'footwears',\n",
       "       'skipping_rope', 'flower_pot', 'lens', 'oil_can', 'suspenders',\n",
       "       'bow_tie', 'paints', 'ear_rings', 'belt', 'frying_pan',\n",
       "       'rice_cooker', 'cd_driver', 'bangles', 'powerbells', 't_shirt',\n",
       "       'container', 'weigh_scale', 'tablet_holder', 'ring', 'tops',\n",
       "       'charger', 'wrist_band', 'delivery_bags', 'women_jacket',\n",
       "       'water_hose_pipe', 'coolers', 'baby_lotion', 'aux_cable',\n",
       "       'usb_cord', 'fitband', 'screen_guard', 'laptop', 'web_camera',\n",
       "       'joystick', 'tripods', 'flute', 'lamp', 'surround_system',\n",
       "       'pen_stand', 'mcafee_protection', 'sandisk', 'wall_paint',\n",
       "       'monitor', 'electrical_screwdriver', 'washing_machine', 'sofa',\n",
       "       'pooja_thali', 'glitter_powder_set', 'flower_seed', 'ebook',\n",
       "       'shoulder_bags', 'baby_shampoo', 'car_charger', 'kids_sunglasses',\n",
       "       'tank_pad', 'remote_control_car', 'amplifier', 'switch_box',\n",
       "       'sunglasses', 'lens_cleaner', 'skins_for_mobile', 'keyboard',\n",
       "       'camphor_box', 'bracelet', 'shells', 'digital_clock', 'jewellery',\n",
       "       'cd', 'gift_wrapper', 'squeeze_toy', 'kids_jeans', 'refrigirator',\n",
       "       'microwave_oven', 'tv', 'gaming_console', 'handle_grip', 'kettle',\n",
       "       'travel_bag', 'camera_slider', 'wooden_shelf', 'suitcase',\n",
       "       'wooden_chair', 'camera_lens', 'camera_bag', 'handicrafts',\n",
       "       'memory_card', 'air_conditioner', 'extension_cord', 'baby_soap',\n",
       "       'car_mobile_holder', 'mobile_battery', 'leather_pant', 'cad_game',\n",
       "       'mic', 'wallet', 'mcafee_antivirus', 'wall_hangings',\n",
       "       'photo_frames', 'hanger', 'drums_set', 'gaming_mouse', 'backpack',\n",
       "       'carpet', 'gardening_knife', 'wireless_headphones', 'chromecast',\n",
       "       'hair_bands', 'gift_containers', 'kids_tshirt', 'baby_shower_gel',\n",
       "       'digital_air_fryer', 'home_theater', 'play_station',\n",
       "       'photo_day_pack', 'wooden_table', 'wooden_cot', 'monopod',\n",
       "       'paintings', 'flash_drives', 'socks', 'crayons', 'waist_belt',\n",
       "       'kadaa', 'lightning_cable', 'refrigerator_cover', 'harddisk_cover',\n",
       "       'book_containers', 'fashion_tape', 'dumbbells', 'microphone',\n",
       "       'pots', 'flower_plant_seed', 'leather_jogger', 'mobile_cover',\n",
       "       'refined_oil', 'sweatshirts', 'epilator', 'pyjama', 'blazer',\n",
       "       'shoe_polish', 'portable_projectors', 'barcode_scanners',\n",
       "       'blood_pressure_monitor', 'data_cards', 'gaming_laptop',\n",
       "       'smart_lights', 'smart_glasses', 'internal_harddrive', 'soundbar',\n",
       "       'binoculars', 'recliners', 'office_tables', 'wardrobes',\n",
       "       'flower_vases', 'hand_tools', 'bulbs', 'batteries', 'bean_bags',\n",
       "       'cleaning_gloves', 'pet_toy', 'air_coolers', 'vaccum_cleaner',\n",
       "       'beard_oil', 'beverages', 'baby_wipes', 'soft_toys', 'school_bags',\n",
       "       'football', 'yoga_mat', 'car_freshner', 'contact_lens',\n",
       "       'split_airconditioner', 'coconut_oil', 'formal_shirt', 'cargo',\n",
       "       'ethinc_dresses', 'nightsuit', 'flipflops', 'large_travel_bags',\n",
       "       'jumpsuit', 'sippers', 'garden_tool_set', 'sandals',\n",
       "       'window_airconditioner', 'puppy_food', 'frames', 'boxer',\n",
       "       'infant_wear', 'sling_bag', 'drone', 'toners', 'gamepad',\n",
       "       'hair_dryer', 'router', 'processor', 'mini_powerbank',\n",
       "       'smart_switches', 'external_harddrive', 'curtains', 'sofa_sets',\n",
       "       'glassware', 'side_table', 'table_linen', 'umberla', 'door_lock',\n",
       "       'fire_extinguisher', 'wall_shelves', 'table_lamp', 'lunch_box',\n",
       "       'non_fiction', 'chocolates', 'sheets', 'puzzles', 'violin',\n",
       "       'arm_sleeve', 'sports_shoes', 'mobile_phone', 'weighing_scale',\n",
       "       'diapers', 'coffee_tables', 'literature', 'trimmer', 'bp_monitors',\n",
       "       'bluetooth_speakers', 'notebooks', 'dslr', 'toy_car', 'routers',\n",
       "       'pens', 'hand_blenders', 'coffee_makers', 'game_pad_large',\n",
       "       'gimbles', 'guitar_case', 'wet_grinders', 'smart_door_lock',\n",
       "       'audio_speakers', 'diaries', 'k7_security', 'hp_16gb',\n",
       "       'showpieces', 'measurement_devices', 'floor_covering', 'candle',\n",
       "       'barbie_doll', 'handcrafted_idol', 'wipes', 'palazzos',\n",
       "       'car_cover', 'rear_lamp', 'kids_shirt', 'toy_guns',\n",
       "       'scientific_products', 'traveller_bag', 'ipad', 'gift_wrappers',\n",
       "       'watering_can', 'goggles', 'ultra_hd_tv', 'fully_automated',\n",
       "       'inverter_ac', 'toaster_grills', 'mobile_holders', 'set_top_box',\n",
       "       'mattresses', 'mirrorless', 'harddrive_cover', 'figurines',\n",
       "       'lamps', 'dinner_set', 'blankets', 'ultility_box', 'key_holder',\n",
       "       'ceiling_light', 'pepper_stream_spray', 'dog_chain', 'containers',\n",
       "       'crime_novels', 'oil_containers', 'violin_string', 'bike_polish',\n",
       "       'perfumes', 'high_heels', 'electrical_wires', 'baby_care_set',\n",
       "       'wooden_sofa_set', 'jenga', 'swimming_fins', 'puzzle_play',\n",
       "       'air_tight_container', 'rubber_toys', 'tv_shelf',\n",
       "       'gardern_sprayers', 'crocs', 'laptop_charger', 'kid_tshirt',\n",
       "       'party_wear', 'ink_cartridges', 'travell_bags_large',\n",
       "       'paintings_small', 'study_table', 'amazon_alexa',\n",
       "       'fire_extinguisher_mini', 'smart_light', 'pillow_stand',\n",
       "       'food_colourings', 'chimneys', 'cooking_oil', 'soldering_kit',\n",
       "       'miniature', 'pooja_kit', 'soundbars', 'curved_tv', 'shoe_racks',\n",
       "       'bathroom_fitings', 'shaker_bottle', 'multiutility_plier',\n",
       "       'table_light', 'body_lotion', 'thermometer', 'sunscreens',\n",
       "       'teddy_bear', 'flour_bags', 'boxing_bag', 'markers', 'bracelets',\n",
       "       'treadmill', 'kurti'], dtype=object)"
      ]
     },
     "execution_count": 74,
     "metadata": {},
     "output_type": "execute_result"
    }
   ],
   "source": [
    "df1[\"sub_category\"].unique()"
   ]
  },
  {
   "cell_type": "code",
   "execution_count": 75,
   "id": "8005d168",
   "metadata": {
    "ExecuteTime": {
     "end_time": "2023-01-28T15:42:26.777515Z",
     "start_time": "2023-01-28T15:42:26.772459Z"
    }
   },
   "outputs": [
    {
     "data": {
      "text/plain": [
       "array(['first_app_open', 'search', 'product_view', 'read_reviews',\n",
       "       'add_review', 'add_to_cart', 'checkout', 'purchase',\n",
       "       'add_to_wishlist', 'click_wishlist_page', 'product_review'],\n",
       "      dtype=object)"
      ]
     },
     "execution_count": 75,
     "metadata": {},
     "output_type": "execute_result"
    }
   ],
   "source": [
    "df1[\"action\"].unique()"
   ]
  },
  {
   "cell_type": "markdown",
   "id": "a1c6958b",
   "metadata": {},
   "source": [
    "### 1.7.4. Correlation Matrix"
   ]
  },
  {
   "cell_type": "markdown",
   "id": "297b031d",
   "metadata": {},
   "source": [
    "Cramer's V method to evaluate correlation between categorical attributes."
   ]
  },
  {
   "cell_type": "code",
   "execution_count": 76,
   "id": "c10cad72",
   "metadata": {
    "ExecuteTime": {
     "end_time": "2023-01-28T15:42:55.373794Z",
     "start_time": "2023-01-28T15:42:55.082655Z"
    }
   },
   "outputs": [],
   "source": [
    "cat_attributes_list = cat_attributes.columns.tolist()\n",
    "\n",
    "corr_dict = {}\n",
    "for i in range( len (cat_attributes_list)):\n",
    "    corr_list = []\n",
    "    for j in range(len( cat_attributes_list)):\n",
    "        ref = cat_attributes_list[i]\n",
    "        feat = cat_attributes_list[j]\n",
    "        \n",
    "        # correlation\n",
    "        corr = cramer_v(cat_attributes[ref], cat_attributes[feat])\n",
    "        \n",
    "        # append a list\n",
    "        corr_list.append(corr)\n",
    "    \n",
    "    # appende a correlation list for each ref attributs\n",
    "    corr_dict[ref] = corr_list"
   ]
  },
  {
   "cell_type": "code",
   "execution_count": 77,
   "id": "0ac4d247",
   "metadata": {
    "ExecuteTime": {
     "end_time": "2023-01-28T15:42:56.302427Z",
     "start_time": "2023-01-28T15:42:56.115803Z"
    }
   },
   "outputs": [
    {
     "data": {
      "text/plain": [
       "<AxesSubplot:>"
      ]
     },
     "execution_count": 77,
     "metadata": {},
     "output_type": "execute_result"
    },
    {
     "data": {
      "image/png": "[encoded data removed]",
      "text/plain": [
       "<Figure size 1200x600 with 2 Axes>"
      ]
     },
     "metadata": {},
     "output_type": "display_data"
    }
   ],
   "source": [
    "plt.figure(figsize =(12,6))\n",
    "\n",
    "d = pd.DataFrame(corr_dict)\n",
    "d = d.set_index(d.columns)\n",
    "sns.heatmap(d, annot=True)"
   ]
  },
  {
   "cell_type": "markdown",
   "id": "e8b8cc10",
   "metadata": {},
   "source": [
    "- The maximum correlation value should be 1. Yet, sub_category is 1.1 correlated with sub_category. Since this happened for the same column, we are just going to consider this value as 1.\n",
    "- category and sub_category are high correlated. Since we have much more unique values for sub_category (section 1.7.2), we are going to remove category column in the section 3."
   ]
  },
  {
   "cell_type": "markdown",
   "id": "c3b6de3f",
   "metadata": {},
   "source": [
    "# 2. Feature Engineering"
   ]
  },
  {
   "cell_type": "code",
   "execution_count": 78,
   "id": "660633de",
   "metadata": {
    "ExecuteTime": {
     "end_time": "2023-01-28T15:43:02.652473Z",
     "start_time": "2023-01-28T15:43:02.649060Z"
    }
   },
   "outputs": [],
   "source": [
    "df2 = df1.copy()"
   ]
  },
  {
   "cell_type": "code",
   "execution_count": 79,
   "id": "3ad7d376",
   "metadata": {
    "ExecuteTime": {
     "end_time": "2023-01-28T15:43:03.290008Z",
     "start_time": "2023-01-28T15:43:03.285255Z"
    }
   },
   "outputs": [
    {
     "data": {
      "text/plain": [
       "user_id                  int64\n",
       "session_id              object\n",
       "date_time       datetime64[ns]\n",
       "category                object\n",
       "sub_category            object\n",
       "action                  object\n",
       "quantity               float64\n",
       "rate                   float64\n",
       "total_price            float64\n",
       "dtype: object"
      ]
     },
     "execution_count": 79,
     "metadata": {},
     "output_type": "execute_result"
    }
   ],
   "source": [
    "df2.dtypes"
   ]
  },
  {
   "cell_type": "code",
   "execution_count": 80,
   "id": "38cc109e",
   "metadata": {
    "ExecuteTime": {
     "end_time": "2023-01-28T15:43:05.080460Z",
     "start_time": "2023-01-28T15:43:05.069152Z"
    }
   },
   "outputs": [
    {
     "data": {
      "text/html": [
       "<div>\n",
       "<style scoped>\n",
       "    .dataframe tbody tr th:only-of-type {\n",
       "        vertical-align: middle;\n",
       "    }\n",
       "\n",
       "    .dataframe tbody tr th {\n",
       "        vertical-align: top;\n",
       "    }\n",
       "\n",
       "    .dataframe thead th {\n",
       "        text-align: right;\n",
       "    }\n",
       "</style>\n",
       "<table border=\"1\" class=\"dataframe\">\n",
       "  <thead>\n",
       "    <tr style=\"text-align: right;\">\n",
       "      <th></th>\n",
       "      <th>user_id</th>\n",
       "      <th>session_id</th>\n",
       "      <th>date_time</th>\n",
       "      <th>category</th>\n",
       "      <th>sub_category</th>\n",
       "      <th>action</th>\n",
       "      <th>quantity</th>\n",
       "      <th>rate</th>\n",
       "      <th>total_price</th>\n",
       "    </tr>\n",
       "  </thead>\n",
       "  <tbody>\n",
       "    <tr>\n",
       "      <th>0</th>\n",
       "      <td>52243841613</td>\n",
       "      <td>d76fde-8bb3-4e00-8c23</td>\n",
       "      <td>2019-01-10 10:20:00</td>\n",
       "      <td>electronic_appliances</td>\n",
       "      <td>speakers</td>\n",
       "      <td>first_app_open</td>\n",
       "      <td>0.0</td>\n",
       "      <td>0.0</td>\n",
       "      <td>0.0</td>\n",
       "    </tr>\n",
       "    <tr>\n",
       "      <th>1</th>\n",
       "      <td>52243841613</td>\n",
       "      <td>33dfbd-b87a-4708-9857</td>\n",
       "      <td>2019-01-10 10:22:00</td>\n",
       "      <td>electronic_appliances</td>\n",
       "      <td>speakers</td>\n",
       "      <td>search</td>\n",
       "      <td>0.0</td>\n",
       "      <td>0.0</td>\n",
       "      <td>0.0</td>\n",
       "    </tr>\n",
       "    <tr>\n",
       "      <th>2</th>\n",
       "      <td>57314161118</td>\n",
       "      <td>6511c2-e2e3-422b-b695</td>\n",
       "      <td>2019-01-10 14:00:00</td>\n",
       "      <td>men_fashion</td>\n",
       "      <td>jeans</td>\n",
       "      <td>search</td>\n",
       "      <td>0.0</td>\n",
       "      <td>0.0</td>\n",
       "      <td>0.0</td>\n",
       "    </tr>\n",
       "    <tr>\n",
       "      <th>3</th>\n",
       "      <td>57314161118</td>\n",
       "      <td>90fc70-0e80-4590-96f3</td>\n",
       "      <td>2019-01-10 14:07:00</td>\n",
       "      <td>men_fashion</td>\n",
       "      <td>jeans</td>\n",
       "      <td>product_view</td>\n",
       "      <td>0.0</td>\n",
       "      <td>0.0</td>\n",
       "      <td>0.0</td>\n",
       "    </tr>\n",
       "    <tr>\n",
       "      <th>4</th>\n",
       "      <td>57314161118</td>\n",
       "      <td>bd7419-2748-4c56-95b4</td>\n",
       "      <td>2019-01-10 14:12:00</td>\n",
       "      <td>men_fashion</td>\n",
       "      <td>jeans</td>\n",
       "      <td>read_reviews</td>\n",
       "      <td>0.0</td>\n",
       "      <td>0.0</td>\n",
       "      <td>0.0</td>\n",
       "    </tr>\n",
       "  </tbody>\n",
       "</table>\n",
       "</div>"
      ],
      "text/plain": [
       "       user_id             session_id           date_time  \\\n",
       "0  52243841613  d76fde-8bb3-4e00-8c23 2019-01-10 10:20:00   \n",
       "1  52243841613  33dfbd-b87a-4708-9857 2019-01-10 10:22:00   \n",
       "2  57314161118  6511c2-e2e3-422b-b695 2019-01-10 14:00:00   \n",
       "3  57314161118  90fc70-0e80-4590-96f3 2019-01-10 14:07:00   \n",
       "4  57314161118  bd7419-2748-4c56-95b4 2019-01-10 14:12:00   \n",
       "\n",
       "                category sub_category          action  quantity  rate  \\\n",
       "0  electronic_appliances     speakers  first_app_open       0.0   0.0   \n",
       "1  electronic_appliances     speakers          search       0.0   0.0   \n",
       "2            men_fashion        jeans          search       0.0   0.0   \n",
       "3            men_fashion        jeans    product_view       0.0   0.0   \n",
       "4            men_fashion        jeans    read_reviews       0.0   0.0   \n",
       "\n",
       "   total_price  \n",
       "0          0.0  \n",
       "1          0.0  \n",
       "2          0.0  \n",
       "3          0.0  \n",
       "4          0.0  "
      ]
     },
     "execution_count": 80,
     "metadata": {},
     "output_type": "execute_result"
    }
   ],
   "source": [
    "df2.head()"
   ]
  },
  {
   "cell_type": "code",
   "execution_count": 81,
   "id": "61505477",
   "metadata": {
    "ExecuteTime": {
     "end_time": "2023-01-28T15:43:07.730104Z",
     "start_time": "2023-01-28T15:43:07.720992Z"
    }
   },
   "outputs": [],
   "source": [
    "# year \n",
    "df2['year'] = df2['date_time'].dt.year\n",
    "\n",
    "# month  \n",
    "df2['month'] = df2['date_time'].dt.month\n",
    "\n",
    "# day  \n",
    "df2['day'] = df2['date_time'].dt.day\n",
    "\n",
    "# day of week  \n",
    "df2['day_of_week'] = df2['date_time'].dt.dayofweek\n",
    "\n",
    "# week of year  \n",
    "df2['week_of_year'] = df2['date_time'].dt.weekofyear"
   ]
  },
  {
   "cell_type": "code",
   "execution_count": 82,
   "id": "98708a18",
   "metadata": {
    "ExecuteTime": {
     "end_time": "2023-01-28T15:43:09.263647Z",
     "start_time": "2023-01-28T15:43:09.259827Z"
    }
   },
   "outputs": [
    {
     "data": {
      "text/plain": [
       "(2090, 14)"
      ]
     },
     "execution_count": 82,
     "metadata": {},
     "output_type": "execute_result"
    }
   ],
   "source": [
    "df2.shape"
   ]
  },
  {
   "cell_type": "markdown",
   "id": "bb5275de",
   "metadata": {},
   "source": [
    "# 3. Feature Filtering and Selection"
   ]
  },
  {
   "cell_type": "markdown",
   "id": "7756eb98",
   "metadata": {},
   "source": [
    "We are going to filter rows and select columns based on the previous data description section. "
   ]
  },
  {
   "cell_type": "code",
   "execution_count": 128,
   "id": "c56881a8",
   "metadata": {
    "ExecuteTime": {
     "end_time": "2023-01-28T16:15:17.654235Z",
     "start_time": "2023-01-28T16:15:17.650758Z"
    }
   },
   "outputs": [],
   "source": [
    "df3 = df2.copy()"
   ]
  },
  {
   "cell_type": "markdown",
   "id": "dac246e8",
   "metadata": {},
   "source": [
    "## 3.1. Feature Filtering"
   ]
  },
  {
   "cell_type": "markdown",
   "id": "5a22f5db",
   "metadata": {},
   "source": [
    "Removing outliers based on 75 percentile. "
   ]
  },
  {
   "cell_type": "code",
   "execution_count": 129,
   "id": "9a6deb6d",
   "metadata": {
    "ExecuteTime": {
     "end_time": "2023-01-28T16:15:19.206187Z",
     "start_time": "2023-01-28T16:15:19.201319Z"
    }
   },
   "outputs": [],
   "source": [
    "df3 = df3[(df3[\"quantity\"] < 100) & (df3[\"rate\"] <= 6000) \n",
    "          & (df3[\"total_price\"] <= 8000)]"
   ]
  },
  {
   "cell_type": "markdown",
   "id": "5654a81f",
   "metadata": {},
   "source": [
    "## 3.2. Columns Selection"
   ]
  },
  {
   "cell_type": "markdown",
   "id": "d34922f2",
   "metadata": {},
   "source": [
    "Based on the section 1.7.4, we chose the category column to be removed. We must have the minimum number of columns which describe the same phenomenon in the model in order to avoid overfitting."
   ]
  },
  {
   "cell_type": "code",
   "execution_count": 130,
   "id": "da287d68",
   "metadata": {
    "ExecuteTime": {
     "end_time": "2023-01-28T16:15:20.757074Z",
     "start_time": "2023-01-28T16:15:20.753609Z"
    }
   },
   "outputs": [],
   "source": [
    "cols_drop = [\"category\"]\n",
    "df3 = df3.drop(cols_drop, axis=1)"
   ]
  },
  {
   "cell_type": "code",
   "execution_count": 131,
   "id": "b9a4281a",
   "metadata": {
    "ExecuteTime": {
     "end_time": "2023-01-28T16:15:21.142573Z",
     "start_time": "2023-01-28T16:15:21.138402Z"
    }
   },
   "outputs": [
    {
     "data": {
      "text/plain": [
       "(2090, 14)"
      ]
     },
     "execution_count": 131,
     "metadata": {},
     "output_type": "execute_result"
    }
   ],
   "source": [
    "df2.shape"
   ]
  },
  {
   "cell_type": "code",
   "execution_count": 132,
   "id": "c06c532d",
   "metadata": {
    "ExecuteTime": {
     "end_time": "2023-01-28T16:15:21.789840Z",
     "start_time": "2023-01-28T16:15:21.786138Z"
    }
   },
   "outputs": [
    {
     "data": {
      "text/plain": [
       "(2032, 13)"
      ]
     },
     "execution_count": 132,
     "metadata": {},
     "output_type": "execute_result"
    }
   ],
   "source": [
    "df3.shape"
   ]
  },
  {
   "cell_type": "markdown",
   "id": "ac38a9c9",
   "metadata": {},
   "source": [
    "# 4. Exploratory Data Analysis (EDA)"
   ]
  },
  {
   "cell_type": "markdown",
   "id": "c2b89b87",
   "metadata": {},
   "source": [
    "The main objectives of this section is:\n",
    "\n",
    "- To acquire business experience from data.\n",
    "- To generate insights to the business team.\n",
    "- To evaluate features impact over the phenomenon."
   ]
  },
  {
   "cell_type": "code",
   "execution_count": 85,
   "id": "dcb1404c",
   "metadata": {
    "ExecuteTime": {
     "end_time": "2023-01-28T15:43:19.540222Z",
     "start_time": "2023-01-28T15:43:19.536947Z"
    }
   },
   "outputs": [],
   "source": [
    "df4 = df2.copy()"
   ]
  },
  {
   "cell_type": "code",
   "execution_count": 86,
   "id": "c8e9289f",
   "metadata": {
    "ExecuteTime": {
     "end_time": "2023-01-28T15:43:20.232682Z",
     "start_time": "2023-01-28T15:43:20.221577Z"
    }
   },
   "outputs": [
    {
     "data": {
      "text/html": [
       "<div>\n",
       "<style scoped>\n",
       "    .dataframe tbody tr th:only-of-type {\n",
       "        vertical-align: middle;\n",
       "    }\n",
       "\n",
       "    .dataframe tbody tr th {\n",
       "        vertical-align: top;\n",
       "    }\n",
       "\n",
       "    .dataframe thead th {\n",
       "        text-align: right;\n",
       "    }\n",
       "</style>\n",
       "<table border=\"1\" class=\"dataframe\">\n",
       "  <thead>\n",
       "    <tr style=\"text-align: right;\">\n",
       "      <th></th>\n",
       "      <th>user_id</th>\n",
       "      <th>session_id</th>\n",
       "      <th>date_time</th>\n",
       "      <th>category</th>\n",
       "      <th>sub_category</th>\n",
       "      <th>action</th>\n",
       "      <th>quantity</th>\n",
       "      <th>rate</th>\n",
       "      <th>total_price</th>\n",
       "      <th>year</th>\n",
       "      <th>month</th>\n",
       "      <th>day</th>\n",
       "      <th>day_of_week</th>\n",
       "      <th>week_of_year</th>\n",
       "    </tr>\n",
       "  </thead>\n",
       "  <tbody>\n",
       "    <tr>\n",
       "      <th>0</th>\n",
       "      <td>52243841613</td>\n",
       "      <td>d76fde-8bb3-4e00-8c23</td>\n",
       "      <td>2019-01-10 10:20:00</td>\n",
       "      <td>electronic_appliances</td>\n",
       "      <td>speakers</td>\n",
       "      <td>first_app_open</td>\n",
       "      <td>0.0</td>\n",
       "      <td>0.0</td>\n",
       "      <td>0.0</td>\n",
       "      <td>2019</td>\n",
       "      <td>1</td>\n",
       "      <td>10</td>\n",
       "      <td>3</td>\n",
       "      <td>2</td>\n",
       "    </tr>\n",
       "    <tr>\n",
       "      <th>1</th>\n",
       "      <td>52243841613</td>\n",
       "      <td>33dfbd-b87a-4708-9857</td>\n",
       "      <td>2019-01-10 10:22:00</td>\n",
       "      <td>electronic_appliances</td>\n",
       "      <td>speakers</td>\n",
       "      <td>search</td>\n",
       "      <td>0.0</td>\n",
       "      <td>0.0</td>\n",
       "      <td>0.0</td>\n",
       "      <td>2019</td>\n",
       "      <td>1</td>\n",
       "      <td>10</td>\n",
       "      <td>3</td>\n",
       "      <td>2</td>\n",
       "    </tr>\n",
       "    <tr>\n",
       "      <th>2</th>\n",
       "      <td>57314161118</td>\n",
       "      <td>6511c2-e2e3-422b-b695</td>\n",
       "      <td>2019-01-10 14:00:00</td>\n",
       "      <td>men_fashion</td>\n",
       "      <td>jeans</td>\n",
       "      <td>search</td>\n",
       "      <td>0.0</td>\n",
       "      <td>0.0</td>\n",
       "      <td>0.0</td>\n",
       "      <td>2019</td>\n",
       "      <td>1</td>\n",
       "      <td>10</td>\n",
       "      <td>3</td>\n",
       "      <td>2</td>\n",
       "    </tr>\n",
       "    <tr>\n",
       "      <th>3</th>\n",
       "      <td>57314161118</td>\n",
       "      <td>90fc70-0e80-4590-96f3</td>\n",
       "      <td>2019-01-10 14:07:00</td>\n",
       "      <td>men_fashion</td>\n",
       "      <td>jeans</td>\n",
       "      <td>product_view</td>\n",
       "      <td>0.0</td>\n",
       "      <td>0.0</td>\n",
       "      <td>0.0</td>\n",
       "      <td>2019</td>\n",
       "      <td>1</td>\n",
       "      <td>10</td>\n",
       "      <td>3</td>\n",
       "      <td>2</td>\n",
       "    </tr>\n",
       "    <tr>\n",
       "      <th>4</th>\n",
       "      <td>57314161118</td>\n",
       "      <td>bd7419-2748-4c56-95b4</td>\n",
       "      <td>2019-01-10 14:12:00</td>\n",
       "      <td>men_fashion</td>\n",
       "      <td>jeans</td>\n",
       "      <td>read_reviews</td>\n",
       "      <td>0.0</td>\n",
       "      <td>0.0</td>\n",
       "      <td>0.0</td>\n",
       "      <td>2019</td>\n",
       "      <td>1</td>\n",
       "      <td>10</td>\n",
       "      <td>3</td>\n",
       "      <td>2</td>\n",
       "    </tr>\n",
       "  </tbody>\n",
       "</table>\n",
       "</div>"
      ],
      "text/plain": [
       "       user_id             session_id           date_time  \\\n",
       "0  52243841613  d76fde-8bb3-4e00-8c23 2019-01-10 10:20:00   \n",
       "1  52243841613  33dfbd-b87a-4708-9857 2019-01-10 10:22:00   \n",
       "2  57314161118  6511c2-e2e3-422b-b695 2019-01-10 14:00:00   \n",
       "3  57314161118  90fc70-0e80-4590-96f3 2019-01-10 14:07:00   \n",
       "4  57314161118  bd7419-2748-4c56-95b4 2019-01-10 14:12:00   \n",
       "\n",
       "                category sub_category          action  quantity  rate  \\\n",
       "0  electronic_appliances     speakers  first_app_open       0.0   0.0   \n",
       "1  electronic_appliances     speakers          search       0.0   0.0   \n",
       "2            men_fashion        jeans          search       0.0   0.0   \n",
       "3            men_fashion        jeans    product_view       0.0   0.0   \n",
       "4            men_fashion        jeans    read_reviews       0.0   0.0   \n",
       "\n",
       "   total_price  year  month  day  day_of_week  week_of_year  \n",
       "0          0.0  2019      1   10            3             2  \n",
       "1          0.0  2019      1   10            3             2  \n",
       "2          0.0  2019      1   10            3             2  \n",
       "3          0.0  2019      1   10            3             2  \n",
       "4          0.0  2019      1   10            3             2  "
      ]
     },
     "execution_count": 86,
     "metadata": {},
     "output_type": "execute_result"
    }
   ],
   "source": [
    "df4.head()"
   ]
  },
  {
   "cell_type": "markdown",
   "id": "26dc4774",
   "metadata": {},
   "source": [
    "## 4.1. Univariate Analysis"
   ]
  },
  {
   "cell_type": "code",
   "execution_count": 56,
   "id": "017f3180",
   "metadata": {
    "ExecuteTime": {
     "end_time": "2023-01-28T15:07:57.724289Z",
     "start_time": "2023-01-28T15:07:46.376759Z"
    }
   },
   "outputs": [
    {
     "data": {
      "application/vnd.jupyter.widget-view+json": {
       "model_id": "df5144b7f0ed4916a4f6bd8d5ea634cb",
       "version_major": 2,
       "version_minor": 0
      },
      "text/plain": [
       "Summarize dataset:   0%|          | 0/5 [00:00<?, ?it/s]"
      ]
     },
     "metadata": {},
     "output_type": "display_data"
    },
    {
     "data": {
      "application/vnd.jupyter.widget-view+json": {
       "model_id": "d69d339612f848a3bfbf2418d5197f21",
       "version_major": 2,
       "version_minor": 0
      },
      "text/plain": [
       "Generate report structure:   0%|          | 0/1 [00:00<?, ?it/s]"
      ]
     },
     "metadata": {},
     "output_type": "display_data"
    },
    {
     "data": {
      "application/vnd.jupyter.widget-view+json": {
       "model_id": "2da7c048e7bb4b84b01d9ecc01171fae",
       "version_major": 2,
       "version_minor": 0
      },
      "text/plain": [
       "Render HTML:   0%|          | 0/1 [00:00<?, ?it/s]"
      ]
     },
     "metadata": {},
     "output_type": "display_data"
    },
    {
     "data": {
      "application/vnd.jupyter.widget-view+json": {
       "model_id": "f4455a4363164d8db9dd6b5ebb57e1f3",
       "version_major": 2,
       "version_minor": 0
      },
      "text/plain": [
       "Export report to file:   0%|          | 0/1 [00:00<?, ?it/s]"
      ]
     },
     "metadata": {},
     "output_type": "display_data"
    }
   ],
   "source": [
    "profile = ProfileReport(df4, title='Customer Propensity to Purchase')\n",
    "profile.to_file(output_file='customer_propensity_purchase_statistics_after_cleaning.html')"
   ]
  },
  {
   "cell_type": "markdown",
   "id": "5f99dc7a",
   "metadata": {},
   "source": [
    "We found that the columns quantity, rate and total_price are high correlation with each other. We are going to better analyze before deciding remove each of them."
   ]
  },
  {
   "cell_type": "code",
   "execution_count": 87,
   "id": "229b9c22",
   "metadata": {
    "ExecuteTime": {
     "end_time": "2023-01-28T15:43:26.232869Z",
     "start_time": "2023-01-28T15:43:26.228020Z"
    }
   },
   "outputs": [
    {
     "name": "stdout",
     "output_type": "stream",
     "text": [
      "Min Date: 2019-01-01 11:00:00\n",
      "Max Date: 2019-12-22 17:52:00\n",
      "Range: 355 days 06:52:00\n"
     ]
    }
   ],
   "source": [
    "# Timerange of data\n",
    "print(\"Min Date: \" +str(df4.date_time.min()))\n",
    "print(\"Max Date: \" +str(df4.date_time.max()))\n",
    "print(\"Range: \" +str(df4.date_time.max()-df4.date_time.min()))"
   ]
  },
  {
   "cell_type": "code",
   "execution_count": 124,
   "id": "01b2c62a",
   "metadata": {
    "ExecuteTime": {
     "end_time": "2023-01-28T16:09:21.890916Z",
     "start_time": "2023-01-28T16:09:21.865783Z"
    }
   },
   "outputs": [
    {
     "data": {
      "text/html": [
       "<div>\n",
       "<style scoped>\n",
       "    .dataframe tbody tr th:only-of-type {\n",
       "        vertical-align: middle;\n",
       "    }\n",
       "\n",
       "    .dataframe tbody tr th {\n",
       "        vertical-align: top;\n",
       "    }\n",
       "\n",
       "    .dataframe thead th {\n",
       "        text-align: right;\n",
       "    }\n",
       "</style>\n",
       "<table border=\"1\" class=\"dataframe\">\n",
       "  <thead>\n",
       "    <tr style=\"text-align: right;\">\n",
       "      <th></th>\n",
       "      <th>count</th>\n",
       "      <th>mean</th>\n",
       "      <th>std</th>\n",
       "      <th>min</th>\n",
       "      <th>25%</th>\n",
       "      <th>50%</th>\n",
       "      <th>75%</th>\n",
       "      <th>max</th>\n",
       "    </tr>\n",
       "  </thead>\n",
       "  <tbody>\n",
       "    <tr>\n",
       "      <th>user_id</th>\n",
       "      <td>201.00</td>\n",
       "      <td>53901272628.92</td>\n",
       "      <td>2816738504.08</td>\n",
       "      <td>51448162784.00</td>\n",
       "      <td>51725305614.00</td>\n",
       "      <td>52313781035.00</td>\n",
       "      <td>55538327311.00</td>\n",
       "      <td>60302643179.00</td>\n",
       "    </tr>\n",
       "    <tr>\n",
       "      <th>quantity</th>\n",
       "      <td>201.00</td>\n",
       "      <td>2.97</td>\n",
       "      <td>7.16</td>\n",
       "      <td>1.00</td>\n",
       "      <td>1.00</td>\n",
       "      <td>2.00</td>\n",
       "      <td>3.00</td>\n",
       "      <td>100.00</td>\n",
       "    </tr>\n",
       "    <tr>\n",
       "      <th>rate</th>\n",
       "      <td>201.00</td>\n",
       "      <td>7133.28</td>\n",
       "      <td>14778.15</td>\n",
       "      <td>10.00</td>\n",
       "      <td>500.00</td>\n",
       "      <td>1200.00</td>\n",
       "      <td>6000.00</td>\n",
       "      <td>90000.00</td>\n",
       "    </tr>\n",
       "    <tr>\n",
       "      <th>total_price</th>\n",
       "      <td>201.00</td>\n",
       "      <td>9455.37</td>\n",
       "      <td>18213.70</td>\n",
       "      <td>150.00</td>\n",
       "      <td>1000.00</td>\n",
       "      <td>2500.00</td>\n",
       "      <td>8000.00</td>\n",
       "      <td>160000.00</td>\n",
       "    </tr>\n",
       "    <tr>\n",
       "      <th>year</th>\n",
       "      <td>201.00</td>\n",
       "      <td>2019.00</td>\n",
       "      <td>0.00</td>\n",
       "      <td>2019.00</td>\n",
       "      <td>2019.00</td>\n",
       "      <td>2019.00</td>\n",
       "      <td>2019.00</td>\n",
       "      <td>2019.00</td>\n",
       "    </tr>\n",
       "    <tr>\n",
       "      <th>month</th>\n",
       "      <td>201.00</td>\n",
       "      <td>8.29</td>\n",
       "      <td>3.04</td>\n",
       "      <td>1.00</td>\n",
       "      <td>6.00</td>\n",
       "      <td>10.00</td>\n",
       "      <td>10.00</td>\n",
       "      <td>12.00</td>\n",
       "    </tr>\n",
       "    <tr>\n",
       "      <th>day</th>\n",
       "      <td>201.00</td>\n",
       "      <td>14.15</td>\n",
       "      <td>6.18</td>\n",
       "      <td>1.00</td>\n",
       "      <td>11.00</td>\n",
       "      <td>11.00</td>\n",
       "      <td>17.00</td>\n",
       "      <td>31.00</td>\n",
       "    </tr>\n",
       "    <tr>\n",
       "      <th>day_of_week</th>\n",
       "      <td>201.00</td>\n",
       "      <td>2.32</td>\n",
       "      <td>1.89</td>\n",
       "      <td>0.00</td>\n",
       "      <td>0.00</td>\n",
       "      <td>2.00</td>\n",
       "      <td>4.00</td>\n",
       "      <td>6.00</td>\n",
       "    </tr>\n",
       "    <tr>\n",
       "      <th>week_of_year</th>\n",
       "      <td>201.00</td>\n",
       "      <td>34.27</td>\n",
       "      <td>13.31</td>\n",
       "      <td>2.00</td>\n",
       "      <td>24.00</td>\n",
       "      <td>41.00</td>\n",
       "      <td>44.00</td>\n",
       "      <td>51.00</td>\n",
       "    </tr>\n",
       "  </tbody>\n",
       "</table>\n",
       "</div>"
      ],
      "text/plain": [
       "              count           mean           std            min  \\\n",
       "user_id      201.00 53901272628.92 2816738504.08 51448162784.00   \n",
       "quantity     201.00           2.97          7.16           1.00   \n",
       "rate         201.00        7133.28      14778.15          10.00   \n",
       "total_price  201.00        9455.37      18213.70         150.00   \n",
       "year         201.00        2019.00          0.00        2019.00   \n",
       "month        201.00           8.29          3.04           1.00   \n",
       "day          201.00          14.15          6.18           1.00   \n",
       "day_of_week  201.00           2.32          1.89           0.00   \n",
       "week_of_year 201.00          34.27         13.31           2.00   \n",
       "\n",
       "                        25%            50%            75%            max  \n",
       "user_id      51725305614.00 52313781035.00 55538327311.00 60302643179.00  \n",
       "quantity               1.00           2.00           3.00         100.00  \n",
       "rate                 500.00        1200.00        6000.00       90000.00  \n",
       "total_price         1000.00        2500.00        8000.00      160000.00  \n",
       "year                2019.00        2019.00        2019.00        2019.00  \n",
       "month                  6.00          10.00          10.00          12.00  \n",
       "day                   11.00          11.00          17.00          31.00  \n",
       "day_of_week            0.00           2.00           4.00           6.00  \n",
       "week_of_year          24.00          41.00          44.00          51.00  "
      ]
     },
     "execution_count": 124,
     "metadata": {},
     "output_type": "execute_result"
    }
   ],
   "source": [
    "pd.set_option('display.float_format', lambda x: '%.2f' % x)\n",
    "df4[df4[\"quantity\"] > 0].describe().T"
   ]
  },
  {
   "cell_type": "markdown",
   "id": "341c8b9b",
   "metadata": {},
   "source": [
    "The three variables have the same count. We may not choose any variable based on a minor count though."
   ]
  },
  {
   "cell_type": "code",
   "execution_count": 89,
   "id": "42b240dc",
   "metadata": {
    "ExecuteTime": {
     "end_time": "2023-01-28T15:43:30.229064Z",
     "start_time": "2023-01-28T15:43:30.032543Z"
    }
   },
   "outputs": [
    {
     "name": "stdout",
     "output_type": "stream",
     "text": [
      "Total Unique Categories: 101\n"
     ]
    },
    {
     "data": {
      "image/png": "[encoded data removed]",
      "text/plain": [
       "<Figure size 1500x500 with 1 Axes>"
      ]
     },
     "metadata": {},
     "output_type": "display_data"
    }
   ],
   "source": [
    "# Distribution of Category\n",
    "print(\"Total Unique Categories: \" + str(df4.category.nunique()))\n",
    "temp_category = df4.groupby('category')['session_id'].count().sort_values(ascending=False).reset_index()[:10]\n",
    "\n",
    "plt.figure(figsize=(15,5))\n",
    "plt.bar(temp_category.category, temp_category.session_id)\n",
    "plt.title(\"Top 10 more frequently viewed categories\", size=15)\n",
    "plt.xticks(rotation=45)\n",
    "plt.xlabel(\"Category\")\n",
    "plt.ylabel(\"Number of sessions per category\")\n",
    "plt.show()"
   ]
  },
  {
   "cell_type": "code",
   "execution_count": 90,
   "id": "92917fc7",
   "metadata": {
    "ExecuteTime": {
     "end_time": "2023-01-28T15:43:32.336145Z",
     "start_time": "2023-01-28T15:43:32.162049Z"
    }
   },
   "outputs": [
    {
     "name": "stdout",
     "output_type": "stream",
     "text": [
      "Total Unique SubCategories: 358\n"
     ]
    },
    {
     "data": {
      "image/png": "[encoded data removed]",
      "text/plain": [
       "<Figure size 1500x500 with 1 Axes>"
      ]
     },
     "metadata": {},
     "output_type": "display_data"
    }
   ],
   "source": [
    "# Distribution of SubCategory\n",
    "print(\"Total Unique SubCategories: \" + str(df4.sub_category.nunique()))\n",
    "temp_subcategory = df4.groupby('sub_category')['session_id'].count().sort_values(ascending=False).reset_index()[:10]\n",
    "\n",
    "plt.figure(figsize=(15,5))\n",
    "plt.bar(temp_subcategory.sub_category, temp_subcategory.session_id)\n",
    "plt.title(\"Top 10 more frequently viewed Subcategories\", size=15)\n",
    "plt.xticks(rotation=45)\n",
    "plt.xlabel(\"Subcategory\")\n",
    "plt.ylabel(\"Number of sessions per subcategory\")\n",
    "plt.show()"
   ]
  },
  {
   "cell_type": "code",
   "execution_count": 95,
   "id": "d251f53a",
   "metadata": {
    "ExecuteTime": {
     "end_time": "2023-01-28T15:46:01.609993Z",
     "start_time": "2023-01-28T15:46:01.418381Z"
    }
   },
   "outputs": [
    {
     "data": {
      "text/plain": [
       "read_reviews           343\n",
       "search                 320\n",
       "product_view           292\n",
       "add_to_cart            280\n",
       "checkout               202\n",
       "click_wishlist_page    202\n",
       "purchase               201\n",
       "first_app_open         121\n",
       "add_review              69\n",
       "add_to_wishlist         38\n",
       "product_review          22\n",
       "Name: action, dtype: int64"
      ]
     },
     "metadata": {},
     "output_type": "display_data"
    },
    {
     "name": "stdout",
     "output_type": "stream",
     "text": [
      "Total Unique Actions: 11\n"
     ]
    },
    {
     "data": {
      "image/png": "[encoded data removed]",
      "text/plain": [
       "<Figure size 1500x500 with 1 Axes>"
      ]
     },
     "metadata": {},
     "output_type": "display_data"
    }
   ],
   "source": [
    "# Distribution of Action\n",
    "display(df4.action.value_counts())\n",
    "\n",
    "print(\"Total Unique Actions: \" + str(df4.action.nunique()))\n",
    "temp_actions = df4.groupby('action')['session_id'].count().sort_values(ascending=False).reset_index()[:10]\n",
    "\n",
    "plt.figure(figsize=(15,5))\n",
    "plt.bar(temp_actions.action, temp_actions.session_id)\n",
    "plt.title(\"Top 10 more frequently did Actions\", size=15)\n",
    "plt.xticks(rotation=45)\n",
    "plt.xlabel(\"Action\")\n",
    "plt.ylabel(\"Number of sessions per action\")\n",
    "plt.show()"
   ]
  },
  {
   "cell_type": "markdown",
   "id": "b5582a51",
   "metadata": {},
   "source": [
    "## 4.2 Bivariate Analysis"
   ]
  },
  {
   "cell_type": "markdown",
   "id": "6bc1696c",
   "metadata": {},
   "source": [
    "We are going to perform bivariate analysis in order evaluate how the features are correlated with the target variable."
   ]
  },
  {
   "cell_type": "markdown",
   "id": "6a184516",
   "metadata": {},
   "source": [
    "Based on the initial understanding of the different columns in the data (univariate analysis), we can create some hypothesis (if any) or try to ask more complex questions such as:\n",
    "\n",
    "1. How many unique users in the data and how many of them purchased at least once? Also, what is the average number of purchase per customer?\n",
    "2. Which is the most purchased Category/Sub-category?\n",
    "3. Do people add the products to cart before they purchase or buy directly?\n",
    "4. What is the average time taken by a user to buy a product?\n",
    "5. What is the average time between repeat purchase?\n",
    "6. What is the trend of unique users across the time period?\n",
    "7. What is the trend of purchase across the time period?\n",
    "8. This is not the exhaustive list but good to start with."
   ]
  },
  {
   "cell_type": "markdown",
   "id": "630f15d7",
   "metadata": {},
   "source": [
    "#### 1. How many unique users in the data and how many of them purchased at least once? Also, what is the average number of purchase per customer?"
   ]
  },
  {
   "cell_type": "markdown",
   "id": "2389f4fa",
   "metadata": {},
   "source": [
    "The \"agg\" function in Python: this is typically used to aggregate data in a DataFrame. Specifically, it is counting the number of rows in the \"sub_category\" column of the DataFrame. As we are filtering the sub_category \"purchase\", we see the number of rows for purchase. The result of this function would be a single value representing the count of rows in the \"sub_category\" column equals to \"purchase\". As we grouped by user_id before, thus the result is the number of purchase rows per user_id (an average value). "
   ]
  },
  {
   "cell_type": "code",
   "execution_count": 138,
   "id": "9847e69d",
   "metadata": {
    "ExecuteTime": {
     "end_time": "2023-01-28T16:50:09.957155Z",
     "start_time": "2023-01-28T16:50:09.940450Z"
    }
   },
   "outputs": [
    {
     "name": "stdout",
     "output_type": "stream",
     "text": [
      "Total customers: 401.\n",
      "Customers who made at least 1 purchase: 167 (42.0% conversion)\n",
      "Average number of purchase per customer: 1.2\n",
      "\n",
      "Distribution of Number of Purchases:\n"
     ]
    },
    {
     "data": {
      "text/html": [
       "<div>\n",
       "<style scoped>\n",
       "    .dataframe tbody tr th:only-of-type {\n",
       "        vertical-align: middle;\n",
       "    }\n",
       "\n",
       "    .dataframe tbody tr th {\n",
       "        vertical-align: top;\n",
       "    }\n",
       "\n",
       "    .dataframe thead th {\n",
       "        text-align: right;\n",
       "    }\n",
       "</style>\n",
       "<table border=\"1\" class=\"dataframe\">\n",
       "  <thead>\n",
       "    <tr style=\"text-align: right;\">\n",
       "      <th></th>\n",
       "      <th>number_of_purchase</th>\n",
       "    </tr>\n",
       "  </thead>\n",
       "  <tbody>\n",
       "    <tr>\n",
       "      <th>count</th>\n",
       "      <td>167.00</td>\n",
       "    </tr>\n",
       "    <tr>\n",
       "      <th>mean</th>\n",
       "      <td>1.20</td>\n",
       "    </tr>\n",
       "    <tr>\n",
       "      <th>std</th>\n",
       "      <td>0.43</td>\n",
       "    </tr>\n",
       "    <tr>\n",
       "      <th>min</th>\n",
       "      <td>1.00</td>\n",
       "    </tr>\n",
       "    <tr>\n",
       "      <th>25%</th>\n",
       "      <td>1.00</td>\n",
       "    </tr>\n",
       "    <tr>\n",
       "      <th>50%</th>\n",
       "      <td>1.00</td>\n",
       "    </tr>\n",
       "    <tr>\n",
       "      <th>75%</th>\n",
       "      <td>1.00</td>\n",
       "    </tr>\n",
       "    <tr>\n",
       "      <th>max</th>\n",
       "      <td>3.00</td>\n",
       "    </tr>\n",
       "  </tbody>\n",
       "</table>\n",
       "</div>"
      ],
      "text/plain": [
       "       number_of_purchase\n",
       "count              167.00\n",
       "mean                 1.20\n",
       "std                  0.43\n",
       "min                  1.00\n",
       "25%                  1.00\n",
       "50%                  1.00\n",
       "75%                  1.00\n",
       "max                  3.00"
      ]
     },
     "metadata": {},
     "output_type": "display_data"
    }
   ],
   "source": [
    "# unique customers \n",
    "total_users = df4.user_id.nunique()\n",
    "print(f\"Total customers: {total_users}.\")\n",
    "\n",
    "# at least 1 purchase customer\n",
    "atleast_one_purchase_cust = df4[df4['action']=='purchase']['user_id'].nunique()\n",
    "conversion = 100*round(atleast_one_purchase_cust/total_users, 2)\n",
    "print(f\"Customers who made at least 1 purchase: {atleast_one_purchase_cust} ({conversion}% conversion)\")\n",
    "\n",
    "# avg purchase per customer\n",
    "purch_dist_by_cust = (df4[df4['action']=='purchase'].groupby('user_id').agg({'sub_category': 'count'})\n",
    "                      .reset_index().sort_values(by='sub_category', ascending=False) # True or False\n",
    "                     )\n",
    "purch_dist_by_cust.rename(columns={'sub_category':'number_of_purchase'}, inplace=True)\n",
    "\n",
    "print(f\"Average number of purchase per customer: {round(purch_dist_by_cust.number_of_purchase.mean(), 2)}\")\n",
    "\n",
    "print(\"\\nDistribution of Number of Purchases:\")\n",
    "display(purch_dist_by_cust[['number_of_purchase']].describe())"
   ]
  },
  {
   "cell_type": "code",
   "execution_count": null,
   "id": "7ab0b1ac",
   "metadata": {},
   "outputs": [],
   "source": []
  }
 ],
 "metadata": {
  "kernelspec": {
   "display_name": "Python 3 (ipykernel)",
   "language": "python",
   "name": "python3"
  },
  "language_info": {
   "codemirror_mode": {
    "name": "ipython",
    "version": 3
   },
   "file_extension": ".py",
   "mimetype": "text/x-python",
   "name": "python",
   "nbconvert_exporter": "python",
   "pygments_lexer": "ipython3",
   "version": "3.9.13"
  }
 },
 "nbformat": 4,
 "nbformat_minor": 5
}
